{
 "cells": [
  {
   "cell_type": "markdown",
   "id": "416e4123",
   "metadata": {},
   "source": [
    "<a id=\"TableOfContents\"></a>\n",
    "# TABLE OF CONTENTS:\n",
    "<li><a href='#imports'>Imports</a></li>\n",
    "<li><a href=\"#Q1\">Question 1</a></li>\n",
    "<li><a href=\"#Q2\">Question 2</a></li>\n",
    "<li><a href=\"#Q3\">Question 3</a></li>\n",
    "<li><a href=\"#Q4\">Question 4</a></li>\n",
    "<li><a href=\"#Q5\">Question 5</a></li>\n",
    "<li><a href=\"#Q6\">Question 6</a></li>\n",
    "<li><a href=\"#Q7\">Question 7</a></li>\n",
    "<li><a href=\"#Bonus1\">Bonus-1</a></li>\n",
    "<li><a href=\"#Bonus2\">Bonus-2</a></li>"
   ]
  },
  {
   "cell_type": "markdown",
   "id": "f714fe30",
   "metadata": {},
   "source": [
    "<a id='imports'></a>\n",
    "# IMPORTS:\n",
    "<li><a href='#TableOfContents'>Table of Contents</a></li>"
   ]
  },
  {
   "cell_type": "code",
   "execution_count": 1,
   "id": "1f451ea4",
   "metadata": {},
   "outputs": [],
   "source": [
    "# Basic sheiza\n",
    "import numpy as np\n",
    "import pandas as pd\n",
    "import seaborn as sns\n",
    "import matplotlib.pyplot as plt\n",
    "\n",
    "# Stats/Explore\n",
    "from scipy import stats\n",
    "\n",
    "# Modeling\n",
    "from sklearn.model_selection import train_test_split\n",
    "from sklearn.tree import DecisionTreeClassifier, export_text, plot_tree\n",
    "from sklearn.metrics import accuracy_score, classification_report, confusion_matrix\n",
    "from sklearn.ensemble import RandomForestClassifier\n",
    "\n",
    "# .py file(s)\n",
    "import acquire\n",
    "import prepare\n",
    "import explore\n",
    "import evaluation\n",
    "import model"
   ]
  },
  {
   "cell_type": "markdown",
   "id": "5684cbbf",
   "metadata": {},
   "source": [
    "Using the titanic data, in your classification-exercises repository, create a notebook, decision_tree.ipynb where you will do the following:"
   ]
  },
  {
   "cell_type": "code",
   "execution_count": 2,
   "id": "e9389bb0",
   "metadata": {},
   "outputs": [
    {
     "data": {
      "text/html": [
       "<div>\n",
       "<style scoped>\n",
       "    .dataframe tbody tr th:only-of-type {\n",
       "        vertical-align: middle;\n",
       "    }\n",
       "\n",
       "    .dataframe tbody tr th {\n",
       "        vertical-align: top;\n",
       "    }\n",
       "\n",
       "    .dataframe thead th {\n",
       "        text-align: right;\n",
       "    }\n",
       "</style>\n",
       "<table border=\"1\" class=\"dataframe\">\n",
       "  <thead>\n",
       "    <tr style=\"text-align: right;\">\n",
       "      <th></th>\n",
       "      <th>survived</th>\n",
       "      <th>pclass</th>\n",
       "      <th>sex</th>\n",
       "      <th>age</th>\n",
       "      <th>fare</th>\n",
       "      <th>embark_town</th>\n",
       "      <th>alone</th>\n",
       "      <th>sex_female</th>\n",
       "      <th>sex_male</th>\n",
       "      <th>embark_town_Cherbourg</th>\n",
       "      <th>embark_town_Queenstown</th>\n",
       "      <th>embark_town_Southampton</th>\n",
       "    </tr>\n",
       "  </thead>\n",
       "  <tbody>\n",
       "    <tr>\n",
       "      <th>626</th>\n",
       "      <td>0</td>\n",
       "      <td>2</td>\n",
       "      <td>male</td>\n",
       "      <td>57.0</td>\n",
       "      <td>12.35</td>\n",
       "      <td>Queenstown</td>\n",
       "      <td>1</td>\n",
       "      <td>0</td>\n",
       "      <td>1</td>\n",
       "      <td>0</td>\n",
       "      <td>1</td>\n",
       "      <td>0</td>\n",
       "    </tr>\n",
       "  </tbody>\n",
       "</table>\n",
       "</div>"
      ],
      "text/plain": [
       "     survived  pclass   sex   age   fare embark_town  alone  sex_female  \\\n",
       "626         0       2  male  57.0  12.35  Queenstown      1           0   \n",
       "\n",
       "     sex_male  embark_town_Cherbourg  embark_town_Queenstown  \\\n",
       "626         1                      0                       1   \n",
       "\n",
       "     embark_town_Southampton  \n",
       "626                        0  "
      ]
     },
     "execution_count": 2,
     "metadata": {},
     "output_type": "execute_result"
    }
   ],
   "source": [
    "# Acquire titanic dataframe\n",
    "titanic = prepare.prep_titanic()\n",
    "titanic.sample()"
   ]
  },
  {
   "cell_type": "code",
   "execution_count": 3,
   "id": "9407878e",
   "metadata": {},
   "outputs": [],
   "source": [
    "# Identify y_cols\n",
    "y_titanic = 'survived'"
   ]
  },
  {
   "cell_type": "code",
   "execution_count": 4,
   "id": "82898217",
   "metadata": {},
   "outputs": [
    {
     "data": {
      "text/plain": [
       "['pclass',\n",
       " 'age',\n",
       " 'fare',\n",
       " 'alone',\n",
       " 'sex_female',\n",
       " 'sex_male',\n",
       " 'embark_town_Cherbourg',\n",
       " 'embark_town_Queenstown',\n",
       " 'embark_town_Southampton']"
      ]
     },
     "execution_count": 4,
     "metadata": {},
     "output_type": "execute_result"
    }
   ],
   "source": [
    "# Identify x_cols\n",
    "x_titanic = titanic.columns.to_list()\n",
    "x_titanic = [col for col in x_titanic if col not in ['survived', 'sex', 'embark_town']]\n",
    "x_titanic"
   ]
  },
  {
   "cell_type": "code",
   "execution_count": 5,
   "id": "97566f69",
   "metadata": {},
   "outputs": [
    {
     "name": "stdout",
     "output_type": "stream",
     "text": [
      "train.shape:(498, 12)\n",
      "validate.shape:(214, 12)\n",
      "test.shape:(179, 12)\n"
     ]
    }
   ],
   "source": [
    "# split data and stratify on survived\n",
    "titanic_train, titanic_validate, titanic_test = prepare.split(titanic, 'survived')"
   ]
  },
  {
   "cell_type": "code",
   "execution_count": 6,
   "id": "b5988fc7",
   "metadata": {},
   "outputs": [
    {
     "data": {
      "text/plain": [
       "((498, 12), (214, 12), (179, 12))"
      ]
     },
     "execution_count": 6,
     "metadata": {},
     "output_type": "execute_result"
    }
   ],
   "source": [
    "# Verify split shapes\n",
    "titanic_train.shape, titanic_validate.shape, titanic_test.shape"
   ]
  },
  {
   "cell_type": "markdown",
   "id": "02f32c9a",
   "metadata": {},
   "source": [
    "<a id='Q1'></a>\n",
    "### 1. What is your baseline prediction? What is your baseline accuracy? remember: your baseline prediction for a classification problem is predicting the most prevelant class in the training dataset (the mode). When you make those predictions, what is your accuracy? This is your baseline accuracy.\n",
    "<li><a href='#TableOfContents'>Table of Contents</a></li>"
   ]
  },
  {
   "cell_type": "code",
   "execution_count": 7,
   "id": "141edf38",
   "metadata": {},
   "outputs": [
    {
     "data": {
      "text/html": [
       "<div>\n",
       "<style scoped>\n",
       "    .dataframe tbody tr th:only-of-type {\n",
       "        vertical-align: middle;\n",
       "    }\n",
       "\n",
       "    .dataframe tbody tr th {\n",
       "        vertical-align: top;\n",
       "    }\n",
       "\n",
       "    .dataframe thead th {\n",
       "        text-align: right;\n",
       "    }\n",
       "</style>\n",
       "<table border=\"1\" class=\"dataframe\">\n",
       "  <thead>\n",
       "    <tr style=\"text-align: right;\">\n",
       "      <th></th>\n",
       "      <th>actual</th>\n",
       "    </tr>\n",
       "  </thead>\n",
       "  <tbody>\n",
       "    <tr>\n",
       "      <th>474</th>\n",
       "      <td>0</td>\n",
       "    </tr>\n",
       "    <tr>\n",
       "      <th>370</th>\n",
       "      <td>1</td>\n",
       "    </tr>\n",
       "    <tr>\n",
       "      <th>573</th>\n",
       "      <td>1</td>\n",
       "    </tr>\n",
       "    <tr>\n",
       "      <th>110</th>\n",
       "      <td>0</td>\n",
       "    </tr>\n",
       "    <tr>\n",
       "      <th>167</th>\n",
       "      <td>0</td>\n",
       "    </tr>\n",
       "    <tr>\n",
       "      <th>...</th>\n",
       "      <td>...</td>\n",
       "    </tr>\n",
       "    <tr>\n",
       "      <th>735</th>\n",
       "      <td>0</td>\n",
       "    </tr>\n",
       "    <tr>\n",
       "      <th>163</th>\n",
       "      <td>0</td>\n",
       "    </tr>\n",
       "    <tr>\n",
       "      <th>770</th>\n",
       "      <td>0</td>\n",
       "    </tr>\n",
       "    <tr>\n",
       "      <th>196</th>\n",
       "      <td>0</td>\n",
       "    </tr>\n",
       "    <tr>\n",
       "      <th>94</th>\n",
       "      <td>0</td>\n",
       "    </tr>\n",
       "  </tbody>\n",
       "</table>\n",
       "<p>498 rows × 1 columns</p>\n",
       "</div>"
      ],
      "text/plain": [
       "     actual\n",
       "474       0\n",
       "370       1\n",
       "573       1\n",
       "110       0\n",
       "167       0\n",
       "..      ...\n",
       "735       0\n",
       "163       0\n",
       "770       0\n",
       "196       0\n",
       "94        0\n",
       "\n",
       "[498 rows x 1 columns]"
      ]
     },
     "execution_count": 7,
     "metadata": {},
     "output_type": "execute_result"
    }
   ],
   "source": [
    "# titanic models sets\n",
    "titanic_models = titanic_train['survived']\n",
    "titanic_models = pd.DataFrame(titanic_models)\n",
    "titanic_models = titanic_models.rename(columns={'survived' : 'actual'})\n",
    "titanic_models"
   ]
  },
  {
   "cell_type": "code",
   "execution_count": 8,
   "id": "6fc9763e",
   "metadata": {},
   "outputs": [],
   "source": [
    "# Baseline is '0' or 'DID NOT survive'\n",
    "titanic.survived.value_counts()\n",
    "titanic_models['baseline'] = 0"
   ]
  },
  {
   "cell_type": "code",
   "execution_count": 9,
   "id": "80f8266c",
   "metadata": {},
   "outputs": [
    {
     "name": "stdout",
     "output_type": "stream",
     "text": [
      "\u001b[32mactual:\u001b[0m 100.00%\n",
      "\n",
      "\u001b[32mbaseline:\u001b[0m 61.65%\n",
      "\n",
      "\u001b[31mHIGHEST VALUE =\u001b[0m \u001b[32mbaseline\u001b[0m: 61.65%\n",
      "\u001b[31mLOWEST VALUE =\u001b[0m \u001b[32mbaseline\u001b[0m: 61.65%\n"
     ]
    }
   ],
   "source": [
    "# baseline accuracy is 61.62%\n",
    "evaluation.accuracy(titanic_models, 'actual')"
   ]
  },
  {
   "cell_type": "markdown",
   "id": "7cfbfe17",
   "metadata": {},
   "source": [
    "<a id='Q2'></a>\n",
    "### 2. Fit the decision tree classifier to your training sample and transform (i.e. make predictions on the training sample)\n",
    "<li><a href='#TableOfContents'>Table of Contents</a></li>"
   ]
  },
  {
   "cell_type": "code",
   "execution_count": 10,
   "id": "92c40530",
   "metadata": {},
   "outputs": [
    {
     "data": {
      "text/html": [
       "<div>\n",
       "<style scoped>\n",
       "    .dataframe tbody tr th:only-of-type {\n",
       "        vertical-align: middle;\n",
       "    }\n",
       "\n",
       "    .dataframe tbody tr th {\n",
       "        vertical-align: top;\n",
       "    }\n",
       "\n",
       "    .dataframe thead th {\n",
       "        text-align: right;\n",
       "    }\n",
       "</style>\n",
       "<table border=\"1\" class=\"dataframe\">\n",
       "  <thead>\n",
       "    <tr style=\"text-align: right;\">\n",
       "      <th></th>\n",
       "      <th>pclass</th>\n",
       "      <th>age</th>\n",
       "      <th>fare</th>\n",
       "      <th>alone</th>\n",
       "      <th>sex_female</th>\n",
       "      <th>sex_male</th>\n",
       "      <th>embark_town_Cherbourg</th>\n",
       "      <th>embark_town_Queenstown</th>\n",
       "      <th>embark_town_Southampton</th>\n",
       "    </tr>\n",
       "  </thead>\n",
       "  <tbody>\n",
       "    <tr>\n",
       "      <th>474</th>\n",
       "      <td>3</td>\n",
       "      <td>22.000000</td>\n",
       "      <td>9.8375</td>\n",
       "      <td>1</td>\n",
       "      <td>1</td>\n",
       "      <td>0</td>\n",
       "      <td>0</td>\n",
       "      <td>0</td>\n",
       "      <td>1</td>\n",
       "    </tr>\n",
       "    <tr>\n",
       "      <th>370</th>\n",
       "      <td>1</td>\n",
       "      <td>25.000000</td>\n",
       "      <td>55.4417</td>\n",
       "      <td>0</td>\n",
       "      <td>0</td>\n",
       "      <td>1</td>\n",
       "      <td>1</td>\n",
       "      <td>0</td>\n",
       "      <td>0</td>\n",
       "    </tr>\n",
       "    <tr>\n",
       "      <th>573</th>\n",
       "      <td>3</td>\n",
       "      <td>29.699118</td>\n",
       "      <td>7.7500</td>\n",
       "      <td>1</td>\n",
       "      <td>1</td>\n",
       "      <td>0</td>\n",
       "      <td>0</td>\n",
       "      <td>1</td>\n",
       "      <td>0</td>\n",
       "    </tr>\n",
       "    <tr>\n",
       "      <th>110</th>\n",
       "      <td>1</td>\n",
       "      <td>47.000000</td>\n",
       "      <td>52.0000</td>\n",
       "      <td>1</td>\n",
       "      <td>0</td>\n",
       "      <td>1</td>\n",
       "      <td>0</td>\n",
       "      <td>0</td>\n",
       "      <td>1</td>\n",
       "    </tr>\n",
       "    <tr>\n",
       "      <th>167</th>\n",
       "      <td>3</td>\n",
       "      <td>45.000000</td>\n",
       "      <td>27.9000</td>\n",
       "      <td>0</td>\n",
       "      <td>1</td>\n",
       "      <td>0</td>\n",
       "      <td>0</td>\n",
       "      <td>0</td>\n",
       "      <td>1</td>\n",
       "    </tr>\n",
       "    <tr>\n",
       "      <th>...</th>\n",
       "      <td>...</td>\n",
       "      <td>...</td>\n",
       "      <td>...</td>\n",
       "      <td>...</td>\n",
       "      <td>...</td>\n",
       "      <td>...</td>\n",
       "      <td>...</td>\n",
       "      <td>...</td>\n",
       "      <td>...</td>\n",
       "    </tr>\n",
       "    <tr>\n",
       "      <th>735</th>\n",
       "      <td>3</td>\n",
       "      <td>28.500000</td>\n",
       "      <td>16.1000</td>\n",
       "      <td>1</td>\n",
       "      <td>0</td>\n",
       "      <td>1</td>\n",
       "      <td>0</td>\n",
       "      <td>0</td>\n",
       "      <td>1</td>\n",
       "    </tr>\n",
       "    <tr>\n",
       "      <th>163</th>\n",
       "      <td>3</td>\n",
       "      <td>17.000000</td>\n",
       "      <td>8.6625</td>\n",
       "      <td>1</td>\n",
       "      <td>0</td>\n",
       "      <td>1</td>\n",
       "      <td>0</td>\n",
       "      <td>0</td>\n",
       "      <td>1</td>\n",
       "    </tr>\n",
       "    <tr>\n",
       "      <th>770</th>\n",
       "      <td>3</td>\n",
       "      <td>24.000000</td>\n",
       "      <td>9.5000</td>\n",
       "      <td>1</td>\n",
       "      <td>0</td>\n",
       "      <td>1</td>\n",
       "      <td>0</td>\n",
       "      <td>0</td>\n",
       "      <td>1</td>\n",
       "    </tr>\n",
       "    <tr>\n",
       "      <th>196</th>\n",
       "      <td>3</td>\n",
       "      <td>29.699118</td>\n",
       "      <td>7.7500</td>\n",
       "      <td>1</td>\n",
       "      <td>0</td>\n",
       "      <td>1</td>\n",
       "      <td>0</td>\n",
       "      <td>1</td>\n",
       "      <td>0</td>\n",
       "    </tr>\n",
       "    <tr>\n",
       "      <th>94</th>\n",
       "      <td>3</td>\n",
       "      <td>59.000000</td>\n",
       "      <td>7.2500</td>\n",
       "      <td>1</td>\n",
       "      <td>0</td>\n",
       "      <td>1</td>\n",
       "      <td>0</td>\n",
       "      <td>0</td>\n",
       "      <td>1</td>\n",
       "    </tr>\n",
       "  </tbody>\n",
       "</table>\n",
       "<p>498 rows × 9 columns</p>\n",
       "</div>"
      ],
      "text/plain": [
       "     pclass        age     fare  alone  sex_female  sex_male  \\\n",
       "474       3  22.000000   9.8375      1           1         0   \n",
       "370       1  25.000000  55.4417      0           0         1   \n",
       "573       3  29.699118   7.7500      1           1         0   \n",
       "110       1  47.000000  52.0000      1           0         1   \n",
       "167       3  45.000000  27.9000      0           1         0   \n",
       "..      ...        ...      ...    ...         ...       ...   \n",
       "735       3  28.500000  16.1000      1           0         1   \n",
       "163       3  17.000000   8.6625      1           0         1   \n",
       "770       3  24.000000   9.5000      1           0         1   \n",
       "196       3  29.699118   7.7500      1           0         1   \n",
       "94        3  59.000000   7.2500      1           0         1   \n",
       "\n",
       "     embark_town_Cherbourg  embark_town_Queenstown  embark_town_Southampton  \n",
       "474                      0                       0                        1  \n",
       "370                      1                       0                        0  \n",
       "573                      0                       1                        0  \n",
       "110                      0                       0                        1  \n",
       "167                      0                       0                        1  \n",
       "..                     ...                     ...                      ...  \n",
       "735                      0                       0                        1  \n",
       "163                      0                       0                        1  \n",
       "770                      0                       0                        1  \n",
       "196                      0                       1                        0  \n",
       "94                       0                       0                        1  \n",
       "\n",
       "[498 rows x 9 columns]"
      ]
     },
     "execution_count": 10,
     "metadata": {},
     "output_type": "execute_result"
    }
   ],
   "source": [
    "titanic_train[x_titanic]"
   ]
  },
  {
   "cell_type": "code",
   "execution_count": 11,
   "id": "d7dbc37c",
   "metadata": {},
   "outputs": [],
   "source": [
    "# Create 1st model as decision tree\n",
    "clf1 = DecisionTreeClassifier()\n",
    "clf1.fit(titanic_train[x_titanic], titanic_train[y_titanic])\n",
    "model1_dt = clf1.predict(titanic_train[x_titanic])\n",
    "titanic_models['model1_dt'] = model1_dt"
   ]
  },
  {
   "cell_type": "markdown",
   "id": "f25095ed",
   "metadata": {},
   "source": [
    "<a id='Q3'></a>\n",
    "### 3. Evaluate your in-sample results using the model score, confusion matrix, and classification report.\n",
    "<li><a href='#TableOfContents'>Table of Contents</a></li>"
   ]
  },
  {
   "cell_type": "code",
   "execution_count": 12,
   "id": "741bc629",
   "metadata": {},
   "outputs": [
    {
     "name": "stdout",
     "output_type": "stream",
     "text": [
      "clf1 score:\n",
      "0.9839357429718876\n",
      "\n",
      "clf1 confusion matrix:\n",
      "[[306   1]\n",
      " [  7 184]]\n",
      "\n",
      "clf1 classification report:\n",
      "              precision    recall  f1-score   support\n",
      "\n",
      "           0       0.98      1.00      0.99       307\n",
      "           1       0.99      0.96      0.98       191\n",
      "\n",
      "    accuracy                           0.98       498\n",
      "   macro avg       0.99      0.98      0.98       498\n",
      "weighted avg       0.98      0.98      0.98       498\n",
      "\n"
     ]
    }
   ],
   "source": [
    "clf1_score = clf1.score(titanic_train[x_titanic], titanic_train[y_titanic])\n",
    "clf1_confusion_matrix = confusion_matrix(titanic_models.actual, model1_dt)\n",
    "clf1_class_report = classification_report(titanic_models.actual, model1_dt)\n",
    "print(f'clf1 score:\\n{clf1_score}\\n')\n",
    "print(f'clf1 confusion matrix:\\n{clf1_confusion_matrix}\\n')\n",
    "print(f'clf1 classification report:\\n{clf1_class_report}')"
   ]
  },
  {
   "cell_type": "markdown",
   "id": "acb873a4",
   "metadata": {},
   "source": [
    "<a id='Q4'></a>\n",
    "### 4. Compute: Accuracy, true positive rate, false positive rate, true negative rate, false negative rate, precision, recall, f1-score, and support.\n",
    "<li><a href='#TableOfContents'>Table of Contents</a></li>"
   ]
  },
  {
   "cell_type": "code",
   "execution_count": 13,
   "id": "16d84a45",
   "metadata": {},
   "outputs": [
    {
     "name": "stdout",
     "output_type": "stream",
     "text": [
      "\u001b[32mactual:\u001b[0m 100.00%\n",
      "\n",
      "\u001b[32mbaseline:\u001b[0m 61.65%\n",
      "\n",
      "\u001b[32mmodel1_dt:\u001b[0m 98.39%\n",
      "\n",
      "\u001b[31mHIGHEST VALUE =\u001b[0m \u001b[32mmodel1_dt\u001b[0m: 98.39%\n",
      "\u001b[31mLOWEST VALUE =\u001b[0m \u001b[32mbaseline\u001b[0m: 61.65%\n"
     ]
    }
   ],
   "source": [
    "# accuracy\n",
    "evaluation.accuracy(titanic_models, 'actual')"
   ]
  },
  {
   "cell_type": "code",
   "execution_count": 14,
   "id": "04b03ef2",
   "metadata": {},
   "outputs": [
    {
     "data": {
      "text/plain": [
       "0.37"
      ]
     },
     "execution_count": 14,
     "metadata": {},
     "output_type": "execute_result"
    }
   ],
   "source": [
    "# True positive rate\n",
    "model1_dt_matrix = confusion_matrix(titanic_models.actual, titanic_models.model1_dt, labels=(0, 1))\n",
    "round(model1_dt_matrix[1, 1] / model1_dt_matrix.sum(), 2)"
   ]
  },
  {
   "cell_type": "code",
   "execution_count": 15,
   "id": "df53b0e5",
   "metadata": {},
   "outputs": [
    {
     "data": {
      "text/plain": [
       "0.0"
      ]
     },
     "execution_count": 15,
     "metadata": {},
     "output_type": "execute_result"
    }
   ],
   "source": [
    "# False Positive Rate\n",
    "round(model1_dt_matrix[0, 1] / model1_dt_matrix.sum(), 2)"
   ]
  },
  {
   "cell_type": "code",
   "execution_count": 16,
   "id": "cd227036",
   "metadata": {},
   "outputs": [
    {
     "data": {
      "text/plain": [
       "0.61"
      ]
     },
     "execution_count": 16,
     "metadata": {},
     "output_type": "execute_result"
    }
   ],
   "source": [
    "# True Negative Rate\n",
    "round(model1_dt_matrix[0, 0] / model1_dt_matrix.sum(), 2)"
   ]
  },
  {
   "cell_type": "code",
   "execution_count": 17,
   "id": "7c975fdf",
   "metadata": {},
   "outputs": [
    {
     "data": {
      "text/plain": [
       "0.01"
      ]
     },
     "execution_count": 17,
     "metadata": {},
     "output_type": "execute_result"
    }
   ],
   "source": [
    "# False Negative Rate\n",
    "round(model1_dt_matrix[1, 0] / model1_dt_matrix.sum(), 2)"
   ]
  },
  {
   "cell_type": "code",
   "execution_count": 18,
   "id": "55d80787",
   "metadata": {},
   "outputs": [
    {
     "data": {
      "text/plain": [
       "'              precision    recall  f1-score   support\\n\\n           0       0.98      1.00      0.99       307\\n           1       0.99      0.96      0.98       191\\n\\n    accuracy                           0.98       498\\n   macro avg       0.99      0.98      0.98       498\\nweighted avg       0.98      0.98      0.98       498\\n'"
      ]
     },
     "execution_count": 18,
     "metadata": {},
     "output_type": "execute_result"
    }
   ],
   "source": [
    "classification_report(titanic_models.actual, model1_dt)"
   ]
  },
  {
   "cell_type": "markdown",
   "id": "e8240ea3",
   "metadata": {},
   "source": [
    "<a id='Q5'></a>\n",
    "### 5. Run through steps 2-4 using a different max_depth value.\n",
    "<li><a href='#TableOfContents'>Table of Contents</a></li>"
   ]
  },
  {
   "cell_type": "markdown",
   "id": "64f72bdd",
   "metadata": {},
   "source": [
    "##### 5a. Fit the decision tree classifier to your training sample and transform (i.e. make predictions on the training sample)"
   ]
  },
  {
   "cell_type": "code",
   "execution_count": 19,
   "id": "d0292d8e",
   "metadata": {},
   "outputs": [
    {
     "data": {
      "image/png": "[encoded data removed]",
      "text/plain": [
       "<Figure size 640x480 with 1 Axes>"
      ]
     },
     "metadata": {},
     "output_type": "display_data"
    },
    {
     "data": {
      "text/plain": [
       "15"
      ]
     },
     "execution_count": 19,
     "metadata": {},
     "output_type": "execute_result"
    }
   ],
   "source": [
    "# No restricion depth = 15\n",
    "plot_tree(clf1, feature_names=x_titanic)\n",
    "plt.show()\n",
    "clf1.tree_.max_depth"
   ]
  },
  {
   "cell_type": "code",
   "execution_count": 20,
   "id": "b4d29249",
   "metadata": {},
   "outputs": [],
   "source": [
    "# Restrict from 15 to 10\n",
    "clf2 = DecisionTreeClassifier(max_depth=10)\n",
    "clf2.fit(titanic_train[x_titanic], titanic_train[y_titanic])\n",
    "model2_dt = clf2.predict(titanic_train[x_titanic])\n",
    "titanic_models['model2_dt'] = model2_dt"
   ]
  },
  {
   "cell_type": "markdown",
   "id": "8aabda90",
   "metadata": {},
   "source": [
    "##### 5b. Evaluate your in-sample results using the model score, confusion matrix, and classification report."
   ]
  },
  {
   "cell_type": "code",
   "execution_count": 21,
   "id": "a1b54d49",
   "metadata": {},
   "outputs": [
    {
     "name": "stdout",
     "output_type": "stream",
     "text": [
      "clf2 score:\n",
      "0.9477911646586346\n",
      "\n",
      "clf2 confusion matrix:\n",
      "[[301   6]\n",
      " [ 20 171]]\n",
      "\n",
      "clf2 classification report:\n",
      "              precision    recall  f1-score   support\n",
      "\n",
      "           0       0.94      0.98      0.96       307\n",
      "           1       0.97      0.90      0.93       191\n",
      "\n",
      "    accuracy                           0.95       498\n",
      "   macro avg       0.95      0.94      0.94       498\n",
      "weighted avg       0.95      0.95      0.95       498\n",
      "\n"
     ]
    }
   ],
   "source": [
    "clf2_score = clf2.score(titanic_train[x_titanic], titanic_train[y_titanic])\n",
    "clf2_confusion_matrix = confusion_matrix(titanic_models.actual, titanic_models.model2_dt, labels=(0, 1))\n",
    "clf2_class_report = classification_report(titanic_models.actual, titanic_models.model2_dt)\n",
    "print(f'clf2 score:\\n{clf2_score}\\n')\n",
    "print(f'clf2 confusion matrix:\\n{clf2_confusion_matrix}\\n')\n",
    "print(f'clf2 classification report:\\n{clf2_class_report}')"
   ]
  },
  {
   "cell_type": "markdown",
   "id": "6918b587",
   "metadata": {},
   "source": [
    "##### 5c. Compute: Accuracy, true positive rate, false positive rate, true negative rate, false negative rate, precision, recall, f1-score, and support."
   ]
  },
  {
   "cell_type": "code",
   "execution_count": 22,
   "id": "d7943229",
   "metadata": {},
   "outputs": [
    {
     "data": {
      "text/plain": [
       "'              precision    recall  f1-score   support\\n\\n           0       0.94      0.98      0.96       307\\n           1       0.97      0.90      0.93       191\\n\\n    accuracy                           0.95       498\\n   macro avg       0.95      0.94      0.94       498\\nweighted avg       0.95      0.95      0.95       498\\n'"
      ]
     },
     "execution_count": 22,
     "metadata": {},
     "output_type": "execute_result"
    }
   ],
   "source": [
    "# Accuracy, precision, recall, f-1 score, support\n",
    "clf2_class_report"
   ]
  },
  {
   "cell_type": "code",
   "execution_count": 23,
   "id": "e620c03d",
   "metadata": {},
   "outputs": [
    {
     "data": {
      "text/plain": [
       "0.34"
      ]
     },
     "execution_count": 23,
     "metadata": {},
     "output_type": "execute_result"
    }
   ],
   "source": [
    "# True positive rate\n",
    "round(clf2_confusion_matrix[1, 1] / clf2_confusion_matrix.sum(), 2)"
   ]
  },
  {
   "cell_type": "code",
   "execution_count": 24,
   "id": "029eee4a",
   "metadata": {},
   "outputs": [
    {
     "data": {
      "text/plain": [
       "0.01"
      ]
     },
     "execution_count": 24,
     "metadata": {},
     "output_type": "execute_result"
    }
   ],
   "source": [
    "# False Positive Rate\n",
    "round(clf2_confusion_matrix[0, 1] / clf2_confusion_matrix.sum(), 2)"
   ]
  },
  {
   "cell_type": "code",
   "execution_count": 25,
   "id": "bcce8852",
   "metadata": {},
   "outputs": [
    {
     "data": {
      "text/plain": [
       "0.6"
      ]
     },
     "execution_count": 25,
     "metadata": {},
     "output_type": "execute_result"
    }
   ],
   "source": [
    "# True Negative Rate\n",
    "round(clf2_confusion_matrix[0, 0] / clf2_confusion_matrix.sum(), 2)"
   ]
  },
  {
   "cell_type": "code",
   "execution_count": 26,
   "id": "3d173cc7",
   "metadata": {},
   "outputs": [
    {
     "data": {
      "text/plain": [
       "0.04"
      ]
     },
     "execution_count": 26,
     "metadata": {},
     "output_type": "execute_result"
    }
   ],
   "source": [
    "# False Negative Rate\n",
    "round(clf2_confusion_matrix[1, 0] / clf2_confusion_matrix.sum(), 2)"
   ]
  },
  {
   "cell_type": "markdown",
   "id": "ee8d427c",
   "metadata": {},
   "source": [
    "<a id='Q6'></a>\n",
    "### 6. Which model performs better on your in-sample data?\n",
    "<li><a href='#TableOfContents'>Table of Contents</a></li>"
   ]
  },
  {
   "cell_type": "code",
   "execution_count": 27,
   "id": "318790a9",
   "metadata": {},
   "outputs": [
    {
     "name": "stdout",
     "output_type": "stream",
     "text": [
      "\u001b[32mactual:\u001b[0m 100.00%\n",
      "\n",
      "\u001b[32mbaseline:\u001b[0m 76.27%\n",
      "\n",
      "\u001b[32mmodel1_dt:\u001b[0m 98.71%\n",
      "\n",
      "\u001b[32mmodel2_dt:\u001b[0m 95.86%\n",
      "\n",
      "\u001b[31mHIGHEST VALUE =\u001b[0m \u001b[32mmodel1_dt\u001b[0m: 98.71%\n",
      "\u001b[31mLOWEST VALUE =\u001b[0m \u001b[32mbaseline\u001b[0m: 76.27%\n"
     ]
    }
   ],
   "source": [
    "evaluation.f1_score(titanic_models, 'actual', 1, 0)"
   ]
  },
  {
   "cell_type": "markdown",
   "id": "0a5f763a",
   "metadata": {},
   "source": [
    "Model-1 Performed the best (Had no restrictions)"
   ]
  },
  {
   "cell_type": "markdown",
   "id": "e09d1a50",
   "metadata": {},
   "source": [
    "<a id='Q7'></a>\n",
    "### 7. Which model performs best on your out-of-sample data, the validate set?\n",
    "<li><a href='#TableOfContents'>Table of Contents</a></li>"
   ]
  },
  {
   "cell_type": "code",
   "execution_count": 28,
   "id": "6cef2a38",
   "metadata": {},
   "outputs": [
    {
     "name": "stdout",
     "output_type": "stream",
     "text": [
      "clf1 Train: 0.98\n",
      "clf1 Validate: 0.71\n",
      "clf2 Train: 0.95\n",
      "clf2 Validate: 0.74\n"
     ]
    }
   ],
   "source": [
    "clf1_train_score = round(clf1.score(titanic_train[x_titanic], titanic_train[y_titanic]), 2)\n",
    "clf1_validate_score = round(clf1.score(titanic_validate[x_titanic], titanic_validate[y_titanic]), 2)\n",
    "clf2_train_score = round(clf2.score(titanic_train[x_titanic], titanic_train[y_titanic]), 2)\n",
    "clf2_validate_score = round(clf2.score(titanic_validate[x_titanic], titanic_validate[y_titanic]), 2)\n",
    "print(f'clf1 Train: {clf1_train_score}\\nclf1 Validate: {clf1_validate_score}\\nclf2 Train: {clf2_train_score}\\nclf2 Validate: {clf2_validate_score}')"
   ]
  },
  {
   "cell_type": "markdown",
   "id": "d8e5c9f4",
   "metadata": {},
   "source": [
    "Model-2 performed the best (Restricted depth from 15 to 10)"
   ]
  },
  {
   "cell_type": "markdown",
   "id": "05eaf035",
   "metadata": {},
   "source": [
    "<a id='Bonus1'></a>\n",
    "### BONUS-1. Work through these same exercises using the Telco dataset.\n",
    "<li><a href='#TableOfContents'>Table of Contents</a></li>"
   ]
  },
  {
   "cell_type": "code",
   "execution_count": null,
   "id": "bfdbb0ee",
   "metadata": {},
   "outputs": [],
   "source": []
  },
  {
   "cell_type": "markdown",
   "id": "c8ba31fb",
   "metadata": {},
   "source": [
    "<a id='Bonus2'></a>\n",
    "### BONUS-2. Experiment with this model on other datasets with a higher number of output classes.\n",
    "<li><a href='#TableOfContents'>Table of Contents</a></li>"
   ]
  },
  {
   "cell_type": "code",
   "execution_count": null,
   "id": "59d79405",
   "metadata": {},
   "outputs": [],
   "source": []
  },
  {
   "cell_type": "code",
   "execution_count": 29,
   "id": "000bd294",
   "metadata": {},
   "outputs": [],
   "source": [
    "testdict= {\n",
    "    'model' : [1, 2, 3],\n",
    "    'train' : [10.00, 23.45, 44.13],\n",
    "    'val' : [20.00, 33.45, 54.13],\n",
    "    'diff' : [10, 10, 10]\n",
    "}"
   ]
  },
  {
   "cell_type": "code",
   "execution_count": 30,
   "id": "ad8b26e8",
   "metadata": {},
   "outputs": [
    {
     "data": {
      "text/html": [
       "<div>\n",
       "<style scoped>\n",
       "    .dataframe tbody tr th:only-of-type {\n",
       "        vertical-align: middle;\n",
       "    }\n",
       "\n",
       "    .dataframe tbody tr th {\n",
       "        vertical-align: top;\n",
       "    }\n",
       "\n",
       "    .dataframe thead th {\n",
       "        text-align: right;\n",
       "    }\n",
       "</style>\n",
       "<table border=\"1\" class=\"dataframe\">\n",
       "  <thead>\n",
       "    <tr style=\"text-align: right;\">\n",
       "      <th></th>\n",
       "      <th>model</th>\n",
       "      <th>train</th>\n",
       "      <th>val</th>\n",
       "      <th>diff</th>\n",
       "    </tr>\n",
       "  </thead>\n",
       "  <tbody>\n",
       "    <tr>\n",
       "      <th>0</th>\n",
       "      <td>1</td>\n",
       "      <td>10.00</td>\n",
       "      <td>20.00</td>\n",
       "      <td>10</td>\n",
       "    </tr>\n",
       "    <tr>\n",
       "      <th>1</th>\n",
       "      <td>2</td>\n",
       "      <td>23.45</td>\n",
       "      <td>33.45</td>\n",
       "      <td>10</td>\n",
       "    </tr>\n",
       "    <tr>\n",
       "      <th>2</th>\n",
       "      <td>3</td>\n",
       "      <td>44.13</td>\n",
       "      <td>54.13</td>\n",
       "      <td>10</td>\n",
       "    </tr>\n",
       "  </tbody>\n",
       "</table>\n",
       "</div>"
      ],
      "text/plain": [
       "   model  train    val  diff\n",
       "0      1  10.00  20.00    10\n",
       "1      2  23.45  33.45    10\n",
       "2      3  44.13  54.13    10"
      ]
     },
     "execution_count": 30,
     "metadata": {},
     "output_type": "execute_result"
    }
   ],
   "source": [
    "testdf = pd.DataFrame(testdict)\n",
    "testdf"
   ]
  },
  {
   "cell_type": "code",
   "execution_count": 33,
   "id": "fd268de9",
   "metadata": {},
   "outputs": [
    {
     "name": "stdout",
     "output_type": "stream",
     "text": [
      "train.shape:(278, 12)\n",
      "validate.shape:(120, 12)\n",
      "test.shape:(100, 12)\n"
     ]
    }
   ],
   "source": [
    "funcdict = model.decisiontree_model_iterator(\n",
    "    titanic_train, \n",
    "    x_titanic, \n",
    "    y_titanic, \n",
    "    'survived',\n",
    "    2,\n",
    "    10\n",
    ")"
   ]
  },
  {
   "cell_type": "code",
   "execution_count": 44,
   "id": "27c1d09d",
   "metadata": {},
   "outputs": [
    {
     "data": {
      "text/plain": [
       "['pclass',\n",
       " 'sex',\n",
       " 'age',\n",
       " 'fare',\n",
       " 'embark_town',\n",
       " 'alone',\n",
       " 'sex_female',\n",
       " 'sex_male',\n",
       " 'embark_town_Cherbourg',\n",
       " 'embark_town_Queenstown',\n",
       " 'embark_town_Southampton']"
      ]
     },
     "execution_count": 44,
     "metadata": {},
     "output_type": "execute_result"
    }
   ],
   "source": [
    "titanic.drop(columns='survived').columns.to_list()"
   ]
  },
  {
   "cell_type": "code",
   "execution_count": null,
   "id": "fade995f",
   "metadata": {},
   "outputs": [],
   "source": []
  }
 ],
 "metadata": {
  "kernelspec": {
   "display_name": "Python 3 (ipykernel)",
   "language": "python",
   "name": "python3"
  },
  "language_info": {
   "codemirror_mode": {
    "name": "ipython",
    "version": 3
   },
   "file_extension": ".py",
   "mimetype": "text/x-python",
   "name": "python",
   "nbconvert_exporter": "python",
   "pygments_lexer": "ipython3",
   "version": "3.9.13"
  }
 },
 "nbformat": 4,
 "nbformat_minor": 5
}
