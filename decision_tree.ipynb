{
 "cells": [
  {
   "cell_type": "markdown",
   "id": "7a413a86",
   "metadata": {},
   "source": [
    "<a id=\"TableOfContents\"></a>\n",
    "# TABLE OF CONTENTS:\n",
    "<li><a href='#imports'>Imports</a></li>\n",
    "<li><a href=\"#Q1\">Question 1</a></li>\n",
    "<li><a href=\"#Q2\">Question 2</a></li>\n",
    "<li><a href=\"#Q3\">Question 3</a></li>\n",
    "<li><a href=\"#Q4\">Question 4</a></li>\n",
    "<li><a href=\"#Q5\">Question 5</a></li>\n",
    "<li><a href=\"#Q6\">Question 6</a></li>\n",
    "<li><a href=\"#Q7\">Question 7</a></li>\n",
    "<li><a href=\"#Bonus1\">Bonus-1</a></li>\n",
    "<li><a href=\"#Bonus2\">Bonus-2</a></li>"
   ]
  },
  {
   "cell_type": "markdown",
   "id": "eb649a63",
   "metadata": {},
   "source": [
    "<a id='imports'></a>\n",
    "# IMPORTS:\n",
    "<li><a href='#TableOfContents'>Table of Contents</a></li>"
   ]
  },
  {
   "cell_type": "code",
   "execution_count": 1,
   "id": "167ccc06",
   "metadata": {},
   "outputs": [],
   "source": [
    "# Basic sheiza\n",
    "import numpy as np\n",
    "import pandas as pd\n",
    "import seaborn as sns\n",
    "import matplotlib.pyplot as plt\n",
    "\n",
    "# Stats/Explore\n",
    "from scipy import stats\n",
    "\n",
    "# Modeling\n",
    "from sklearn.model_selection import train_test_split\n",
    "from sklearn.tree import DecisionTreeClassifier, export_text, plot_tree\n",
    "from sklearn.metrics import accuracy_score, classification_report, confusion_matrix\n",
    "from sklearn.ensemble import RandomForestClassifier\n",
    "\n",
    "# .py file(s)\n",
    "import acquire\n",
    "import prepare\n",
    "import explore\n",
    "import evaluation"
   ]
  },
  {
   "cell_type": "markdown",
   "id": "885bbac2",
   "metadata": {},
   "source": [
    "Using the titanic data, in your classification-exercises repository, create a notebook, decision_tree.ipynb where you will do the following:"
   ]
  },
  {
   "cell_type": "code",
   "execution_count": 2,
   "id": "c3f24ca8",
   "metadata": {},
   "outputs": [
    {
     "data": {
      "text/html": [
       "<div>\n",
       "<style scoped>\n",
       "    .dataframe tbody tr th:only-of-type {\n",
       "        vertical-align: middle;\n",
       "    }\n",
       "\n",
       "    .dataframe tbody tr th {\n",
       "        vertical-align: top;\n",
       "    }\n",
       "\n",
       "    .dataframe thead th {\n",
       "        text-align: right;\n",
       "    }\n",
       "</style>\n",
       "<table border=\"1\" class=\"dataframe\">\n",
       "  <thead>\n",
       "    <tr style=\"text-align: right;\">\n",
       "      <th></th>\n",
       "      <th>survived</th>\n",
       "      <th>pclass</th>\n",
       "      <th>sex</th>\n",
       "      <th>age</th>\n",
       "      <th>fare</th>\n",
       "      <th>embark_town</th>\n",
       "      <th>alone</th>\n",
       "      <th>sex_female</th>\n",
       "      <th>sex_male</th>\n",
       "      <th>embark_town_Cherbourg</th>\n",
       "      <th>embark_town_Queenstown</th>\n",
       "      <th>embark_town_Southampton</th>\n",
       "    </tr>\n",
       "  </thead>\n",
       "  <tbody>\n",
       "    <tr>\n",
       "      <th>176</th>\n",
       "      <td>0</td>\n",
       "      <td>3</td>\n",
       "      <td>male</td>\n",
       "      <td>29.699118</td>\n",
       "      <td>25.4667</td>\n",
       "      <td>Southampton</td>\n",
       "      <td>0</td>\n",
       "      <td>0</td>\n",
       "      <td>1</td>\n",
       "      <td>0</td>\n",
       "      <td>0</td>\n",
       "      <td>1</td>\n",
       "    </tr>\n",
       "  </tbody>\n",
       "</table>\n",
       "</div>"
      ],
      "text/plain": [
       "     survived  pclass   sex        age     fare  embark_town  alone  \\\n",
       "176         0       3  male  29.699118  25.4667  Southampton      0   \n",
       "\n",
       "     sex_female  sex_male  embark_town_Cherbourg  embark_town_Queenstown  \\\n",
       "176           0         1                      0                       0   \n",
       "\n",
       "     embark_town_Southampton  \n",
       "176                        1  "
      ]
     },
     "execution_count": 2,
     "metadata": {},
     "output_type": "execute_result"
    }
   ],
   "source": [
    "# Acquire titanic dataframe\n",
    "titanic = prepare.prep_titanic()\n",
    "titanic.sample()"
   ]
  },
  {
   "cell_type": "code",
   "execution_count": 3,
   "id": "60f75c83",
   "metadata": {},
   "outputs": [],
   "source": [
    "# Identify y_cols\n",
    "y_titanic = 'survived'"
   ]
  },
  {
   "cell_type": "code",
   "execution_count": 4,
   "id": "6c493cb1",
   "metadata": {},
   "outputs": [
    {
     "data": {
      "text/plain": [
       "['pclass',\n",
       " 'age',\n",
       " 'fare',\n",
       " 'alone',\n",
       " 'sex_female',\n",
       " 'sex_male',\n",
       " 'embark_town_Cherbourg',\n",
       " 'embark_town_Queenstown',\n",
       " 'embark_town_Southampton']"
      ]
     },
     "execution_count": 4,
     "metadata": {},
     "output_type": "execute_result"
    }
   ],
   "source": [
    "# Identify x_cols\n",
    "x_titanic = titanic.columns.to_list()\n",
    "x_titanic = [col for col in x_titanic if col not in ['survived', 'sex', 'embark_town']]\n",
    "x_titanic"
   ]
  },
  {
   "cell_type": "code",
   "execution_count": 5,
   "id": "9399ae1a",
   "metadata": {},
   "outputs": [
    {
     "name": "stdout",
     "output_type": "stream",
     "text": [
      "What column do you want to stratify onsurvived\n",
      "train.shape:(498, 12)\n",
      "validate.shape:(214, 12)\n",
      "test.shape:(179, 12)\n"
     ]
    }
   ],
   "source": [
    "# split data and stratify on survived\n",
    "titanic_train, titanic_validate, titanic_test = prepare.split(titanic)"
   ]
  },
  {
   "cell_type": "code",
   "execution_count": 6,
   "id": "57d1987f",
   "metadata": {},
   "outputs": [
    {
     "data": {
      "text/plain": [
       "((498, 12), (214, 12), (179, 12))"
      ]
     },
     "execution_count": 6,
     "metadata": {},
     "output_type": "execute_result"
    }
   ],
   "source": [
    "# Verify split shapes\n",
    "titanic_train.shape, titanic_validate.shape, titanic_test.shape"
   ]
  },
  {
   "cell_type": "markdown",
   "id": "98a9ff17",
   "metadata": {},
   "source": [
    "<a id='Q1'></a>\n",
    "### 1. What is your baseline prediction? What is your baseline accuracy? remember: your baseline prediction for a classification problem is predicting the most prevelant class in the training dataset (the mode). When you make those predictions, what is your accuracy? This is your baseline accuracy.\n",
    "<li><a href='#TableOfContents'>Table of Contents</a></li>"
   ]
  },
  {
   "cell_type": "code",
   "execution_count": 7,
   "id": "0acb1949",
   "metadata": {},
   "outputs": [
    {
     "data": {
      "text/html": [
       "<div>\n",
       "<style scoped>\n",
       "    .dataframe tbody tr th:only-of-type {\n",
       "        vertical-align: middle;\n",
       "    }\n",
       "\n",
       "    .dataframe tbody tr th {\n",
       "        vertical-align: top;\n",
       "    }\n",
       "\n",
       "    .dataframe thead th {\n",
       "        text-align: right;\n",
       "    }\n",
       "</style>\n",
       "<table border=\"1\" class=\"dataframe\">\n",
       "  <thead>\n",
       "    <tr style=\"text-align: right;\">\n",
       "      <th></th>\n",
       "      <th>actual</th>\n",
       "    </tr>\n",
       "  </thead>\n",
       "  <tbody>\n",
       "    <tr>\n",
       "      <th>474</th>\n",
       "      <td>0</td>\n",
       "    </tr>\n",
       "    <tr>\n",
       "      <th>370</th>\n",
       "      <td>1</td>\n",
       "    </tr>\n",
       "    <tr>\n",
       "      <th>573</th>\n",
       "      <td>1</td>\n",
       "    </tr>\n",
       "    <tr>\n",
       "      <th>110</th>\n",
       "      <td>0</td>\n",
       "    </tr>\n",
       "    <tr>\n",
       "      <th>167</th>\n",
       "      <td>0</td>\n",
       "    </tr>\n",
       "    <tr>\n",
       "      <th>...</th>\n",
       "      <td>...</td>\n",
       "    </tr>\n",
       "    <tr>\n",
       "      <th>735</th>\n",
       "      <td>0</td>\n",
       "    </tr>\n",
       "    <tr>\n",
       "      <th>163</th>\n",
       "      <td>0</td>\n",
       "    </tr>\n",
       "    <tr>\n",
       "      <th>770</th>\n",
       "      <td>0</td>\n",
       "    </tr>\n",
       "    <tr>\n",
       "      <th>196</th>\n",
       "      <td>0</td>\n",
       "    </tr>\n",
       "    <tr>\n",
       "      <th>94</th>\n",
       "      <td>0</td>\n",
       "    </tr>\n",
       "  </tbody>\n",
       "</table>\n",
       "<p>498 rows × 1 columns</p>\n",
       "</div>"
      ],
      "text/plain": [
       "     actual\n",
       "474       0\n",
       "370       1\n",
       "573       1\n",
       "110       0\n",
       "167       0\n",
       "..      ...\n",
       "735       0\n",
       "163       0\n",
       "770       0\n",
       "196       0\n",
       "94        0\n",
       "\n",
       "[498 rows x 1 columns]"
      ]
     },
     "execution_count": 7,
     "metadata": {},
     "output_type": "execute_result"
    }
   ],
   "source": [
    "# titanic models sets\n",
    "titanic_models = titanic_train['survived']\n",
    "titanic_models = pd.DataFrame(titanic_models)\n",
    "titanic_models = titanic_models.rename(columns={'survived' : 'actual'})\n",
    "titanic_models"
   ]
  },
  {
   "cell_type": "code",
   "execution_count": 8,
   "id": "7dd81a6b",
   "metadata": {},
   "outputs": [],
   "source": [
    "# Baseline is '0' or 'DID NOT survive'\n",
    "titanic.survived.value_counts()\n",
    "titanic_models['baseline'] = 0"
   ]
  },
  {
   "cell_type": "code",
   "execution_count": 9,
   "id": "a30c57b7",
   "metadata": {},
   "outputs": [
    {
     "name": "stdout",
     "output_type": "stream",
     "text": [
      "\u001b[32mactual:\u001b[0m 100.00%\n",
      "\n",
      "\u001b[32mbaseline:\u001b[0m 61.65%\n",
      "\n",
      "\u001b[31mHIGHEST VALUE =\u001b[0m \u001b[32mbaseline\u001b[0m: 61.65%\n",
      "\u001b[31mLOWEST VALUE =\u001b[0m \u001b[32mbaseline\u001b[0m: 61.65%\n"
     ]
    }
   ],
   "source": [
    "# baseline accuracy is 61.62%\n",
    "evaluation.accuracy(titanic_models, 'actual')"
   ]
  },
  {
   "cell_type": "markdown",
   "id": "230b4a96",
   "metadata": {},
   "source": [
    "<a id='Q2'></a>\n",
    "### 2. Fit the decision tree classifier to your training sample and transform (i.e. make predictions on the training sample)\n",
    "<li><a href='#TableOfContents'>Table of Contents</a></li>"
   ]
  },
  {
   "cell_type": "code",
   "execution_count": 10,
   "id": "49adc0d7",
   "metadata": {},
   "outputs": [
    {
     "data": {
      "text/html": [
       "<div>\n",
       "<style scoped>\n",
       "    .dataframe tbody tr th:only-of-type {\n",
       "        vertical-align: middle;\n",
       "    }\n",
       "\n",
       "    .dataframe tbody tr th {\n",
       "        vertical-align: top;\n",
       "    }\n",
       "\n",
       "    .dataframe thead th {\n",
       "        text-align: right;\n",
       "    }\n",
       "</style>\n",
       "<table border=\"1\" class=\"dataframe\">\n",
       "  <thead>\n",
       "    <tr style=\"text-align: right;\">\n",
       "      <th></th>\n",
       "      <th>pclass</th>\n",
       "      <th>age</th>\n",
       "      <th>fare</th>\n",
       "      <th>alone</th>\n",
       "      <th>sex_female</th>\n",
       "      <th>sex_male</th>\n",
       "      <th>embark_town_Cherbourg</th>\n",
       "      <th>embark_town_Queenstown</th>\n",
       "      <th>embark_town_Southampton</th>\n",
       "    </tr>\n",
       "  </thead>\n",
       "  <tbody>\n",
       "    <tr>\n",
       "      <th>474</th>\n",
       "      <td>3</td>\n",
       "      <td>22.000000</td>\n",
       "      <td>9.8375</td>\n",
       "      <td>1</td>\n",
       "      <td>1</td>\n",
       "      <td>0</td>\n",
       "      <td>0</td>\n",
       "      <td>0</td>\n",
       "      <td>1</td>\n",
       "    </tr>\n",
       "    <tr>\n",
       "      <th>370</th>\n",
       "      <td>1</td>\n",
       "      <td>25.000000</td>\n",
       "      <td>55.4417</td>\n",
       "      <td>0</td>\n",
       "      <td>0</td>\n",
       "      <td>1</td>\n",
       "      <td>1</td>\n",
       "      <td>0</td>\n",
       "      <td>0</td>\n",
       "    </tr>\n",
       "    <tr>\n",
       "      <th>573</th>\n",
       "      <td>3</td>\n",
       "      <td>29.699118</td>\n",
       "      <td>7.7500</td>\n",
       "      <td>1</td>\n",
       "      <td>1</td>\n",
       "      <td>0</td>\n",
       "      <td>0</td>\n",
       "      <td>1</td>\n",
       "      <td>0</td>\n",
       "    </tr>\n",
       "    <tr>\n",
       "      <th>110</th>\n",
       "      <td>1</td>\n",
       "      <td>47.000000</td>\n",
       "      <td>52.0000</td>\n",
       "      <td>1</td>\n",
       "      <td>0</td>\n",
       "      <td>1</td>\n",
       "      <td>0</td>\n",
       "      <td>0</td>\n",
       "      <td>1</td>\n",
       "    </tr>\n",
       "    <tr>\n",
       "      <th>167</th>\n",
       "      <td>3</td>\n",
       "      <td>45.000000</td>\n",
       "      <td>27.9000</td>\n",
       "      <td>0</td>\n",
       "      <td>1</td>\n",
       "      <td>0</td>\n",
       "      <td>0</td>\n",
       "      <td>0</td>\n",
       "      <td>1</td>\n",
       "    </tr>\n",
       "    <tr>\n",
       "      <th>...</th>\n",
       "      <td>...</td>\n",
       "      <td>...</td>\n",
       "      <td>...</td>\n",
       "      <td>...</td>\n",
       "      <td>...</td>\n",
       "      <td>...</td>\n",
       "      <td>...</td>\n",
       "      <td>...</td>\n",
       "      <td>...</td>\n",
       "    </tr>\n",
       "    <tr>\n",
       "      <th>735</th>\n",
       "      <td>3</td>\n",
       "      <td>28.500000</td>\n",
       "      <td>16.1000</td>\n",
       "      <td>1</td>\n",
       "      <td>0</td>\n",
       "      <td>1</td>\n",
       "      <td>0</td>\n",
       "      <td>0</td>\n",
       "      <td>1</td>\n",
       "    </tr>\n",
       "    <tr>\n",
       "      <th>163</th>\n",
       "      <td>3</td>\n",
       "      <td>17.000000</td>\n",
       "      <td>8.6625</td>\n",
       "      <td>1</td>\n",
       "      <td>0</td>\n",
       "      <td>1</td>\n",
       "      <td>0</td>\n",
       "      <td>0</td>\n",
       "      <td>1</td>\n",
       "    </tr>\n",
       "    <tr>\n",
       "      <th>770</th>\n",
       "      <td>3</td>\n",
       "      <td>24.000000</td>\n",
       "      <td>9.5000</td>\n",
       "      <td>1</td>\n",
       "      <td>0</td>\n",
       "      <td>1</td>\n",
       "      <td>0</td>\n",
       "      <td>0</td>\n",
       "      <td>1</td>\n",
       "    </tr>\n",
       "    <tr>\n",
       "      <th>196</th>\n",
       "      <td>3</td>\n",
       "      <td>29.699118</td>\n",
       "      <td>7.7500</td>\n",
       "      <td>1</td>\n",
       "      <td>0</td>\n",
       "      <td>1</td>\n",
       "      <td>0</td>\n",
       "      <td>1</td>\n",
       "      <td>0</td>\n",
       "    </tr>\n",
       "    <tr>\n",
       "      <th>94</th>\n",
       "      <td>3</td>\n",
       "      <td>59.000000</td>\n",
       "      <td>7.2500</td>\n",
       "      <td>1</td>\n",
       "      <td>0</td>\n",
       "      <td>1</td>\n",
       "      <td>0</td>\n",
       "      <td>0</td>\n",
       "      <td>1</td>\n",
       "    </tr>\n",
       "  </tbody>\n",
       "</table>\n",
       "<p>498 rows × 9 columns</p>\n",
       "</div>"
      ],
      "text/plain": [
       "     pclass        age     fare  alone  sex_female  sex_male  \\\n",
       "474       3  22.000000   9.8375      1           1         0   \n",
       "370       1  25.000000  55.4417      0           0         1   \n",
       "573       3  29.699118   7.7500      1           1         0   \n",
       "110       1  47.000000  52.0000      1           0         1   \n",
       "167       3  45.000000  27.9000      0           1         0   \n",
       "..      ...        ...      ...    ...         ...       ...   \n",
       "735       3  28.500000  16.1000      1           0         1   \n",
       "163       3  17.000000   8.6625      1           0         1   \n",
       "770       3  24.000000   9.5000      1           0         1   \n",
       "196       3  29.699118   7.7500      1           0         1   \n",
       "94        3  59.000000   7.2500      1           0         1   \n",
       "\n",
       "     embark_town_Cherbourg  embark_town_Queenstown  embark_town_Southampton  \n",
       "474                      0                       0                        1  \n",
       "370                      1                       0                        0  \n",
       "573                      0                       1                        0  \n",
       "110                      0                       0                        1  \n",
       "167                      0                       0                        1  \n",
       "..                     ...                     ...                      ...  \n",
       "735                      0                       0                        1  \n",
       "163                      0                       0                        1  \n",
       "770                      0                       0                        1  \n",
       "196                      0                       1                        0  \n",
       "94                       0                       0                        1  \n",
       "\n",
       "[498 rows x 9 columns]"
      ]
     },
     "execution_count": 10,
     "metadata": {},
     "output_type": "execute_result"
    }
   ],
   "source": [
    "titanic_train[x_titanic]"
   ]
  },
  {
   "cell_type": "code",
   "execution_count": 12,
   "id": "fdd09b3a",
   "metadata": {},
   "outputs": [],
   "source": [
    "# Create 1st model as decision tree\n",
    "clf1 = DecisionTreeClassifier()\n",
    "clf1.fit(titanic_train[x_titanic], titanic_train[y_titanic])\n",
    "model1_dt = clf1.predict(titanic_train[x_titanic])\n",
    "titanic_models['model1_dt'] = model1_dt"
   ]
  },
  {
   "cell_type": "markdown",
   "id": "2c50dc65",
   "metadata": {},
   "source": [
    "<a id='Q3'></a>\n",
    "### 3. Evaluate your in-sample results using the model score, confusion matrix, and classification report.\n",
    "<li><a href='#TableOfContents'>Table of Contents</a></li>"
   ]
  },
  {
   "cell_type": "code",
   "execution_count": 22,
   "id": "4e4064c2",
   "metadata": {},
   "outputs": [
    {
     "name": "stdout",
     "output_type": "stream",
     "text": [
      "clf1 score:\n",
      "0.9839357429718876\n",
      "\n",
      "clf1 confusion matrix:\n",
      "[[306   1]\n",
      " [  7 184]]\n",
      "\n",
      "clf1 classification report:\n",
      "              precision    recall  f1-score   support\n",
      "\n",
      "           0       0.98      1.00      0.99       307\n",
      "           1       0.99      0.96      0.98       191\n",
      "\n",
      "    accuracy                           0.98       498\n",
      "   macro avg       0.99      0.98      0.98       498\n",
      "weighted avg       0.98      0.98      0.98       498\n",
      "\n"
     ]
    }
   ],
   "source": [
    "clf1_score = clf1.score(titanic_train[x_titanic], titanic_train[y_titanic])\n",
    "clf1_confusion_matrix = confusion_matrix(titanic_models.actual, model1_dt)\n",
    "clf1_class_report = classification_report(titanic_models.actual, model1_dt)\n",
    "print(f'clf1 score:\\n{clf1_score}\\n')\n",
    "print(f'clf1 confusion matrix:\\n{clf1_confusion_matrix}\\n')\n",
    "print(f'clf1 classification report:\\n{clf1_class_report}')"
   ]
  },
  {
   "cell_type": "markdown",
   "id": "59ca58d9",
   "metadata": {},
   "source": [
    "<a id='Q4'></a>\n",
    "### 4. Compute: Accuracy, true positive rate, false positive rate, true negative rate, false negative rate, precision, recall, f1-score, and support.\n",
    "<li><a href='#TableOfContents'>Table of Contents</a></li>"
   ]
  },
  {
   "cell_type": "code",
   "execution_count": null,
   "id": "3ccc413c",
   "metadata": {},
   "outputs": [],
   "source": []
  },
  {
   "cell_type": "markdown",
   "id": "e3070978",
   "metadata": {},
   "source": [
    "<a id='Q5'></a>\n",
    "### 5. Run through steps 2-4 using a different max_depth value.\n",
    "<li><a href='#TableOfContents'>Table of Contents</a></li>"
   ]
  },
  {
   "cell_type": "code",
   "execution_count": null,
   "id": "07f7fadd",
   "metadata": {},
   "outputs": [],
   "source": []
  },
  {
   "cell_type": "markdown",
   "id": "033228bd",
   "metadata": {},
   "source": [
    "<a id='Q6'></a>\n",
    "### 6. Which model performs better on your in-sample data?\n",
    "<li><a href='#TableOfContents'>Table of Contents</a></li>"
   ]
  },
  {
   "cell_type": "code",
   "execution_count": null,
   "id": "7c6d1c17",
   "metadata": {},
   "outputs": [],
   "source": []
  },
  {
   "cell_type": "markdown",
   "id": "00183fab",
   "metadata": {},
   "source": [
    "<a id='Q7'></a>\n",
    "### 7. Which model performs best on your out-of-sample data, the validate set?\n",
    "<li><a href='#TableOfContents'>Table of Contents</a></li>"
   ]
  },
  {
   "cell_type": "code",
   "execution_count": null,
   "id": "7523945c",
   "metadata": {},
   "outputs": [],
   "source": []
  },
  {
   "cell_type": "markdown",
   "id": "a7e39a22",
   "metadata": {},
   "source": [
    "<a id='Bonus1'></a>\n",
    "### BONUS-1. Work through these same exercises using the Telco dataset.\n",
    "<li><a href='#TableOfContents'>Table of Contents</a></li>"
   ]
  },
  {
   "cell_type": "code",
   "execution_count": null,
   "id": "09512eec",
   "metadata": {},
   "outputs": [],
   "source": []
  },
  {
   "cell_type": "markdown",
   "id": "70368b4c",
   "metadata": {},
   "source": [
    "<a id='Bonus2'></a>\n",
    "### BONUS-2. Experiment with this model on other datasets with a higher number of output classes.\n",
    "<li><a href='#TableOfContents'>Table of Contents</a></li>"
   ]
  },
  {
   "cell_type": "code",
   "execution_count": null,
   "id": "9c923609",
   "metadata": {},
   "outputs": [],
   "source": []
  }
 ],
 "metadata": {
  "kernelspec": {
   "display_name": "Python 3 (ipykernel)",
   "language": "python",
   "name": "python3"
  },
  "language_info": {
   "codemirror_mode": {
    "name": "ipython",
    "version": 3
   },
   "file_extension": ".py",
   "mimetype": "text/x-python",
   "name": "python",
   "nbconvert_exporter": "python",
   "pygments_lexer": "ipython3",
   "version": "3.9.13"
  }
 },
 "nbformat": 4,
 "nbformat_minor": 5
}
