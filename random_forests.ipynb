{
 "cells": [
  {
   "cell_type": "markdown",
   "id": "2ca6cc63",
   "metadata": {},
   "source": [
    "<a id=\"TableOfContents\"></a>\n",
    "# Table of Contents:\n",
    "<li><a href='#imports'>Imports</a></li>\n",
    "<li><a href=\"#Q1\">Question 1</a></li>\n",
    "<li><a href=\"#Q2\">Question 2</a></li>\n",
    "<li><a href=\"#Q3\">Question 3</a></li>\n",
    "<li><a href=\"#Q4\">Question 4</a></li>\n",
    "<li><a href=\"#Q5\">Question 5</a></li>\n",
    "<li><a href=\"#Additional\">Additional Question</a></li>"
   ]
  },
  {
   "cell_type": "markdown",
   "id": "a86dbbd9",
   "metadata": {},
   "source": [
    "<a id='imports'></a>\n",
    "### IMPORTS:\n",
    "<li><a href='#TableOfContents'>Table of Contents</a></li>"
   ]
  },
  {
   "cell_type": "code",
   "execution_count": 1,
   "id": "2b6930fc",
   "metadata": {},
   "outputs": [],
   "source": [
    "# Basic sheiza\n",
    "import numpy as np\n",
    "import pandas as pd\n",
    "import seaborn as sns\n",
    "import matplotlib.pyplot as plt\n",
    "\n",
    "# Stat/Exploration\n",
    "from scipy import stats\n",
    "\n",
    "# Modeling\n",
    "from sklearn.model_selection import train_test_split\n",
    "from sklearn.tree import DecisionTreeClassifier, export_text, plot_tree\n",
    "from sklearn.metrics import accuracy_score, classification_report, confusion_matrix\n",
    "from sklearn.ensemble import RandomForestClassifier\n",
    "\n",
    "# .py files\n",
    "import acquire\n",
    "import prepare\n",
    "import explore\n",
    "import evaluation"
   ]
  },
  {
   "cell_type": "markdown",
   "id": "c8eb7d27",
   "metadata": {},
   "source": [
    "Create a new notebook, random_forests, and work with titanic data to do the following:"
   ]
  },
  {
   "cell_type": "code",
   "execution_count": 4,
   "id": "2f6475d1",
   "metadata": {},
   "outputs": [
    {
     "data": {
      "text/html": [
       "<div>\n",
       "<style scoped>\n",
       "    .dataframe tbody tr th:only-of-type {\n",
       "        vertical-align: middle;\n",
       "    }\n",
       "\n",
       "    .dataframe tbody tr th {\n",
       "        vertical-align: top;\n",
       "    }\n",
       "\n",
       "    .dataframe thead th {\n",
       "        text-align: right;\n",
       "    }\n",
       "</style>\n",
       "<table border=\"1\" class=\"dataframe\">\n",
       "  <thead>\n",
       "    <tr style=\"text-align: right;\">\n",
       "      <th></th>\n",
       "      <th>survived</th>\n",
       "      <th>pclass</th>\n",
       "      <th>sex</th>\n",
       "      <th>age</th>\n",
       "      <th>fare</th>\n",
       "      <th>embark_town</th>\n",
       "      <th>alone</th>\n",
       "      <th>sex_female</th>\n",
       "      <th>sex_male</th>\n",
       "      <th>embark_town_Cherbourg</th>\n",
       "      <th>embark_town_Queenstown</th>\n",
       "      <th>embark_town_Southampton</th>\n",
       "    </tr>\n",
       "  </thead>\n",
       "  <tbody>\n",
       "    <tr>\n",
       "      <th>527</th>\n",
       "      <td>0</td>\n",
       "      <td>1</td>\n",
       "      <td>male</td>\n",
       "      <td>29.699118</td>\n",
       "      <td>221.7792</td>\n",
       "      <td>Southampton</td>\n",
       "      <td>1</td>\n",
       "      <td>0</td>\n",
       "      <td>1</td>\n",
       "      <td>0</td>\n",
       "      <td>0</td>\n",
       "      <td>1</td>\n",
       "    </tr>\n",
       "  </tbody>\n",
       "</table>\n",
       "</div>"
      ],
      "text/plain": [
       "     survived  pclass   sex        age      fare  embark_town  alone  \\\n",
       "527         0       1  male  29.699118  221.7792  Southampton      1   \n",
       "\n",
       "     sex_female  sex_male  embark_town_Cherbourg  embark_town_Queenstown  \\\n",
       "527           0         1                      0                       0   \n",
       "\n",
       "     embark_town_Southampton  \n",
       "527                        1  "
      ]
     },
     "execution_count": 4,
     "metadata": {},
     "output_type": "execute_result"
    }
   ],
   "source": [
    "# Acquire titanic dataframe\n",
    "titanic = prepare.prep_titanic()\n",
    "titanic.sample()"
   ]
  },
  {
   "cell_type": "code",
   "execution_count": 5,
   "id": "5cae8e94",
   "metadata": {},
   "outputs": [],
   "source": [
    "# Identify y_cols\n",
    "y_titanic = 'survived'"
   ]
  },
  {
   "cell_type": "code",
   "execution_count": 6,
   "id": "acafda3e",
   "metadata": {},
   "outputs": [
    {
     "data": {
      "text/plain": [
       "['pclass',\n",
       " 'age',\n",
       " 'fare',\n",
       " 'alone',\n",
       " 'sex_female',\n",
       " 'sex_male',\n",
       " 'embark_town_Cherbourg',\n",
       " 'embark_town_Queenstown',\n",
       " 'embark_town_Southampton']"
      ]
     },
     "execution_count": 6,
     "metadata": {},
     "output_type": "execute_result"
    }
   ],
   "source": [
    "# Identify x_cols\n",
    "x_titanic = titanic.columns.to_list()\n",
    "x_titanic = [col for col in x_titanic if col not in ['survived', 'sex', 'embark_town']]\n",
    "x_titanic"
   ]
  },
  {
   "cell_type": "code",
   "execution_count": 8,
   "id": "006ec24e",
   "metadata": {},
   "outputs": [
    {
     "name": "stdout",
     "output_type": "stream",
     "text": [
      "What column do you want to stratify onsurvived\n",
      "train.shape:(498, 12)\n",
      "validate.shape:(214, 12)\n",
      "test.shape:(179, 12)\n"
     ]
    }
   ],
   "source": [
    "# split data and stratify on survived\n",
    "train, validate, test = prepare.split(titanic)"
   ]
  },
  {
   "cell_type": "code",
   "execution_count": 9,
   "id": "23cf6110",
   "metadata": {},
   "outputs": [
    {
     "data": {
      "text/plain": [
       "((498, 12), (214, 12), (179, 12))"
      ]
     },
     "execution_count": 9,
     "metadata": {},
     "output_type": "execute_result"
    }
   ],
   "source": [
    "# Verify split shapes\n",
    "train.shape, validate.shape, test.shape"
   ]
  },
  {
   "cell_type": "code",
   "execution_count": 14,
   "id": "7a81e018",
   "metadata": {},
   "outputs": [
    {
     "data": {
      "text/html": [
       "<div>\n",
       "<style scoped>\n",
       "    .dataframe tbody tr th:only-of-type {\n",
       "        vertical-align: middle;\n",
       "    }\n",
       "\n",
       "    .dataframe tbody tr th {\n",
       "        vertical-align: top;\n",
       "    }\n",
       "\n",
       "    .dataframe thead th {\n",
       "        text-align: right;\n",
       "    }\n",
       "</style>\n",
       "<table border=\"1\" class=\"dataframe\">\n",
       "  <thead>\n",
       "    <tr style=\"text-align: right;\">\n",
       "      <th></th>\n",
       "      <th>survived</th>\n",
       "    </tr>\n",
       "  </thead>\n",
       "  <tbody>\n",
       "    <tr>\n",
       "      <th>474</th>\n",
       "      <td>0</td>\n",
       "    </tr>\n",
       "    <tr>\n",
       "      <th>370</th>\n",
       "      <td>1</td>\n",
       "    </tr>\n",
       "    <tr>\n",
       "      <th>573</th>\n",
       "      <td>1</td>\n",
       "    </tr>\n",
       "    <tr>\n",
       "      <th>110</th>\n",
       "      <td>0</td>\n",
       "    </tr>\n",
       "    <tr>\n",
       "      <th>167</th>\n",
       "      <td>0</td>\n",
       "    </tr>\n",
       "    <tr>\n",
       "      <th>...</th>\n",
       "      <td>...</td>\n",
       "    </tr>\n",
       "    <tr>\n",
       "      <th>735</th>\n",
       "      <td>0</td>\n",
       "    </tr>\n",
       "    <tr>\n",
       "      <th>163</th>\n",
       "      <td>0</td>\n",
       "    </tr>\n",
       "    <tr>\n",
       "      <th>770</th>\n",
       "      <td>0</td>\n",
       "    </tr>\n",
       "    <tr>\n",
       "      <th>196</th>\n",
       "      <td>0</td>\n",
       "    </tr>\n",
       "    <tr>\n",
       "      <th>94</th>\n",
       "      <td>0</td>\n",
       "    </tr>\n",
       "  </tbody>\n",
       "</table>\n",
       "<p>498 rows × 1 columns</p>\n",
       "</div>"
      ],
      "text/plain": [
       "     survived\n",
       "474         0\n",
       "370         1\n",
       "573         1\n",
       "110         0\n",
       "167         0\n",
       "..        ...\n",
       "735         0\n",
       "163         0\n",
       "770         0\n",
       "196         0\n",
       "94          0\n",
       "\n",
       "[498 rows x 1 columns]"
      ]
     },
     "execution_count": 14,
     "metadata": {},
     "output_type": "execute_result"
    }
   ],
   "source": [
    "models = pd.DataFrame(titanic_train.survived)\n",
    "models"
   ]
  },
  {
   "cell_type": "markdown",
   "id": "a1b00a32",
   "metadata": {},
   "source": [
    "<a id='Q1'></a>\n",
    "### 1. Fit the Random Forest classifier to your training sample and transform (i.e. make predictions on the training sample) setting the random_state accordingly and setting min_samples_leaf = 1 and max_depth = 10.\n",
    "<li><a href='#TableOfContents'>Table of Contents</a></li>"
   ]
  },
  {
   "cell_type": "code",
   "execution_count": 15,
   "id": "f082da22",
   "metadata": {},
   "outputs": [],
   "source": [
    "clf1 = RandomForestClassifier(random_state=43110, min_samples_leaf=1, max_depth=10)\n",
    "clf1.fit(train[x_titanic], train[y_titanic])\n",
    "model1_rf = clf1.predict(train[x_titanic])\n",
    "models['model1_rf'] = model1_rf"
   ]
  },
  {
   "cell_type": "markdown",
   "id": "8877e4f8",
   "metadata": {},
   "source": [
    "<a id='Q2'></a>\n",
    "### 2. Evaluate your results using the model score, confusion matrix, and classification report.\n",
    "<li><a href='#TableOfContents'>Table of Contents</a></li>"
   ]
  },
  {
   "cell_type": "code",
   "execution_count": 25,
   "id": "73d37a5b",
   "metadata": {},
   "outputs": [
    {
     "name": "stdout",
     "output_type": "stream",
     "text": [
      "Score:\n",
      "0.96\n",
      "\n",
      "Confusion Matrix:\n",
      "[[174  17]\n",
      " [  2 305]]\n",
      "\n",
      "Classification Report:\n",
      "              precision    recall  f1-score   support\n",
      "\n",
      "           0       0.95      0.99      0.97       307\n",
      "           1       0.99      0.91      0.95       191\n",
      "\n",
      "    accuracy                           0.96       498\n",
      "   macro avg       0.97      0.95      0.96       498\n",
      "weighted avg       0.96      0.96      0.96       498\n",
      "\n"
     ]
    }
   ],
   "source": [
    "clf1_score = round(clf1.score(train[x_titanic], train[y_titanic]), 2)\n",
    "clf1_confusion_matrix = confusion_matrix(models.survived, models.model1_rf, labels=(1, 0))\n",
    "clf1_class_report = classification_report(models.survived, models.model1_rf)\n",
    "print(f'Score:\\n{clf1_score}\\n\\nConfusion Matrix:\\n{clf1_confusion_matrix}\\n\\nClassification Report:\\n{clf1_class_report}')"
   ]
  },
  {
   "cell_type": "markdown",
   "id": "8a5548fe",
   "metadata": {},
   "source": [
    "<a id='Q3'></a>\n",
    "### 3. Print and clearly label the following: Accuracy, true positive rate, false positive rate, true negative rate, false negative rate, precision, recall, f1-score, and support.\n",
    "<li><a href='#TableOfContents'>Table of Contents</a></li>"
   ]
  },
  {
   "cell_type": "code",
   "execution_count": 27,
   "id": "b4f20e2a",
   "metadata": {},
   "outputs": [
    {
     "name": "stdout",
     "output_type": "stream",
     "text": [
      "\u001b[32msurvived:\u001b[0m 100.00%\n",
      "\n",
      "\u001b[32mmodel1_rf:\u001b[0m 96.18%\n",
      "\n",
      "\u001b[31mHIGHEST VALUE =\u001b[0m \u001b[32mmodel1_rf\u001b[0m: 96.18%\n",
      "\u001b[31mLOWEST VALUE =\u001b[0m \u001b[32mmodel1_rf\u001b[0m: 96.18%\n"
     ]
    }
   ],
   "source": [
    "# Accuracy\n",
    "evaluation.accuracy(models, 'survived')"
   ]
  },
  {
   "cell_type": "code",
   "execution_count": 28,
   "id": "b5282486",
   "metadata": {},
   "outputs": [
    {
     "data": {
      "text/plain": [
       "0.35"
      ]
     },
     "execution_count": 28,
     "metadata": {},
     "output_type": "execute_result"
    }
   ],
   "source": [
    "# True Positive Rate\n",
    "round(clf1_confusion_matrix[0, 0] / clf1_confusion_matrix.sum(), 2)"
   ]
  },
  {
   "cell_type": "code",
   "execution_count": 29,
   "id": "ed74dd65",
   "metadata": {},
   "outputs": [
    {
     "data": {
      "text/plain": [
       "0.03"
      ]
     },
     "execution_count": 29,
     "metadata": {},
     "output_type": "execute_result"
    }
   ],
   "source": [
    "# False Positive Rate\n",
    "round(clf1_confusion_matrix[0, 1] / clf1_confusion_matrix.sum(), 2)"
   ]
  },
  {
   "cell_type": "code",
   "execution_count": 30,
   "id": "9066a394",
   "metadata": {},
   "outputs": [
    {
     "data": {
      "text/plain": [
       "0.0"
      ]
     },
     "execution_count": 30,
     "metadata": {},
     "output_type": "execute_result"
    }
   ],
   "source": [
    "# True Negative Rate\n",
    "round(clf1_confusion_matrix[1, 0] / clf1_confusion_matrix.sum(), 2)"
   ]
  },
  {
   "cell_type": "code",
   "execution_count": 31,
   "id": "3a18d0b8",
   "metadata": {},
   "outputs": [
    {
     "data": {
      "text/plain": [
       "0.61"
      ]
     },
     "execution_count": 31,
     "metadata": {},
     "output_type": "execute_result"
    }
   ],
   "source": [
    "# False Negative Rate\n",
    "round(clf1_confusion_matrix[1, 1] / clf1_confusion_matrix.sum(), 2)"
   ]
  },
  {
   "cell_type": "code",
   "execution_count": 32,
   "id": "71091198",
   "metadata": {},
   "outputs": [
    {
     "name": "stdout",
     "output_type": "stream",
     "text": [
      "\u001b[32msurvived:\u001b[0m 100.00%\n",
      "\n",
      "\u001b[32mmodel1_rf:\u001b[0m 91.10%\n",
      "\n",
      "\u001b[31mHIGHEST VALUE =\u001b[0m \u001b[32mmodel1_rf\u001b[0m: 91.10%\n",
      "\u001b[31mLOWEST VALUE =\u001b[0m \u001b[32mmodel1_rf\u001b[0m: 91.10%\n"
     ]
    }
   ],
   "source": [
    "# Precision\n",
    "evaluation.precision(models, 'survived', 1, 0)"
   ]
  },
  {
   "cell_type": "code",
   "execution_count": 33,
   "id": "84b08e52",
   "metadata": {},
   "outputs": [
    {
     "name": "stdout",
     "output_type": "stream",
     "text": [
      "\u001b[32msurvived:\u001b[0m 100.00%\n",
      "\n",
      "\u001b[32mmodel1_rf:\u001b[0m 98.86%\n",
      "\n",
      "\u001b[31mHIGHEST VALUE =\u001b[0m \u001b[32mmodel1_rf\u001b[0m: 98.86%\n",
      "\u001b[31mLOWEST VALUE =\u001b[0m \u001b[32mmodel1_rf\u001b[0m: 98.86%\n"
     ]
    }
   ],
   "source": [
    "# Recall\n",
    "evaluation.recall(models, 'survived', 1, 0)"
   ]
  },
  {
   "cell_type": "code",
   "execution_count": 34,
   "id": "3405c02b",
   "metadata": {},
   "outputs": [
    {
     "name": "stdout",
     "output_type": "stream",
     "text": [
      "\u001b[32msurvived:\u001b[0m 100.00%\n",
      "\n",
      "\u001b[32mmodel1_rf:\u001b[0m 94.82%\n",
      "\n",
      "\u001b[31mHIGHEST VALUE =\u001b[0m \u001b[32mmodel1_rf\u001b[0m: 94.82%\n",
      "\u001b[31mLOWEST VALUE =\u001b[0m \u001b[32mmodel1_rf\u001b[0m: 94.82%\n"
     ]
    }
   ],
   "source": [
    "# F1 Score\n",
    "evaluation.f1_score(models, 'survived', 1, 0)"
   ]
  },
  {
   "cell_type": "code",
   "execution_count": 35,
   "id": "7eec04f7",
   "metadata": {},
   "outputs": [
    {
     "data": {
      "text/plain": [
       "'              precision    recall  f1-score   support\\n\\n           0       0.95      0.99      0.97       307\\n           1       0.99      0.91      0.95       191\\n\\n    accuracy                           0.96       498\\n   macro avg       0.97      0.95      0.96       498\\nweighted avg       0.96      0.96      0.96       498\\n'"
      ]
     },
     "execution_count": 35,
     "metadata": {},
     "output_type": "execute_result"
    }
   ],
   "source": [
    "# Support\n",
    "classification_report(models.survived, models.model1_rf)"
   ]
  },
  {
   "cell_type": "markdown",
   "id": "9fd933b2",
   "metadata": {},
   "source": [
    "<a id='Q4'></a>\n",
    "### 4. Run through steps increasing your min_samples_leaf and decreasing your max_depth.\n",
    "<li><a href='#TableOfContents'>Table of Contents</a></li>"
   ]
  },
  {
   "cell_type": "code",
   "execution_count": 36,
   "id": "adb7b64b",
   "metadata": {},
   "outputs": [],
   "source": [
    "# min_samples_leaf = 2, max_depth = 9\n",
    "clf2 = RandomForestClassifier(random_state=43110, min_samples_leaf=2, max_depth=9)\n",
    "clf2.fit(train[x_titanic], train[y_titanic])\n",
    "model2_rf = clf2.predict(train[x_titanic])\n",
    "models['model2_rf'] = model2_rf"
   ]
  },
  {
   "cell_type": "code",
   "execution_count": 37,
   "id": "2abac223",
   "metadata": {},
   "outputs": [],
   "source": [
    "# min_samples_leaf = 3, max_depth = 8\n",
    "clf3 = RandomForestClassifier(random_state=43110, min_samples_leaf=3, max_depth=8)\n",
    "clf3.fit(train[x_titanic], train[y_titanic])\n",
    "model3_rf = clf3.predict(train[x_titanic])\n",
    "models['model3_rf'] = model3_rf"
   ]
  },
  {
   "cell_type": "code",
   "execution_count": 38,
   "id": "2cf2d7fe",
   "metadata": {},
   "outputs": [],
   "source": [
    "# min_samples_leaf = 4, max_depth = 7\n",
    "clf4 = RandomForestClassifier(random_state=43110, min_samples_leaf=4, max_depth=7)\n",
    "clf4.fit(train[x_titanic], train[y_titanic])\n",
    "model4_rf = clf4.predict(train[x_titanic])\n",
    "models['model4_rf'] = model4_rf"
   ]
  },
  {
   "cell_type": "code",
   "execution_count": 39,
   "id": "e85c9070",
   "metadata": {},
   "outputs": [],
   "source": [
    "# min_samples_leaf = 5, max_depth = 6\n",
    "clf5 = RandomForestClassifier(random_state=43110, min_samples_leaf=5, max_depth=6)\n",
    "clf5.fit(train[x_titanic], train[y_titanic])\n",
    "model5_rf = clf5.predict(train[x_titanic])\n",
    "models['model5_rf'] = model5_rf"
   ]
  },
  {
   "cell_type": "code",
   "execution_count": 40,
   "id": "179d46c4",
   "metadata": {},
   "outputs": [],
   "source": [
    "# min_samples_leaf = 6, max_depth = 5\n",
    "clf6 = RandomForestClassifier(random_state=43110, min_samples_leaf=6, max_depth=5)\n",
    "clf6.fit(train[x_titanic], train[y_titanic])\n",
    "model6_rf = clf6.predict(train[x_titanic])\n",
    "models['model6_rf'] = model6_rf"
   ]
  },
  {
   "cell_type": "code",
   "execution_count": 41,
   "id": "c7457236",
   "metadata": {},
   "outputs": [],
   "source": [
    "# min_samples_leaf = 7, max_depth = 4\n",
    "clf7 = RandomForestClassifier(random_state=43110, min_samples_leaf=7, max_depth=4)\n",
    "clf7.fit(train[x_titanic], train[y_titanic])\n",
    "model7_rf = clf7.predict(train[x_titanic])\n",
    "models['model7_rf'] = model7_rf"
   ]
  },
  {
   "cell_type": "code",
   "execution_count": 42,
   "id": "3cf761c5",
   "metadata": {},
   "outputs": [],
   "source": [
    "# min_samples_leaf = 8, max_depth = 3\n",
    "clf8 = RandomForestClassifier(random_state=43110, min_samples_leaf=8, max_depth=3)\n",
    "clf8.fit(train[x_titanic], train[y_titanic])\n",
    "model8_rf = clf8.predict(train[x_titanic])\n",
    "models['model8_rf'] = model8_rf"
   ]
  },
  {
   "cell_type": "code",
   "execution_count": 43,
   "id": "e4752f54",
   "metadata": {},
   "outputs": [],
   "source": [
    "# min_samples_leaf = 9, max_depth = 2\n",
    "clf9 = RandomForestClassifier(random_state=43110, min_samples_leaf=9, max_depth=2)\n",
    "clf9.fit(train[x_titanic], train[y_titanic])\n",
    "model9_rf = clf9.predict(train[x_titanic])\n",
    "models['model9_rf'] = model9_rf"
   ]
  },
  {
   "cell_type": "code",
   "execution_count": 44,
   "id": "edc99404",
   "metadata": {},
   "outputs": [],
   "source": [
    "# min_samples_leaf = 10, max_depth = 1\n",
    "clf10 = RandomForestClassifier(random_state=43110, min_samples_leaf=10, max_depth=1)\n",
    "clf10.fit(train[x_titanic], train[y_titanic])\n",
    "model10_rf = clf10.predict(train[x_titanic])\n",
    "models['model10_rf'] = model10_rf"
   ]
  },
  {
   "cell_type": "code",
   "execution_count": 45,
   "id": "511b6a09",
   "metadata": {},
   "outputs": [
    {
     "data": {
      "text/html": [
       "<div>\n",
       "<style scoped>\n",
       "    .dataframe tbody tr th:only-of-type {\n",
       "        vertical-align: middle;\n",
       "    }\n",
       "\n",
       "    .dataframe tbody tr th {\n",
       "        vertical-align: top;\n",
       "    }\n",
       "\n",
       "    .dataframe thead th {\n",
       "        text-align: right;\n",
       "    }\n",
       "</style>\n",
       "<table border=\"1\" class=\"dataframe\">\n",
       "  <thead>\n",
       "    <tr style=\"text-align: right;\">\n",
       "      <th></th>\n",
       "      <th>survived</th>\n",
       "      <th>model1_rf</th>\n",
       "      <th>model2_rf</th>\n",
       "      <th>model3_rf</th>\n",
       "      <th>model4_rf</th>\n",
       "      <th>model5_rf</th>\n",
       "      <th>model6_rf</th>\n",
       "      <th>model7_rf</th>\n",
       "      <th>model8_rf</th>\n",
       "      <th>model9_rf</th>\n",
       "      <th>model10_rf</th>\n",
       "    </tr>\n",
       "  </thead>\n",
       "  <tbody>\n",
       "    <tr>\n",
       "      <th>288</th>\n",
       "      <td>1</td>\n",
       "      <td>0</td>\n",
       "      <td>0</td>\n",
       "      <td>0</td>\n",
       "      <td>0</td>\n",
       "      <td>0</td>\n",
       "      <td>0</td>\n",
       "      <td>0</td>\n",
       "      <td>0</td>\n",
       "      <td>0</td>\n",
       "      <td>0</td>\n",
       "    </tr>\n",
       "  </tbody>\n",
       "</table>\n",
       "</div>"
      ],
      "text/plain": [
       "     survived  model1_rf  model2_rf  model3_rf  model4_rf  model5_rf  \\\n",
       "288         1          0          0          0          0          0   \n",
       "\n",
       "     model6_rf  model7_rf  model8_rf  model9_rf  model10_rf  \n",
       "288          0          0          0          0           0  "
      ]
     },
     "execution_count": 45,
     "metadata": {},
     "output_type": "execute_result"
    }
   ],
   "source": [
    "models.sample()"
   ]
  },
  {
   "cell_type": "markdown",
   "id": "c2209490",
   "metadata": {},
   "source": [
    "<a id='Q5'></a>\n",
    "### 5. What are the differences in the evaluation metrics? Which performs better on your in-sample data? Why?\n",
    "<li><a href='#TableOfContents'>Table of Contents</a></li>"
   ]
  },
  {
   "cell_type": "code",
   "execution_count": 46,
   "id": "c43bb412",
   "metadata": {},
   "outputs": [
    {
     "name": "stdout",
     "output_type": "stream",
     "text": [
      "\u001b[32msurvived:\u001b[0m 100.00%\n",
      "\n",
      "\u001b[32mmodel1_rf:\u001b[0m 94.82%\n",
      "\n",
      "\u001b[32mmodel2_rf:\u001b[0m 87.29%\n",
      "\n",
      "\u001b[32mmodel3_rf:\u001b[0m 84.18%\n",
      "\n",
      "\u001b[32mmodel4_rf:\u001b[0m 82.72%\n",
      "\n",
      "\u001b[32mmodel5_rf:\u001b[0m 80.81%\n",
      "\n",
      "\u001b[32mmodel6_rf:\u001b[0m 75.53%\n",
      "\n",
      "\u001b[32mmodel7_rf:\u001b[0m 74.55%\n",
      "\n",
      "\u001b[32mmodel8_rf:\u001b[0m 72.52%\n",
      "\n",
      "\u001b[32mmodel9_rf:\u001b[0m 71.78%\n",
      "\n",
      "\u001b[32mmodel10_rf:\u001b[0m 71.78%\n",
      "\n",
      "\u001b[31mHIGHEST VALUE =\u001b[0m \u001b[32mmodel1_rf\u001b[0m: 94.82%\n",
      "\u001b[31mLOWEST VALUE =\u001b[0m \u001b[32mmodel9_rf\u001b[0m: 71.78%\n"
     ]
    }
   ],
   "source": [
    "evaluation.f1_score(models, 'survived', 1, 0)"
   ]
  },
  {
   "cell_type": "markdown",
   "id": "b76acc7f",
   "metadata": {},
   "source": [
    "Model-1 performed the best via F-1 Score being the highest...\n",
    "\n",
    "Something to note, as min_samples_leaf increased and max_depth decreased, the scores consistently  got lower"
   ]
  },
  {
   "cell_type": "markdown",
   "id": "7dfb1a57",
   "metadata": {},
   "source": [
    "<a id='Additional'></a>\n",
    "### Additional. After making a few models, which one has the best performance (or closest metrics) on both train and validate?\n",
    "<li><a href='#TableOfContents'>Table of Contents</a></li>"
   ]
  },
  {
   "cell_type": "code",
   "execution_count": null,
   "id": "a57a07e8",
   "metadata": {},
   "outputs": [],
   "source": []
  }
 ],
 "metadata": {
  "kernelspec": {
   "display_name": "Python 3 (ipykernel)",
   "language": "python",
   "name": "python3"
  },
  "language_info": {
   "codemirror_mode": {
    "name": "ipython",
    "version": 3
   },
   "file_extension": ".py",
   "mimetype": "text/x-python",
   "name": "python",
   "nbconvert_exporter": "python",
   "pygments_lexer": "ipython3",
   "version": "3.9.13"
  }
 },
 "nbformat": 4,
 "nbformat_minor": 5
}
