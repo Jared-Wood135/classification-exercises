{
 "cells": [
  {
   "cell_type": "markdown",
   "id": "2ca6cc63",
   "metadata": {},
   "source": [
    "<a id=\"TableOfContents\"></a>\n",
    "# Table of Contents:\n",
    "<li><a href='#imports'>Imports</a></li>\n",
    "<li><a href=\"#Q1\">Question 1</a></li>\n",
    "<li><a href=\"#Q2\">Question 2</a></li>\n",
    "<li><a href=\"#Q3\">Question 3</a></li>\n",
    "<li><a href=\"#Q4\">Question 4</a></li>\n",
    "<li><a href=\"#Q5\">Question 5</a></li>\n",
    "<li><a href=\"#Additional\">Additional Question</a></li>"
   ]
  },
  {
   "cell_type": "markdown",
   "id": "a86dbbd9",
   "metadata": {},
   "source": [
    "<a id='imports'></a>\n",
    "### IMPORTS:\n",
    "<li><a href='#TableOfContents'>Table of Contents</a></li>"
   ]
  },
  {
   "cell_type": "code",
   "execution_count": 1,
   "id": "2b6930fc",
   "metadata": {},
   "outputs": [],
   "source": [
    "# Basic sheiza\n",
    "import numpy as np\n",
    "import pandas as pd\n",
    "import seaborn as sns\n",
    "import matplotlib.pyplot as plt\n",
    "\n",
    "# Stat/Exploration\n",
    "from scipy import stats\n",
    "\n",
    "# Modeling\n",
    "from sklearn.model_selection import train_test_split\n",
    "from sklearn.tree import DecisionTreeClassifier, export_text, plot_tree\n",
    "from sklearn.metrics import accuracy_score, classification_report, confusion_matrix\n",
    "from sklearn.ensemble import RandomForestClassifier\n",
    "\n",
    "# .py files\n",
    "import acquire\n",
    "import prepare\n",
    "import explore\n",
    "import evaluation"
   ]
  },
  {
   "cell_type": "markdown",
   "id": "a1b00a32",
   "metadata": {},
   "source": [
    "<a id='Q1'></a>\n",
    "### 1. Fit the Random Forest classifier to your training sample and transform (i.e. make predictions on the training sample) setting the random_state accordingly and setting min_samples_leaf = 1 and max_depth = 10.\n",
    "<li><a href='#TableOfContents'>Table of Contents</a></li>"
   ]
  },
  {
   "cell_type": "code",
   "execution_count": null,
   "id": "f082da22",
   "metadata": {},
   "outputs": [],
   "source": []
  },
  {
   "cell_type": "markdown",
   "id": "8877e4f8",
   "metadata": {},
   "source": [
    "<a id='Q2'></a>\n",
    "### 2. Evaluate your results using the model score, confusion matrix, and classification report.\n",
    "<li><a href='#TableOfContents'>Table of Contents</a></li>"
   ]
  },
  {
   "cell_type": "code",
   "execution_count": null,
   "id": "73d37a5b",
   "metadata": {},
   "outputs": [],
   "source": []
  },
  {
   "cell_type": "markdown",
   "id": "8a5548fe",
   "metadata": {},
   "source": [
    "<a id='Q3'></a>\n",
    "### 3. Print and clearly label the following: Accuracy, true positive rate, false positive rate, true negative rate, false negative rate, precision, recall, f1-score, and support.\n",
    "<li><a href='#TableOfContents'>Table of Contents</a></li>"
   ]
  },
  {
   "cell_type": "code",
   "execution_count": null,
   "id": "b4f20e2a",
   "metadata": {},
   "outputs": [],
   "source": []
  },
  {
   "cell_type": "markdown",
   "id": "9fd933b2",
   "metadata": {},
   "source": [
    "<a id='Q4'></a>\n",
    "### 4. Run through steps increasing your min_samples_leaf and decreasing your max_depth.\n",
    "<li><a href='#TableOfContents'>Table of Contents</a></li>"
   ]
  },
  {
   "cell_type": "code",
   "execution_count": null,
   "id": "789721cc",
   "metadata": {},
   "outputs": [],
   "source": []
  },
  {
   "cell_type": "markdown",
   "id": "c2209490",
   "metadata": {},
   "source": [
    "<a id='Q5'></a>\n",
    "### 5. What are the differences in the evaluation metrics? Which performs better on your in-sample data? Why?\n",
    "<li><a href='#TableOfContents'>Table of Contents</a></li>"
   ]
  },
  {
   "cell_type": "code",
   "execution_count": null,
   "id": "c43bb412",
   "metadata": {},
   "outputs": [],
   "source": []
  },
  {
   "cell_type": "markdown",
   "id": "7dfb1a57",
   "metadata": {},
   "source": [
    "<a id='Additional'></a>\n",
    "### Additional. After making a few models, which one has the best performance (or closest metrics) on both train and validate?\n",
    "<li><a href='#TableOfContents'>Table of Contents</a></li>"
   ]
  },
  {
   "cell_type": "code",
   "execution_count": null,
   "id": "a57a07e8",
   "metadata": {},
   "outputs": [],
   "source": []
  }
 ],
 "metadata": {
  "kernelspec": {
   "display_name": "Python 3 (ipykernel)",
   "language": "python",
   "name": "python3"
  },
  "language_info": {
   "codemirror_mode": {
    "name": "ipython",
    "version": 3
   },
   "file_extension": ".py",
   "mimetype": "text/x-python",
   "name": "python",
   "nbconvert_exporter": "python",
   "pygments_lexer": "ipython3",
   "version": "3.9.13"
  }
 },
 "nbformat": 4,
 "nbformat_minor": 5
}
