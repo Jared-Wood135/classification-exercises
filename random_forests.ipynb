{
 "cells": [
  {
   "cell_type": "markdown",
   "id": "36ddc6c0",
   "metadata": {},
   "source": [
    "<a id=\"TableOfContents\"></a>\n",
    "# Table of Contents:\n",
    "<li><a href='#imports'>Imports</li></a>\n",
    "<li><a href=\"#Q1\">Question 1</li></a>\n",
    "<li><a href=\"#Q2\">Question 2</li></a>\n",
    "<li><a href=\"#Q3\">Question 3</li></a>\n",
    "<li><a href=\"#Q4\">Question 4</li></a>\n",
    "<li><a href=\"#Q5\">Question 5</li></a>\n",
    "<li><a href=\"#Additional\">Additional Question</li></a>"
   ]
  },
  {
   "cell_type": "markdown",
   "id": "b1e0ea4b",
   "metadata": {},
   "source": [
    "<a id='imports'></a>\n",
    "### IMPORTS:\n",
    "<li><a href='#TableOfContents'>Table of Contents</a></li>"
   ]
  },
  {
   "cell_type": "code",
   "execution_count": 1,
   "id": "9a64c473",
   "metadata": {},
   "outputs": [],
   "source": [
    "# Basic sheiza\n",
    "import numpy as np\n",
    "import pandas as pd\n",
    "import seaborn as sns\n",
    "import matplotlib.pyplot as plt\n",
    "\n",
    "# Stat/Exploration\n",
    "from scipy import stats\n",
    "from sklearn.metrics import confusion_matrix\n",
    "\n",
    "# .py files\n",
    "import acquire\n",
    "import prepare\n",
    "import explore\n",
    "import evaluation"
   ]
  },
  {
   "cell_type": "markdown",
   "id": "99a078b8",
   "metadata": {},
   "source": [
    "<a id='Q1'></a>\n",
    "### 1. Fit the Random Forest classifier to your training sample and transform (i.e. make predictions on the training sample) setting the random_state accordingly and setting min_samples_leaf = 1 and max_depth = 10.\n",
    "<li><a href='#TableOfContents'>Table of Contents</a></li>"
   ]
  },
  {
   "cell_type": "code",
   "execution_count": null,
   "id": "dedb955f",
   "metadata": {},
   "outputs": [],
   "source": []
  },
  {
   "cell_type": "markdown",
   "id": "470caae0",
   "metadata": {},
   "source": [
    "<a id='Q2'></a>\n",
    "### 2. Evaluate your results using the model score, confusion matrix, and classification report.\n",
    "<li><a href='#TableOfContents'>Table of Contents</a></li>"
   ]
  },
  {
   "cell_type": "code",
   "execution_count": null,
   "id": "0ebb5b05",
   "metadata": {},
   "outputs": [],
   "source": []
  },
  {
   "cell_type": "markdown",
   "id": "c2ef08c8",
   "metadata": {},
   "source": [
    "<a id='Q3'></a>\n",
    "### 3. Print and clearly label the following: Accuracy, true positive rate, false positive rate, true negative rate, false negative rate, precision, recall, f1-score, and support.\n",
    "<li><a href='#TableOfContents'>Table of Contents</a></li>"
   ]
  },
  {
   "cell_type": "code",
   "execution_count": null,
   "id": "1e315556",
   "metadata": {},
   "outputs": [],
   "source": []
  },
  {
   "cell_type": "markdown",
   "id": "064bfa2d",
   "metadata": {},
   "source": [
    "<a id='Q4'></a>\n",
    "### 4. Run through steps increasing your min_samples_leaf and decreasing your max_depth.\n",
    "<li><a href='#TableOfContents'>Table of Contents</a></li>"
   ]
  },
  {
   "cell_type": "code",
   "execution_count": null,
   "id": "2e0f36ca",
   "metadata": {},
   "outputs": [],
   "source": []
  },
  {
   "cell_type": "markdown",
   "id": "88e15617",
   "metadata": {},
   "source": [
    "<a id='Q5'></a>\n",
    "### 5. What are the differences in the evaluation metrics? Which performs better on your in-sample data? Why?\n",
    "<li><a href='#TableOfContents'>Table of Contents</a></li>"
   ]
  },
  {
   "cell_type": "code",
   "execution_count": null,
   "id": "3fa8f284",
   "metadata": {},
   "outputs": [],
   "source": []
  },
  {
   "cell_type": "markdown",
   "id": "d1b8c81c",
   "metadata": {},
   "source": [
    "<a id='Additional'></a>\n",
    "### Additional. After making a few models, which one has the best performance (or closest metrics) on both train and validate?\n",
    "<li><a href='#TableOfContents'>Table of Contents</a></li>"
   ]
  },
  {
   "cell_type": "code",
   "execution_count": null,
   "id": "fce2b135",
   "metadata": {},
   "outputs": [],
   "source": []
  }
 ],
 "metadata": {
  "kernelspec": {
   "display_name": "Python 3 (ipykernel)",
   "language": "python",
   "name": "python3"
  },
  "language_info": {
   "codemirror_mode": {
    "name": "ipython",
    "version": 3
   },
   "file_extension": ".py",
   "mimetype": "text/x-python",
   "name": "python",
   "nbconvert_exporter": "python",
   "pygments_lexer": "ipython3",
   "version": "3.9.13"
  }
 },
 "nbformat": 4,
 "nbformat_minor": 5
}
