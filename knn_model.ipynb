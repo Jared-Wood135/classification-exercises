{
 "cells": [
  {
   "cell_type": "markdown",
   "id": "df5f912f",
   "metadata": {},
   "source": [
    "<a id=\"TableOfContents\"></a>\n",
    "# Table of Contents:\n",
    "<li><a href='#imports'>Imports</a></li>\n",
    "<li><a href=\"#Q1\">Question 1</a></li>\n",
    "<li><a href=\"#Q2\">Question 2</a></li>\n",
    "<li><a href=\"#Q3\">Question 3</a></li>\n",
    "<li><a href=\"#Q4\">Question 4</a></li>\n",
    "<li><a href=\"#Q5\">Question 5</a></li>\n",
    "<li><a href=\"#Q6\">Question 6</a></li>\n",
    "<li><a href=\"#Q7\">Question 7</a></li>"
   ]
  },
  {
   "cell_type": "markdown",
   "id": "06a2bbdf",
   "metadata": {},
   "source": [
    "<a id='imports'></a>\n",
    "### Imports:\n",
    "<li><a href='#TableOfContents'>Table of Contents</a></li>"
   ]
  },
  {
   "cell_type": "code",
   "execution_count": 2,
   "id": "04560fe3",
   "metadata": {},
   "outputs": [],
   "source": [
    "# Basic sheiza\n",
    "import numpy as np\n",
    "import pandas as pd\n",
    "import seaborn as sns\n",
    "import matplotlib.pyplot as plt\n",
    "\n",
    "# Stats\n",
    "from scipy import stats\n",
    "\n",
    "# Modeling\n",
    "from sklearn.model_selection import train_test_split\n",
    "from sklearn.neighbors import KNeighborsClassifier\n",
    "from sklearn.metrics import classification_report, confusion_matrix, plot_confusion_matrix\n",
    "\n",
    "# .py files\n",
    "import acquire\n",
    "import prepare\n",
    "import explore\n",
    "import evaluation"
   ]
  },
  {
   "cell_type": "markdown",
   "id": "e31dfb25",
   "metadata": {},
   "source": [
    "Create a new notebook, knn_model, and work with the titanic dataset to answer the following:"
   ]
  },
  {
   "cell_type": "code",
   "execution_count": 4,
   "id": "8c1d53b2",
   "metadata": {},
   "outputs": [
    {
     "data": {
      "text/html": [
       "<div>\n",
       "<style scoped>\n",
       "    .dataframe tbody tr th:only-of-type {\n",
       "        vertical-align: middle;\n",
       "    }\n",
       "\n",
       "    .dataframe tbody tr th {\n",
       "        vertical-align: top;\n",
       "    }\n",
       "\n",
       "    .dataframe thead th {\n",
       "        text-align: right;\n",
       "    }\n",
       "</style>\n",
       "<table border=\"1\" class=\"dataframe\">\n",
       "  <thead>\n",
       "    <tr style=\"text-align: right;\">\n",
       "      <th></th>\n",
       "      <th>survived</th>\n",
       "      <th>pclass</th>\n",
       "      <th>sex</th>\n",
       "      <th>age</th>\n",
       "      <th>fare</th>\n",
       "      <th>embark_town</th>\n",
       "      <th>alone</th>\n",
       "      <th>sex_female</th>\n",
       "      <th>sex_male</th>\n",
       "      <th>embark_town_Cherbourg</th>\n",
       "      <th>embark_town_Queenstown</th>\n",
       "      <th>embark_town_Southampton</th>\n",
       "    </tr>\n",
       "  </thead>\n",
       "  <tbody>\n",
       "    <tr>\n",
       "      <th>586</th>\n",
       "      <td>0</td>\n",
       "      <td>2</td>\n",
       "      <td>male</td>\n",
       "      <td>47.0</td>\n",
       "      <td>15.0</td>\n",
       "      <td>Southampton</td>\n",
       "      <td>1</td>\n",
       "      <td>0</td>\n",
       "      <td>1</td>\n",
       "      <td>0</td>\n",
       "      <td>0</td>\n",
       "      <td>1</td>\n",
       "    </tr>\n",
       "  </tbody>\n",
       "</table>\n",
       "</div>"
      ],
      "text/plain": [
       "     survived  pclass   sex   age  fare  embark_town  alone  sex_female  \\\n",
       "586         0       2  male  47.0  15.0  Southampton      1           0   \n",
       "\n",
       "     sex_male  embark_town_Cherbourg  embark_town_Queenstown  \\\n",
       "586         1                      0                       0   \n",
       "\n",
       "     embark_town_Southampton  \n",
       "586                        1  "
      ]
     },
     "execution_count": 4,
     "metadata": {},
     "output_type": "execute_result"
    }
   ],
   "source": [
    "# Get titanic dataset\n",
    "titanic = prepare.prep_titanic()\n",
    "titanic.sample()"
   ]
  },
  {
   "cell_type": "code",
   "execution_count": 9,
   "id": "297c7b3f",
   "metadata": {},
   "outputs": [
    {
     "data": {
      "text/plain": [
       "['pclass',\n",
       " 'age',\n",
       " 'fare',\n",
       " 'alone',\n",
       " 'sex_female',\n",
       " 'sex_male',\n",
       " 'embark_town_Cherbourg',\n",
       " 'embark_town_Queenstown',\n",
       " 'embark_town_Southampton']"
      ]
     },
     "execution_count": 9,
     "metadata": {},
     "output_type": "execute_result"
    }
   ],
   "source": [
    "# Define x_cols\n",
    "'''\n",
    "REMOVE:\n",
    "'survived'\n",
    "'sex'\n",
    "'embark_town'\n",
    "'''\n",
    "x_cols = [col for col \n",
    "          in titanic.columns.to_list() \n",
    "          if col not in \n",
    "          ['survived', 'sex', 'embark_town']]\n",
    "x_cols"
   ]
  },
  {
   "cell_type": "code",
   "execution_count": 11,
   "id": "2f27cb95",
   "metadata": {},
   "outputs": [
    {
     "data": {
      "text/plain": [
       "'survived'"
      ]
     },
     "execution_count": 11,
     "metadata": {},
     "output_type": "execute_result"
    }
   ],
   "source": [
    "# Define y_cols\n",
    "'''\n",
    "'survived'\n",
    "'''\n",
    "y_cols = 'survived'\n",
    "y_cols"
   ]
  },
  {
   "cell_type": "code",
   "execution_count": 12,
   "id": "8d3076a1",
   "metadata": {},
   "outputs": [
    {
     "name": "stdout",
     "output_type": "stream",
     "text": [
      "What column do you want to stratify onsurvived\n",
      "train.shape:(498, 12)\n",
      "validate.shape:(214, 12)\n",
      "test.shape:(179, 12)\n"
     ]
    }
   ],
   "source": [
    "# Split data (Train, Validate, Test)\n",
    "# stratify on 'survived'\n",
    "train, val, test = prepare.split(titanic)"
   ]
  },
  {
   "cell_type": "code",
   "execution_count": 13,
   "id": "5be1a14e",
   "metadata": {},
   "outputs": [
    {
     "data": {
      "text/plain": [
       "((498, 12), (214, 12), (179, 12))"
      ]
     },
     "execution_count": 13,
     "metadata": {},
     "output_type": "execute_result"
    }
   ],
   "source": [
    "# Confirm shapes of split data\n",
    "train.shape, val.shape, test.shape"
   ]
  },
  {
   "cell_type": "code",
   "execution_count": 14,
   "id": "230bfce1",
   "metadata": {},
   "outputs": [],
   "source": [
    "# Define x/y train, val, test\n",
    "x_train = train[x_cols]\n",
    "y_train = train.survived\n",
    "x_val = val[x_cols]\n",
    "y_val = val.survived\n",
    "x_test = test[x_cols]\n",
    "y_test = test.survived"
   ]
  },
  {
   "cell_type": "code",
   "execution_count": 19,
   "id": "e81de48e",
   "metadata": {},
   "outputs": [],
   "source": [
    "# Create train, val, test models df\n",
    "train_models = pd.DataFrame(train.survived)\n",
    "val_models = pd.DataFrame(val.survived)\n",
    "test_models = pd.DataFrame(test.survived)"
   ]
  },
  {
   "cell_type": "markdown",
   "id": "3a416b81",
   "metadata": {},
   "source": [
    "<a id='Q1'></a>\n",
    "### 1. Fit a K-Nearest Neighbors classifier to your training sample and transform (i.e. make predictions on the training sample)\n",
    "<li><a href='#TableOfContents'>Table of Contents</a></li>"
   ]
  },
  {
   "cell_type": "code",
   "execution_count": 21,
   "id": "a5de4519",
   "metadata": {},
   "outputs": [
    {
     "name": "stderr",
     "output_type": "stream",
     "text": [
      "/usr/local/anaconda3/lib/python3.9/site-packages/sklearn/neighbors/_classification.py:228: FutureWarning: Unlike other reduction functions (e.g. `skew`, `kurtosis`), the default behavior of `mode` typically preserves the axis it acts along. In SciPy 1.11.0, this behavior will change: the default value of `keepdims` will become False, the `axis` over which the statistic is taken will be eliminated, and the value None will no longer be accepted. Set `keepdims` to True or False to avoid this warning.\n",
      "  mode, _ = stats.mode(_y[neigh_ind, k], axis=1)\n"
     ]
    }
   ],
   "source": [
    "knn1 = KNeighborsClassifier()\n",
    "knn1.fit(x_train, y_train)\n",
    "model1 = knn1.predict(x_train)\n",
    "train_models['model1'] = model1"
   ]
  },
  {
   "cell_type": "markdown",
   "id": "c12a2b20",
   "metadata": {},
   "source": [
    "<a id='Q2'></a>\n",
    "### 2. Evaluate your results using the model score, confusion matrix, and classification report.\n",
    "<li><a href='#TableOfContents'>Table of Contents</a></li>"
   ]
  },
  {
   "cell_type": "code",
   "execution_count": 22,
   "id": "ddc8749e",
   "metadata": {},
   "outputs": [
    {
     "name": "stderr",
     "output_type": "stream",
     "text": [
      "/usr/local/anaconda3/lib/python3.9/site-packages/sklearn/neighbors/_classification.py:228: FutureWarning: Unlike other reduction functions (e.g. `skew`, `kurtosis`), the default behavior of `mode` typically preserves the axis it acts along. In SciPy 1.11.0, this behavior will change: the default value of `keepdims` will become False, the `axis` over which the statistic is taken will be eliminated, and the value None will no longer be accepted. Set `keepdims` to True or False to avoid this warning.\n",
      "  mode, _ = stats.mode(_y[neigh_ind, k], axis=1)\n"
     ]
    },
    {
     "data": {
      "text/plain": [
       "0.8112449799196787"
      ]
     },
     "execution_count": 22,
     "metadata": {},
     "output_type": "execute_result"
    }
   ],
   "source": [
    "# Model Score\n",
    "knn1.score(x_train, y_train)"
   ]
  },
  {
   "cell_type": "code",
   "execution_count": 23,
   "id": "0493f94e",
   "metadata": {},
   "outputs": [
    {
     "data": {
      "text/plain": [
       "array([[269,  38],\n",
       "       [ 56, 135]])"
      ]
     },
     "execution_count": 23,
     "metadata": {},
     "output_type": "execute_result"
    }
   ],
   "source": [
    "# Confusion Matrix\n",
    "model1_matrix = confusion_matrix(y_train, model1, labels=(0, 1))\n",
    "model1_matrix"
   ]
  },
  {
   "cell_type": "code",
   "execution_count": 24,
   "id": "5fed4add",
   "metadata": {},
   "outputs": [
    {
     "data": {
      "text/plain": [
       "'              precision    recall  f1-score   support\\n\\n           0       0.83      0.88      0.85       307\\n           1       0.78      0.71      0.74       191\\n\\n    accuracy                           0.81       498\\n   macro avg       0.80      0.79      0.80       498\\nweighted avg       0.81      0.81      0.81       498\\n'"
      ]
     },
     "execution_count": 24,
     "metadata": {},
     "output_type": "execute_result"
    }
   ],
   "source": [
    "# Classification Report\n",
    "classification_report(y_train, model1)"
   ]
  },
  {
   "cell_type": "markdown",
   "id": "47faf4c1",
   "metadata": {},
   "source": [
    "<a id='Q3'></a>\n",
    "### 3. Print and clearly label the following: Accuracy, true positive rate, false positive rate, true negative rate, false negative rate, precision, recall, f1-score, and support.\n",
    "<li><a href='#TableOfContents'>Table of Contents</a></li>"
   ]
  },
  {
   "cell_type": "code",
   "execution_count": 26,
   "id": "3c730ff2",
   "metadata": {},
   "outputs": [
    {
     "name": "stdout",
     "output_type": "stream",
     "text": [
      "\u001b[32msurvived:\u001b[0m 100.00%\n",
      "\n",
      "\u001b[32mmodel1:\u001b[0m 81.12%\n",
      "\n",
      "\u001b[31mHIGHEST VALUE =\u001b[0m \u001b[32mmodel1\u001b[0m: 81.12%\n",
      "\u001b[31mLOWEST VALUE =\u001b[0m \u001b[32mmodel1\u001b[0m: 81.12%\n"
     ]
    }
   ],
   "source": [
    "# Accuracy\n",
    "evaluation.accuracy(train_models, 'survived')"
   ]
  },
  {
   "cell_type": "code",
   "execution_count": 27,
   "id": "3b7a5c5e",
   "metadata": {},
   "outputs": [
    {
     "data": {
      "text/plain": [
       "0.2710843373493976"
      ]
     },
     "execution_count": 27,
     "metadata": {},
     "output_type": "execute_result"
    }
   ],
   "source": [
    "# True Positive Rate\n",
    "model1_matrix[1, 1] / model1_matrix.sum()"
   ]
  },
  {
   "cell_type": "code",
   "execution_count": 28,
   "id": "ea3e1aa8",
   "metadata": {},
   "outputs": [
    {
     "data": {
      "text/plain": [
       "0.07630522088353414"
      ]
     },
     "execution_count": 28,
     "metadata": {},
     "output_type": "execute_result"
    }
   ],
   "source": [
    "# False Positive Rate\n",
    "model1_matrix[0, 1] / model1_matrix.sum()"
   ]
  },
  {
   "cell_type": "code",
   "execution_count": 29,
   "id": "625c0f1d",
   "metadata": {},
   "outputs": [
    {
     "data": {
      "text/plain": [
       "0.5401606425702812"
      ]
     },
     "execution_count": 29,
     "metadata": {},
     "output_type": "execute_result"
    }
   ],
   "source": [
    "# True Negative Rate\n",
    "model1_matrix[0, 0] / model1_matrix.sum()"
   ]
  },
  {
   "cell_type": "code",
   "execution_count": 30,
   "id": "d4854027",
   "metadata": {},
   "outputs": [
    {
     "data": {
      "text/plain": [
       "0.11244979919678715"
      ]
     },
     "execution_count": 30,
     "metadata": {},
     "output_type": "execute_result"
    }
   ],
   "source": [
    "# False Negative Rate\n",
    "model1_matrix[1, 0] / model1_matrix.sum()"
   ]
  },
  {
   "cell_type": "code",
   "execution_count": 31,
   "id": "b418dc89",
   "metadata": {},
   "outputs": [
    {
     "name": "stdout",
     "output_type": "stream",
     "text": [
      "\u001b[32msurvived:\u001b[0m 100.00%\n",
      "\n",
      "\u001b[32mmodel1:\u001b[0m 78.03%\n",
      "\n",
      "\u001b[31mHIGHEST VALUE =\u001b[0m \u001b[32mmodel1\u001b[0m: 78.03%\n",
      "\u001b[31mLOWEST VALUE =\u001b[0m \u001b[32mmodel1\u001b[0m: 78.03%\n"
     ]
    }
   ],
   "source": [
    "# Precision\n",
    "evaluation.precision(train_models, 'survived', 0, 1)"
   ]
  },
  {
   "cell_type": "code",
   "execution_count": 32,
   "id": "7aaa8f81",
   "metadata": {},
   "outputs": [
    {
     "name": "stdout",
     "output_type": "stream",
     "text": [
      "\u001b[32msurvived:\u001b[0m 100.00%\n",
      "\n",
      "\u001b[32mmodel1:\u001b[0m 70.68%\n",
      "\n",
      "\u001b[31mHIGHEST VALUE =\u001b[0m \u001b[32mmodel1\u001b[0m: 70.68%\n",
      "\u001b[31mLOWEST VALUE =\u001b[0m \u001b[32mmodel1\u001b[0m: 70.68%\n"
     ]
    }
   ],
   "source": [
    "# Recall\n",
    "evaluation.recall(train_models, 'survived', 0, 1)"
   ]
  },
  {
   "cell_type": "code",
   "execution_count": 33,
   "id": "b7c7374f",
   "metadata": {},
   "outputs": [
    {
     "name": "stdout",
     "output_type": "stream",
     "text": [
      "\u001b[32msurvived:\u001b[0m 100.00%\n",
      "\n",
      "\u001b[32mmodel1:\u001b[0m 74.18%\n",
      "\n",
      "\u001b[31mHIGHEST VALUE =\u001b[0m \u001b[32mmodel1\u001b[0m: 74.18%\n",
      "\u001b[31mLOWEST VALUE =\u001b[0m \u001b[32mmodel1\u001b[0m: 74.18%\n"
     ]
    }
   ],
   "source": [
    "# F1 Score\n",
    "evaluation.f1_score(train_models, 'survived', 0, 1)"
   ]
  },
  {
   "cell_type": "code",
   "execution_count": 34,
   "id": "96cc6bbe",
   "metadata": {},
   "outputs": [
    {
     "data": {
      "text/plain": [
       "'              precision    recall  f1-score   support\\n\\n           0       0.83      0.88      0.85       307\\n           1       0.78      0.71      0.74       191\\n\\n    accuracy                           0.81       498\\n   macro avg       0.80      0.79      0.80       498\\nweighted avg       0.81      0.81      0.81       498\\n'"
      ]
     },
     "execution_count": 34,
     "metadata": {},
     "output_type": "execute_result"
    }
   ],
   "source": [
    "# Support\n",
    "classification_report(y_train, model1)"
   ]
  },
  {
   "cell_type": "markdown",
   "id": "58b07f2c",
   "metadata": {},
   "source": [
    "<a id='Q4'></a>\n",
    "### 4. Run through steps 1-3 setting k to 10\n",
    "<li><a href='#TableOfContents'>Table of Contents</a></li>"
   ]
  },
  {
   "cell_type": "markdown",
   "id": "ec612e66",
   "metadata": {},
   "source": [
    "##### 4a. Fit a K-Nearest Neighbors classifier to your training sample and transform (i.e. make predictions on the training sample)"
   ]
  },
  {
   "cell_type": "code",
   "execution_count": 35,
   "id": "9e946996",
   "metadata": {},
   "outputs": [
    {
     "name": "stderr",
     "output_type": "stream",
     "text": [
      "/usr/local/anaconda3/lib/python3.9/site-packages/sklearn/neighbors/_classification.py:228: FutureWarning: Unlike other reduction functions (e.g. `skew`, `kurtosis`), the default behavior of `mode` typically preserves the axis it acts along. In SciPy 1.11.0, this behavior will change: the default value of `keepdims` will become False, the `axis` over which the statistic is taken will be eliminated, and the value None will no longer be accepted. Set `keepdims` to True or False to avoid this warning.\n",
      "  mode, _ = stats.mode(_y[neigh_ind, k], axis=1)\n"
     ]
    }
   ],
   "source": [
    "knn2 = KNeighborsClassifier(n_neighbors=10, weights='uniform')\n",
    "knn2.fit(x_train, y_train)\n",
    "model2 = knn2.predict(x_train)\n",
    "train_models['model2'] = model2"
   ]
  },
  {
   "cell_type": "markdown",
   "id": "074896bb",
   "metadata": {},
   "source": [
    "##### 4b. Evaluate your results using the model score, confusion matrix, and classification report."
   ]
  },
  {
   "cell_type": "code",
   "execution_count": 36,
   "id": "9bcc1d8c",
   "metadata": {},
   "outputs": [
    {
     "name": "stderr",
     "output_type": "stream",
     "text": [
      "/usr/local/anaconda3/lib/python3.9/site-packages/sklearn/neighbors/_classification.py:228: FutureWarning: Unlike other reduction functions (e.g. `skew`, `kurtosis`), the default behavior of `mode` typically preserves the axis it acts along. In SciPy 1.11.0, this behavior will change: the default value of `keepdims` will become False, the `axis` over which the statistic is taken will be eliminated, and the value None will no longer be accepted. Set `keepdims` to True or False to avoid this warning.\n",
      "  mode, _ = stats.mode(_y[neigh_ind, k], axis=1)\n"
     ]
    },
    {
     "data": {
      "text/plain": [
       "0.7771084337349398"
      ]
     },
     "execution_count": 36,
     "metadata": {},
     "output_type": "execute_result"
    }
   ],
   "source": [
    "# Model Score\n",
    "knn2.score(x_train, y_train)"
   ]
  },
  {
   "cell_type": "code",
   "execution_count": 40,
   "id": "58592dcb",
   "metadata": {},
   "outputs": [
    {
     "data": {
      "text/plain": [
       "array([[280,  27],\n",
       "       [ 84, 107]])"
      ]
     },
     "execution_count": 40,
     "metadata": {},
     "output_type": "execute_result"
    }
   ],
   "source": [
    "# Confusion Matrix\n",
    "model2_matrix = confusion_matrix(y_train, model2, labels=(0, 1))\n",
    "model2_matrix"
   ]
  },
  {
   "cell_type": "code",
   "execution_count": 38,
   "id": "33c9b084",
   "metadata": {},
   "outputs": [
    {
     "data": {
      "text/plain": [
       "'              precision    recall  f1-score   support\\n\\n           0       0.77      0.91      0.83       307\\n           1       0.80      0.56      0.66       191\\n\\n    accuracy                           0.78       498\\n   macro avg       0.78      0.74      0.75       498\\nweighted avg       0.78      0.78      0.77       498\\n'"
      ]
     },
     "execution_count": 38,
     "metadata": {},
     "output_type": "execute_result"
    }
   ],
   "source": [
    "# Classification Report\n",
    "classification_report(y_train, model2)"
   ]
  },
  {
   "cell_type": "markdown",
   "id": "e7210536",
   "metadata": {},
   "source": [
    "##### 4c. Print and clearly label the following: Accuracy, true positive rate, false positive rate, true negative rate, false negative rate, precision, recall, f1-score, and support."
   ]
  },
  {
   "cell_type": "code",
   "execution_count": 39,
   "id": "deb612b2",
   "metadata": {},
   "outputs": [
    {
     "name": "stdout",
     "output_type": "stream",
     "text": [
      "\u001b[32msurvived:\u001b[0m 100.00%\n",
      "\n",
      "\u001b[32mmodel1:\u001b[0m 81.12%\n",
      "\n",
      "\u001b[32mmodel2:\u001b[0m 77.71%\n",
      "\n",
      "\u001b[31mHIGHEST VALUE =\u001b[0m \u001b[32mmodel1\u001b[0m: 81.12%\n",
      "\u001b[31mLOWEST VALUE =\u001b[0m \u001b[32mmodel2\u001b[0m: 77.71%\n"
     ]
    }
   ],
   "source": [
    "# Accuracy\n",
    "evaluation.accuracy(train_models, 'survived')"
   ]
  },
  {
   "cell_type": "code",
   "execution_count": 41,
   "id": "ae15b236",
   "metadata": {},
   "outputs": [
    {
     "data": {
      "text/plain": [
       "0.21485943775100402"
      ]
     },
     "execution_count": 41,
     "metadata": {},
     "output_type": "execute_result"
    }
   ],
   "source": [
    "# True Positive Rate\n",
    "model2_matrix[1, 1] / model2_matrix.sum()"
   ]
  },
  {
   "cell_type": "code",
   "execution_count": 42,
   "id": "5287bcbc",
   "metadata": {},
   "outputs": [
    {
     "data": {
      "text/plain": [
       "0.05421686746987952"
      ]
     },
     "execution_count": 42,
     "metadata": {},
     "output_type": "execute_result"
    }
   ],
   "source": [
    "# False Positive Rate\n",
    "model2_matrix[0, 1] / model2_matrix.sum()"
   ]
  },
  {
   "cell_type": "code",
   "execution_count": 43,
   "id": "590d6b8a",
   "metadata": {},
   "outputs": [
    {
     "data": {
      "text/plain": [
       "0.5622489959839357"
      ]
     },
     "execution_count": 43,
     "metadata": {},
     "output_type": "execute_result"
    }
   ],
   "source": [
    "# True Negative Rate\n",
    "model2_matrix[0, 0] / model2_matrix.sum()"
   ]
  },
  {
   "cell_type": "code",
   "execution_count": 44,
   "id": "f344bcfd",
   "metadata": {},
   "outputs": [
    {
     "data": {
      "text/plain": [
       "0.1686746987951807"
      ]
     },
     "execution_count": 44,
     "metadata": {},
     "output_type": "execute_result"
    }
   ],
   "source": [
    "# False Negative Rate\n",
    "model2_matrix[1, 0] / model2_matrix.sum()"
   ]
  },
  {
   "cell_type": "code",
   "execution_count": 45,
   "id": "93629b3b",
   "metadata": {},
   "outputs": [
    {
     "name": "stdout",
     "output_type": "stream",
     "text": [
      "\u001b[32msurvived:\u001b[0m 100.00%\n",
      "\n",
      "\u001b[32mmodel1:\u001b[0m 78.03%\n",
      "\n",
      "\u001b[32mmodel2:\u001b[0m 79.85%\n",
      "\n",
      "\u001b[31mHIGHEST VALUE =\u001b[0m \u001b[32mmodel2\u001b[0m: 79.85%\n",
      "\u001b[31mLOWEST VALUE =\u001b[0m \u001b[32mmodel1\u001b[0m: 78.03%\n"
     ]
    }
   ],
   "source": [
    "# Precision\n",
    "evaluation.precision(train_models, 'survived', 0, 1)"
   ]
  },
  {
   "cell_type": "code",
   "execution_count": 46,
   "id": "359f3487",
   "metadata": {},
   "outputs": [
    {
     "name": "stdout",
     "output_type": "stream",
     "text": [
      "\u001b[32msurvived:\u001b[0m 100.00%\n",
      "\n",
      "\u001b[32mmodel1:\u001b[0m 70.68%\n",
      "\n",
      "\u001b[32mmodel2:\u001b[0m 56.02%\n",
      "\n",
      "\u001b[31mHIGHEST VALUE =\u001b[0m \u001b[32mmodel1\u001b[0m: 70.68%\n",
      "\u001b[31mLOWEST VALUE =\u001b[0m \u001b[32mmodel2\u001b[0m: 56.02%\n"
     ]
    }
   ],
   "source": [
    "# Recall\n",
    "evaluation.recall(train_models, 'survived', 0, 1)"
   ]
  },
  {
   "cell_type": "code",
   "execution_count": 47,
   "id": "09269846",
   "metadata": {},
   "outputs": [
    {
     "name": "stdout",
     "output_type": "stream",
     "text": [
      "\u001b[32msurvived:\u001b[0m 100.00%\n",
      "\n",
      "\u001b[32mmodel1:\u001b[0m 74.18%\n",
      "\n",
      "\u001b[32mmodel2:\u001b[0m 65.85%\n",
      "\n",
      "\u001b[31mHIGHEST VALUE =\u001b[0m \u001b[32mmodel1\u001b[0m: 74.18%\n",
      "\u001b[31mLOWEST VALUE =\u001b[0m \u001b[32mmodel2\u001b[0m: 65.85%\n"
     ]
    }
   ],
   "source": [
    "# F1 Score\n",
    "evaluation.f1_score(train_models, 'survived', 0, 1)"
   ]
  },
  {
   "cell_type": "code",
   "execution_count": 48,
   "id": "c268a2b5",
   "metadata": {},
   "outputs": [
    {
     "data": {
      "text/plain": [
       "'              precision    recall  f1-score   support\\n\\n           0       0.77      0.91      0.83       307\\n           1       0.80      0.56      0.66       191\\n\\n    accuracy                           0.78       498\\n   macro avg       0.78      0.74      0.75       498\\nweighted avg       0.78      0.78      0.77       498\\n'"
      ]
     },
     "execution_count": 48,
     "metadata": {},
     "output_type": "execute_result"
    }
   ],
   "source": [
    "# Support\n",
    "classification_report(y_train, model2)"
   ]
  },
  {
   "cell_type": "markdown",
   "id": "a2bc9c30",
   "metadata": {},
   "source": [
    "<a id='Q5'></a>\n",
    "### 5. Run through steps 1-3 setting k to 20\n",
    "<li><a href='#TableOfContents'>Table of Contents</a></li>"
   ]
  },
  {
   "cell_type": "markdown",
   "id": "1389b613",
   "metadata": {},
   "source": [
    "##### 5a. Fit a K-Nearest Neighbors classifier to your training sample and transform (i.e. make predictions on the training sample)"
   ]
  },
  {
   "cell_type": "code",
   "execution_count": 49,
   "id": "fa94b1ff",
   "metadata": {},
   "outputs": [
    {
     "name": "stderr",
     "output_type": "stream",
     "text": [
      "/usr/local/anaconda3/lib/python3.9/site-packages/sklearn/neighbors/_classification.py:228: FutureWarning: Unlike other reduction functions (e.g. `skew`, `kurtosis`), the default behavior of `mode` typically preserves the axis it acts along. In SciPy 1.11.0, this behavior will change: the default value of `keepdims` will become False, the `axis` over which the statistic is taken will be eliminated, and the value None will no longer be accepted. Set `keepdims` to True or False to avoid this warning.\n",
      "  mode, _ = stats.mode(_y[neigh_ind, k], axis=1)\n"
     ]
    }
   ],
   "source": [
    "knn3 = KNeighborsClassifier(n_neighbors=20, weights='uniform')\n",
    "knn3.fit(x_train, y_train)\n",
    "model3 = knn3.predict(x_train)\n",
    "train_models['model3'] = model3"
   ]
  },
  {
   "cell_type": "markdown",
   "id": "f379a917",
   "metadata": {},
   "source": [
    "##### 5b. Evaluate your results using the model score, confusion matrix, and classification report."
   ]
  },
  {
   "cell_type": "code",
   "execution_count": 50,
   "id": "1c3de71b",
   "metadata": {},
   "outputs": [
    {
     "name": "stderr",
     "output_type": "stream",
     "text": [
      "/usr/local/anaconda3/lib/python3.9/site-packages/sklearn/neighbors/_classification.py:228: FutureWarning: Unlike other reduction functions (e.g. `skew`, `kurtosis`), the default behavior of `mode` typically preserves the axis it acts along. In SciPy 1.11.0, this behavior will change: the default value of `keepdims` will become False, the `axis` over which the statistic is taken will be eliminated, and the value None will no longer be accepted. Set `keepdims` to True or False to avoid this warning.\n",
      "  mode, _ = stats.mode(_y[neigh_ind, k], axis=1)\n"
     ]
    },
    {
     "data": {
      "text/plain": [
       "0.751004016064257"
      ]
     },
     "execution_count": 50,
     "metadata": {},
     "output_type": "execute_result"
    }
   ],
   "source": [
    "# Model Score\n",
    "knn3.score(x_train, y_train)"
   ]
  },
  {
   "cell_type": "code",
   "execution_count": 52,
   "id": "4adce099",
   "metadata": {},
   "outputs": [
    {
     "data": {
      "text/plain": [
       "array([[277,  30],\n",
       "       [ 94,  97]])"
      ]
     },
     "execution_count": 52,
     "metadata": {},
     "output_type": "execute_result"
    }
   ],
   "source": [
    "# Confusion Matrix\n",
    "model3_matrix = confusion_matrix(y_train, model3, labels=(0, 1))\n",
    "model3_matrix"
   ]
  },
  {
   "cell_type": "code",
   "execution_count": 53,
   "id": "e7cc1f7b",
   "metadata": {},
   "outputs": [
    {
     "data": {
      "text/plain": [
       "'              precision    recall  f1-score   support\\n\\n           0       0.75      0.90      0.82       307\\n           1       0.76      0.51      0.61       191\\n\\n    accuracy                           0.75       498\\n   macro avg       0.76      0.71      0.71       498\\nweighted avg       0.75      0.75      0.74       498\\n'"
      ]
     },
     "execution_count": 53,
     "metadata": {},
     "output_type": "execute_result"
    }
   ],
   "source": [
    "# Classification Report\n",
    "classification_report(y_train, model3)"
   ]
  },
  {
   "cell_type": "markdown",
   "id": "0736317d",
   "metadata": {},
   "source": [
    "##### 5c. Print and clearly label the following: Accuracy, true positive rate, false positive rate, true negative rate, false negative rate, precision, recall, f1-score, and support."
   ]
  },
  {
   "cell_type": "code",
   "execution_count": 54,
   "id": "9055a778",
   "metadata": {},
   "outputs": [
    {
     "name": "stdout",
     "output_type": "stream",
     "text": [
      "\u001b[32msurvived:\u001b[0m 100.00%\n",
      "\n",
      "\u001b[32mmodel1:\u001b[0m 81.12%\n",
      "\n",
      "\u001b[32mmodel2:\u001b[0m 77.71%\n",
      "\n",
      "\u001b[32mmodel3:\u001b[0m 75.10%\n",
      "\n",
      "\u001b[31mHIGHEST VALUE =\u001b[0m \u001b[32mmodel1\u001b[0m: 81.12%\n",
      "\u001b[31mLOWEST VALUE =\u001b[0m \u001b[32mmodel3\u001b[0m: 75.10%\n"
     ]
    }
   ],
   "source": [
    "# Accuracy\n",
    "evaluation.accuracy(train_models, 'survived')"
   ]
  },
  {
   "cell_type": "code",
   "execution_count": 55,
   "id": "b4d778a6",
   "metadata": {},
   "outputs": [
    {
     "data": {
      "text/plain": [
       "0.19477911646586346"
      ]
     },
     "execution_count": 55,
     "metadata": {},
     "output_type": "execute_result"
    }
   ],
   "source": [
    "# True Positive Rate\n",
    "model3_matrix[1, 1] / model3_matrix.sum()"
   ]
  },
  {
   "cell_type": "code",
   "execution_count": 56,
   "id": "6712a7d5",
   "metadata": {},
   "outputs": [
    {
     "data": {
      "text/plain": [
       "0.060240963855421686"
      ]
     },
     "execution_count": 56,
     "metadata": {},
     "output_type": "execute_result"
    }
   ],
   "source": [
    "# False Positive Rate\n",
    "model3_matrix[0, 1] / model3_matrix.sum()"
   ]
  },
  {
   "cell_type": "code",
   "execution_count": 57,
   "id": "3e5e346e",
   "metadata": {},
   "outputs": [
    {
     "data": {
      "text/plain": [
       "0.5562248995983936"
      ]
     },
     "execution_count": 57,
     "metadata": {},
     "output_type": "execute_result"
    }
   ],
   "source": [
    "# True Negative Rate\n",
    "model3_matrix[0, 0] / model3_matrix.sum()"
   ]
  },
  {
   "cell_type": "code",
   "execution_count": 58,
   "id": "a1c4c4e2",
   "metadata": {},
   "outputs": [
    {
     "data": {
      "text/plain": [
       "0.18875502008032127"
      ]
     },
     "execution_count": 58,
     "metadata": {},
     "output_type": "execute_result"
    }
   ],
   "source": [
    "# False Negative Rate\n",
    "model3_matrix[1, 0] / model3_matrix.sum()"
   ]
  },
  {
   "cell_type": "code",
   "execution_count": 59,
   "id": "acdb3cb6",
   "metadata": {},
   "outputs": [
    {
     "name": "stdout",
     "output_type": "stream",
     "text": [
      "\u001b[32msurvived:\u001b[0m 100.00%\n",
      "\n",
      "\u001b[32mmodel1:\u001b[0m 78.03%\n",
      "\n",
      "\u001b[32mmodel2:\u001b[0m 79.85%\n",
      "\n",
      "\u001b[32mmodel3:\u001b[0m 76.38%\n",
      "\n",
      "\u001b[31mHIGHEST VALUE =\u001b[0m \u001b[32mmodel2\u001b[0m: 79.85%\n",
      "\u001b[31mLOWEST VALUE =\u001b[0m \u001b[32mmodel3\u001b[0m: 76.38%\n"
     ]
    }
   ],
   "source": [
    "# Precision\n",
    "evaluation.precision(train_models, 'survived', 0, 1)"
   ]
  },
  {
   "cell_type": "code",
   "execution_count": 60,
   "id": "49dbb648",
   "metadata": {},
   "outputs": [
    {
     "name": "stdout",
     "output_type": "stream",
     "text": [
      "\u001b[32msurvived:\u001b[0m 100.00%\n",
      "\n",
      "\u001b[32mmodel1:\u001b[0m 70.68%\n",
      "\n",
      "\u001b[32mmodel2:\u001b[0m 56.02%\n",
      "\n",
      "\u001b[32mmodel3:\u001b[0m 50.79%\n",
      "\n",
      "\u001b[31mHIGHEST VALUE =\u001b[0m \u001b[32mmodel1\u001b[0m: 70.68%\n",
      "\u001b[31mLOWEST VALUE =\u001b[0m \u001b[32mmodel3\u001b[0m: 50.79%\n"
     ]
    }
   ],
   "source": [
    "# Recall\n",
    "evaluation.recall(train_models, 'survived', 0, 1)"
   ]
  },
  {
   "cell_type": "code",
   "execution_count": 61,
   "id": "7bea5fae",
   "metadata": {},
   "outputs": [
    {
     "name": "stdout",
     "output_type": "stream",
     "text": [
      "\u001b[32msurvived:\u001b[0m 100.00%\n",
      "\n",
      "\u001b[32mmodel1:\u001b[0m 74.18%\n",
      "\n",
      "\u001b[32mmodel2:\u001b[0m 65.85%\n",
      "\n",
      "\u001b[32mmodel3:\u001b[0m 61.01%\n",
      "\n",
      "\u001b[31mHIGHEST VALUE =\u001b[0m \u001b[32mmodel1\u001b[0m: 74.18%\n",
      "\u001b[31mLOWEST VALUE =\u001b[0m \u001b[32mmodel3\u001b[0m: 61.01%\n"
     ]
    }
   ],
   "source": [
    "# F1 Score\n",
    "evaluation.f1_score(train_models, 'survived', 0, 1)"
   ]
  },
  {
   "cell_type": "code",
   "execution_count": 62,
   "id": "116fe581",
   "metadata": {},
   "outputs": [
    {
     "data": {
      "text/plain": [
       "'              precision    recall  f1-score   support\\n\\n           0       0.75      0.90      0.82       307\\n           1       0.76      0.51      0.61       191\\n\\n    accuracy                           0.75       498\\n   macro avg       0.76      0.71      0.71       498\\nweighted avg       0.75      0.75      0.74       498\\n'"
      ]
     },
     "execution_count": 62,
     "metadata": {},
     "output_type": "execute_result"
    }
   ],
   "source": [
    "# Support\n",
    "classification_report(y_train, model3)"
   ]
  },
  {
   "cell_type": "markdown",
   "id": "3b029585",
   "metadata": {},
   "source": [
    "<a id='Q6'></a>\n",
    "### 6. What are the differences in the evaluation metrics? Which performs better on your in-sample data? Why?\n",
    "<li><a href='#TableOfContents'>Table of Contents</a></li>"
   ]
  },
  {
   "cell_type": "code",
   "execution_count": 65,
   "id": "b1b07895",
   "metadata": {},
   "outputs": [
    {
     "name": "stdout",
     "output_type": "stream",
     "text": [
      "\u001b[32mmodel1\u001b[0m Train Score: 81.00%\n",
      "\u001b[32mmodel1\u001b[0m Validate Score: 64.00%\n",
      "\n",
      "\u001b[32mmodel2\u001b[0m Train Score: 78.00%\n",
      "\u001b[32mmodel2\u001b[0m Validate Score: 67.00%\n",
      "\n",
      "\u001b[32mmodel3\u001b[0m Train Score: 75.00%\n",
      "\u001b[32mmodel3\u001b[0m Validate Score: 66.00%\n",
      "\n",
      "\u001b[31mHIGHEST VALUE (TRAIN)\u001b[0m = \u001b[32mmodel1\u001b[0m: 81.00%\n",
      "\u001b[31mLOWEST VALUE (TRAIN)\u001b[0m = \u001b[32mmodel3\u001b[0m: 75.00%\n",
      "\u001b[31mHIGHEST VALUE (VALIDATE)\u001b[0m = \u001b[32mmodel2\u001b[0m: 67.00%\n",
      "\u001b[31mLOWEST VALUE (VALIDATE)\u001b[0m = \u001b[32mmodel1\u001b[0m: 64.00%\n",
      "\u001b[31mHIGHEST DIFF\u001b[0m = \u001b[32mmodel1\u001b[0m: 17.00000%\n",
      "\u001b[31mLOWEST DIFF\u001b[0m = \u001b[32mmodel3\u001b[0m: 9.00000%\n"
     ]
    },
    {
     "name": "stderr",
     "output_type": "stream",
     "text": [
      "/usr/local/anaconda3/lib/python3.9/site-packages/sklearn/neighbors/_classification.py:228: FutureWarning: Unlike other reduction functions (e.g. `skew`, `kurtosis`), the default behavior of `mode` typically preserves the axis it acts along. In SciPy 1.11.0, this behavior will change: the default value of `keepdims` will become False, the `axis` over which the statistic is taken will be eliminated, and the value None will no longer be accepted. Set `keepdims` to True or False to avoid this warning.\n",
      "  mode, _ = stats.mode(_y[neigh_ind, k], axis=1)\n",
      "/usr/local/anaconda3/lib/python3.9/site-packages/sklearn/neighbors/_classification.py:228: FutureWarning: Unlike other reduction functions (e.g. `skew`, `kurtosis`), the default behavior of `mode` typically preserves the axis it acts along. In SciPy 1.11.0, this behavior will change: the default value of `keepdims` will become False, the `axis` over which the statistic is taken will be eliminated, and the value None will no longer be accepted. Set `keepdims` to True or False to avoid this warning.\n",
      "  mode, _ = stats.mode(_y[neigh_ind, k], axis=1)\n",
      "/usr/local/anaconda3/lib/python3.9/site-packages/sklearn/neighbors/_classification.py:228: FutureWarning: Unlike other reduction functions (e.g. `skew`, `kurtosis`), the default behavior of `mode` typically preserves the axis it acts along. In SciPy 1.11.0, this behavior will change: the default value of `keepdims` will become False, the `axis` over which the statistic is taken will be eliminated, and the value None will no longer be accepted. Set `keepdims` to True or False to avoid this warning.\n",
      "  mode, _ = stats.mode(_y[neigh_ind, k], axis=1)\n",
      "/usr/local/anaconda3/lib/python3.9/site-packages/sklearn/neighbors/_classification.py:228: FutureWarning: Unlike other reduction functions (e.g. `skew`, `kurtosis`), the default behavior of `mode` typically preserves the axis it acts along. In SciPy 1.11.0, this behavior will change: the default value of `keepdims` will become False, the `axis` over which the statistic is taken will be eliminated, and the value None will no longer be accepted. Set `keepdims` to True or False to avoid this warning.\n",
      "  mode, _ = stats.mode(_y[neigh_ind, k], axis=1)\n",
      "/usr/local/anaconda3/lib/python3.9/site-packages/sklearn/neighbors/_classification.py:228: FutureWarning: Unlike other reduction functions (e.g. `skew`, `kurtosis`), the default behavior of `mode` typically preserves the axis it acts along. In SciPy 1.11.0, this behavior will change: the default value of `keepdims` will become False, the `axis` over which the statistic is taken will be eliminated, and the value None will no longer be accepted. Set `keepdims` to True or False to avoid this warning.\n",
      "  mode, _ = stats.mode(_y[neigh_ind, k], axis=1)\n",
      "/usr/local/anaconda3/lib/python3.9/site-packages/sklearn/neighbors/_classification.py:228: FutureWarning: Unlike other reduction functions (e.g. `skew`, `kurtosis`), the default behavior of `mode` typically preserves the axis it acts along. In SciPy 1.11.0, this behavior will change: the default value of `keepdims` will become False, the `axis` over which the statistic is taken will be eliminated, and the value None will no longer be accepted. Set `keepdims` to True or False to avoid this warning.\n",
      "  mode, _ = stats.mode(_y[neigh_ind, k], axis=1)\n"
     ]
    }
   ],
   "source": [
    "models_list = [knn1, knn2, knn3]\n",
    "evaluation.train_val_scores(train, val, x_cols, y_cols, models_list)"
   ]
  },
  {
   "cell_type": "markdown",
   "id": "3f06de96",
   "metadata": {},
   "source": [
    "Model-1 had the highest train score and is most likely due to no restrictions being thrown onto it which means it tried it's best to overfit specifically to the training dataset...\n",
    "\n",
    "Model-1 Restrictions:\n",
    "- None"
   ]
  },
  {
   "cell_type": "markdown",
   "id": "67dd905c",
   "metadata": {},
   "source": [
    "<a id='Q7'></a>\n",
    "### 7. Which model performs best on our out-of-sample data from validate?\n",
    "<li><a href='#TableOfContents'>Table of Contents</a></li>"
   ]
  },
  {
   "cell_type": "code",
   "execution_count": 66,
   "id": "098c6991",
   "metadata": {},
   "outputs": [
    {
     "name": "stdout",
     "output_type": "stream",
     "text": [
      "\u001b[32mmodel1\u001b[0m Train Score: 81.00%\n",
      "\u001b[32mmodel1\u001b[0m Validate Score: 64.00%\n",
      "\n",
      "\u001b[32mmodel2\u001b[0m Train Score: 78.00%\n",
      "\u001b[32mmodel2\u001b[0m Validate Score: 67.00%\n",
      "\n",
      "\u001b[32mmodel3\u001b[0m Train Score: 75.00%\n",
      "\u001b[32mmodel3\u001b[0m Validate Score: 66.00%\n",
      "\n",
      "\u001b[31mHIGHEST VALUE (TRAIN)\u001b[0m = \u001b[32mmodel1\u001b[0m: 81.00%\n",
      "\u001b[31mLOWEST VALUE (TRAIN)\u001b[0m = \u001b[32mmodel3\u001b[0m: 75.00%\n",
      "\u001b[31mHIGHEST VALUE (VALIDATE)\u001b[0m = \u001b[32mmodel2\u001b[0m: 67.00%\n",
      "\u001b[31mLOWEST VALUE (VALIDATE)\u001b[0m = \u001b[32mmodel1\u001b[0m: 64.00%\n",
      "\u001b[31mHIGHEST DIFF\u001b[0m = \u001b[32mmodel1\u001b[0m: 17.00000%\n",
      "\u001b[31mLOWEST DIFF\u001b[0m = \u001b[32mmodel3\u001b[0m: 9.00000%\n"
     ]
    },
    {
     "name": "stderr",
     "output_type": "stream",
     "text": [
      "/usr/local/anaconda3/lib/python3.9/site-packages/sklearn/neighbors/_classification.py:228: FutureWarning: Unlike other reduction functions (e.g. `skew`, `kurtosis`), the default behavior of `mode` typically preserves the axis it acts along. In SciPy 1.11.0, this behavior will change: the default value of `keepdims` will become False, the `axis` over which the statistic is taken will be eliminated, and the value None will no longer be accepted. Set `keepdims` to True or False to avoid this warning.\n",
      "  mode, _ = stats.mode(_y[neigh_ind, k], axis=1)\n",
      "/usr/local/anaconda3/lib/python3.9/site-packages/sklearn/neighbors/_classification.py:228: FutureWarning: Unlike other reduction functions (e.g. `skew`, `kurtosis`), the default behavior of `mode` typically preserves the axis it acts along. In SciPy 1.11.0, this behavior will change: the default value of `keepdims` will become False, the `axis` over which the statistic is taken will be eliminated, and the value None will no longer be accepted. Set `keepdims` to True or False to avoid this warning.\n",
      "  mode, _ = stats.mode(_y[neigh_ind, k], axis=1)\n",
      "/usr/local/anaconda3/lib/python3.9/site-packages/sklearn/neighbors/_classification.py:228: FutureWarning: Unlike other reduction functions (e.g. `skew`, `kurtosis`), the default behavior of `mode` typically preserves the axis it acts along. In SciPy 1.11.0, this behavior will change: the default value of `keepdims` will become False, the `axis` over which the statistic is taken will be eliminated, and the value None will no longer be accepted. Set `keepdims` to True or False to avoid this warning.\n",
      "  mode, _ = stats.mode(_y[neigh_ind, k], axis=1)\n",
      "/usr/local/anaconda3/lib/python3.9/site-packages/sklearn/neighbors/_classification.py:228: FutureWarning: Unlike other reduction functions (e.g. `skew`, `kurtosis`), the default behavior of `mode` typically preserves the axis it acts along. In SciPy 1.11.0, this behavior will change: the default value of `keepdims` will become False, the `axis` over which the statistic is taken will be eliminated, and the value None will no longer be accepted. Set `keepdims` to True or False to avoid this warning.\n",
      "  mode, _ = stats.mode(_y[neigh_ind, k], axis=1)\n",
      "/usr/local/anaconda3/lib/python3.9/site-packages/sklearn/neighbors/_classification.py:228: FutureWarning: Unlike other reduction functions (e.g. `skew`, `kurtosis`), the default behavior of `mode` typically preserves the axis it acts along. In SciPy 1.11.0, this behavior will change: the default value of `keepdims` will become False, the `axis` over which the statistic is taken will be eliminated, and the value None will no longer be accepted. Set `keepdims` to True or False to avoid this warning.\n",
      "  mode, _ = stats.mode(_y[neigh_ind, k], axis=1)\n",
      "/usr/local/anaconda3/lib/python3.9/site-packages/sklearn/neighbors/_classification.py:228: FutureWarning: Unlike other reduction functions (e.g. `skew`, `kurtosis`), the default behavior of `mode` typically preserves the axis it acts along. In SciPy 1.11.0, this behavior will change: the default value of `keepdims` will become False, the `axis` over which the statistic is taken will be eliminated, and the value None will no longer be accepted. Set `keepdims` to True or False to avoid this warning.\n",
      "  mode, _ = stats.mode(_y[neigh_ind, k], axis=1)\n"
     ]
    }
   ],
   "source": [
    "evaluation.train_val_scores(train, val, x_cols, y_cols, models_list# Use classification reports\n",
    "# For k = 1\n",
    "print(classification_report(y_validate, knn.predict(x_validate))))"
   ]
  },
  {
   "cell_type": "markdown",
   "id": "4f42b4a3",
   "metadata": {},
   "source": [
    "Model-2 had the highest validate score most likely because it specified a finite amount of 'neighbors' that was not too many or too little...\n",
    "\n",
    "Model-2 Restrictions:\n",
    "- k = 10\n",
    "- Weight = 'uniform'"
   ]
  }
 ],
 "metadata": {
  "kernelspec": {
   "display_name": "Python 3 (ipykernel)",
   "language": "python",
   "name": "python3"
  },
  "language_info": {
   "codemirror_mode": {
    "name": "ipython",
    "version": 3
   },
   "file_extension": ".py",
   "mimetype": "text/x-python",
   "name": "python",
   "nbconvert_exporter": "python",
   "pygments_lexer": "ipython3",
   "version": "3.9.13"
  }
 },
 "nbformat": 4,
 "nbformat_minor": 5
}
