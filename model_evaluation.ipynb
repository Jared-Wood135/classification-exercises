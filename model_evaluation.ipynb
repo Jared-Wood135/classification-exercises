{
 "cells": [
  {
   "cell_type": "markdown",
   "id": "e951a9cc",
   "metadata": {},
   "source": [
    "<a id=\"TableOfContents\"></a>\n",
    "# Table of Contents:\n",
    "<li><a href=\"#Q1\">Question 1</li></a>\n",
    "<li><a href=\"#Q2\">Question 2</li></a>\n",
    "<li><a href=\"#Q3\">Question 3</li></a>\n",
    "<li><a href=\"#Q4\">Question 4</li></a>\n",
    "<li><a href=\"#Q5\">Question 5</li></a>"
   ]
  },
  {
   "cell_type": "markdown",
   "id": "cfb9eaff",
   "metadata": {},
   "source": [
    "<a id=\"Q1\"></a>\n",
    "### 1. Create a new file named model_evaluation.py or model_evaluation.ipynb for these exercises.\n",
    "<li><a href=\"#TableOfContents\">Table of Contents</li></a>"
   ]
  },
  {
   "cell_type": "markdown",
   "id": "a41cfdcf",
   "metadata": {},
   "source": [
    "COMPLETED"
   ]
  },
  {
   "cell_type": "markdown",
   "id": "34cee4e2",
   "metadata": {},
   "source": [
    "<a id=\"Q2\"></a>\n",
    "### 2. Given the following confusion matrix, evaluate (by hand) the model's performance.\n",
    "<li><a href=\"#TableOfContents\">Table of Contents</li></a>"
   ]
  },
  {
   "cell_type": "markdown",
   "id": "cd0ccb42",
   "metadata": {},
   "source": [
    "|               | pred dog   | pred cat   |\n",
    "|:------------  |-----------:|-----------:|\n",
    "| actual dog    |         46 |         7  |\n",
    "| actual cat    |         13 |         34 |\n"
   ]
  },
  {
   "cell_type": "markdown",
   "id": "481b35db",
   "metadata": {},
   "source": [
    "##### 2a. In the context of this problem, what is a false positive?"
   ]
  },
  {
   "cell_type": "code",
   "execution_count": null,
   "id": "c6f51290",
   "metadata": {},
   "outputs": [],
   "source": []
  },
  {
   "cell_type": "markdown",
   "id": "ebafbd50",
   "metadata": {},
   "source": [
    "##### 2b. In the context of this problem, what is a false negative?"
   ]
  },
  {
   "cell_type": "code",
   "execution_count": null,
   "id": "7f75b407",
   "metadata": {},
   "outputs": [],
   "source": []
  },
  {
   "cell_type": "markdown",
   "id": "c072c87a",
   "metadata": {},
   "source": [
    "##### 2c. How would you describe this model?"
   ]
  },
  {
   "cell_type": "code",
   "execution_count": null,
   "id": "d34f2322",
   "metadata": {},
   "outputs": [],
   "source": []
  },
  {
   "cell_type": "markdown",
   "id": "61858b45",
   "metadata": {},
   "source": [
    "<a id=\"Q3\"></a>\n",
    "### 3. You are working as a datascientist working for Codeup Cody Creator (C3 for short), a rubber-duck manufacturing plant.\n",
    "<li><a href=\"#TableOfContents\">Table of Contents</li></a>"
   ]
  },
  {
   "cell_type": "markdown",
   "id": "cee63ea2",
   "metadata": {},
   "source": [
    "Unfortunately, some of the rubber ducks that are produced will have defects. Your team has built several models that try to predict those defects, and the data from their predictions <a href=\"https://ds.codeup.com/data/c3.csv\">can be found here.</a>\n",
    "\n",
    "Use the predictions dataset and pandas to help answer the following questions:"
   ]
  },
  {
   "cell_type": "markdown",
   "id": "ad3dea4d",
   "metadata": {},
   "source": [
    "##### 3a. An internal team wants to investigate the cause of the manufacturing defects. They tell you that they want to identify as many of the ducks that have a defect as possible. Which evaluation metric would be appropriate here? Which model would be the best fit for this use case?"
   ]
  },
  {
   "cell_type": "code",
   "execution_count": null,
   "id": "b2642c7d",
   "metadata": {},
   "outputs": [],
   "source": []
  },
  {
   "cell_type": "markdown",
   "id": "ab47dc82",
   "metadata": {},
   "source": [
    "##### 3b. Recently several stories in the local news have come out highlighting customers who received a rubber duck with a defect, and portraying C3 in a bad light. The PR team has decided to launch a program that gives customers with a defective duck a vacation to Hawaii. They need you to predict which ducks will have defects, but tell you the really don't want to accidentally give out a vacation package when the duck really doesn't have a defect. Which evaluation metric would be appropriate here? Which model would be the best fit for this use case?"
   ]
  },
  {
   "cell_type": "code",
   "execution_count": null,
   "id": "fdbd3f4a",
   "metadata": {},
   "outputs": [],
   "source": []
  },
  {
   "cell_type": "markdown",
   "id": "d2f3b267",
   "metadata": {},
   "source": [
    "<a id=\"Q4\"></a>\n",
    "### 4. You are working as a data scientist for Gives You Paws ™, a subscription based service that shows you cute pictures of dogs or cats (or both for an additional fee).\n",
    "<li><a href=\"#TableOfContents\">Table of Contents</li></a>"
   ]
  },
  {
   "cell_type": "markdown",
   "id": "1075319c",
   "metadata": {},
   "source": [
    "At Gives You Paws, anyone can upload pictures of their cats or dogs. The photos are then put through a two step process. First an automated algorithm tags pictures as either a cat or a dog (Phase I). Next, the photos that have been initially identified are put through another round of review, possibly with some human oversight, before being presented to the users (Phase II).\n",
    "\n",
    "Several models have already been developed with the data, and <a href=\"https://ds.codeup.com/data/gives_you_paws.csv\">you can find their results here.</a>\n",
    "\n",
    "Given this dataset, use pandas to create a baseline model (i.e. a model that just predicts the most common class) and answer the following questions:"
   ]
  },
  {
   "cell_type": "markdown",
   "id": "e742fcbf",
   "metadata": {},
   "source": [
    "##### 4a. In terms of accuracy, how do the various models compare to the baseline model? Are any of the models better than the baseline?"
   ]
  },
  {
   "cell_type": "code",
   "execution_count": null,
   "id": "de28acab",
   "metadata": {},
   "outputs": [],
   "source": []
  },
  {
   "cell_type": "markdown",
   "id": "1f7199d8",
   "metadata": {},
   "source": [
    "##### 4b. Suppose you are working on a team that solely deals with dog pictures. Which of these models would you recommend?"
   ]
  },
  {
   "cell_type": "code",
   "execution_count": null,
   "id": "edd9a912",
   "metadata": {},
   "outputs": [],
   "source": []
  },
  {
   "cell_type": "markdown",
   "id": "8fe088b6",
   "metadata": {},
   "source": [
    "##### 4c. Suppose you are working on a team that solely deals with cat pictures. Which of these models would you recommend?"
   ]
  },
  {
   "cell_type": "code",
   "execution_count": null,
   "id": "6fdacd17",
   "metadata": {},
   "outputs": [],
   "source": []
  },
  {
   "cell_type": "markdown",
   "id": "87ef1093",
   "metadata": {},
   "source": [
    "<a id=\"Q5\"></a>\n",
    "### 5. Follow the links below to read the documentation about each function, then apply those functions to the data from the previous problem.\n",
    "<li><a href=\"#TableOfContents\">Table of Contents</li></a>"
   ]
  },
  {
   "cell_type": "markdown",
   "id": "66388c9c",
   "metadata": {},
   "source": [
    "##### 5a. <a href=\"https://scikit-learn.org/stable/modules/generated/sklearn.metrics.accuracy_score.html\">sklearn.metrics.accuracy_score</a>"
   ]
  },
  {
   "cell_type": "code",
   "execution_count": null,
   "id": "2f5b147e",
   "metadata": {},
   "outputs": [],
   "source": []
  },
  {
   "cell_type": "markdown",
   "id": "e8902f92",
   "metadata": {},
   "source": [
    "##### 5b. <a href=\"https://scikit-learn.org/stable/modules/generated/sklearn.metrics.precision_score.html\">sklearn.metrics.precision_score</a>"
   ]
  },
  {
   "cell_type": "code",
   "execution_count": null,
   "id": "24da9b75",
   "metadata": {},
   "outputs": [],
   "source": []
  },
  {
   "cell_type": "markdown",
   "id": "d3691a2c",
   "metadata": {},
   "source": [
    "##### 5c. <a href=\"https://scikit-learn.org/stable/modules/generated/sklearn.metrics.recall_score.html\">sklearn.metrics.recall_score</a>"
   ]
  },
  {
   "cell_type": "code",
   "execution_count": null,
   "id": "b0f6f252",
   "metadata": {},
   "outputs": [],
   "source": []
  },
  {
   "cell_type": "markdown",
   "id": "d224db42",
   "metadata": {},
   "source": [
    "##### 5d. <a href=\"https://scikit-learn.org/stable/modules/generated/sklearn.metrics.classification_report.html\">sklearn.metrics.classification_report</a>"
   ]
  },
  {
   "cell_type": "code",
   "execution_count": null,
   "id": "d103d457",
   "metadata": {},
   "outputs": [],
   "source": []
  }
 ],
 "metadata": {
  "kernelspec": {
   "display_name": "Python 3 (ipykernel)",
   "language": "python",
   "name": "python3"
  },
  "language_info": {
   "codemirror_mode": {
    "name": "ipython",
    "version": 3
   },
   "file_extension": ".py",
   "mimetype": "text/x-python",
   "name": "python",
   "nbconvert_exporter": "python",
   "pygments_lexer": "ipython3",
   "version": "3.9.13"
  }
 },
 "nbformat": 4,
 "nbformat_minor": 5
}
