{
 "cells": [
  {
   "cell_type": "markdown",
   "id": "f9ad6060",
   "metadata": {},
   "source": [
    "<a id=\"TableOfContents\"></a>\n",
    "# Table of Contents:\n",
    "<li><a href=\"#Q1\">Question 1</a></li>\n",
    "<li><a href=\"#Q2\">Question 2</a></li>\n",
    "<li><a href=\"#Q3\">Question 3</a></li>\n",
    "<li><a href=\"#Q4\">Question 4</a></li>\n",
    "<li><a href=\"#Q5\">Question 5</a></li>\n",
    "<li><a href=\"#testing\">TESTING (evaluation.py)</a></li>"
   ]
  },
  {
   "cell_type": "code",
   "execution_count": 1,
   "id": "9dd7f9ba",
   "metadata": {},
   "outputs": [],
   "source": [
    "import pandas as pd\n",
    "import sklearn.metrics\n",
    "from sklearn.metrics import confusion_matrix\n",
    "import evaluation"
   ]
  },
  {
   "cell_type": "markdown",
   "id": "4015b2d9",
   "metadata": {},
   "source": [
    "<a id=\"Q1\"></a>\n",
    "### 1. Create a new file named model_evaluation.py or model_evaluation.ipynb for these exercises.\n",
    "<li><a href=\"#TableOfContents\">Table of Contents</a></li>"
   ]
  },
  {
   "cell_type": "markdown",
   "id": "5252e4f2",
   "metadata": {},
   "source": [
    "COMPLETED"
   ]
  },
  {
   "cell_type": "markdown",
   "id": "23276cc1",
   "metadata": {},
   "source": [
    "<a id=\"Q2\"></a>\n",
    "### 2. Given the following confusion matrix, evaluate (by hand) the model's performance.\n",
    "<li><a href=\"#TableOfContents\">Table of Contents</a></li>"
   ]
  },
  {
   "cell_type": "markdown",
   "id": "cf571924",
   "metadata": {},
   "source": [
    "|               | pred dog   | pred cat   |\n",
    "|:------------  |-----------:|-----------:|\n",
    "| actual dog    |         46 |         7  |\n",
    "| actual cat    |         13 |         34 |\n"
   ]
  },
  {
   "cell_type": "markdown",
   "id": "424c2bbf",
   "metadata": {},
   "source": [
    "##### 2a. In the context of this problem, what is a false positive?"
   ]
  },
  {
   "cell_type": "markdown",
   "id": "1019b107",
   "metadata": {},
   "source": [
    "- predicted dog, actual cat"
   ]
  },
  {
   "cell_type": "markdown",
   "id": "fb222d4c",
   "metadata": {},
   "source": [
    "##### 2b. In the context of this problem, what is a false negative?"
   ]
  },
  {
   "cell_type": "markdown",
   "id": "e6386840",
   "metadata": {},
   "source": [
    "- Predicted cat, actual dog"
   ]
  },
  {
   "cell_type": "markdown",
   "id": "8a3de618",
   "metadata": {},
   "source": [
    "##### 2c. How would you describe this model?"
   ]
  },
  {
   "cell_type": "markdown",
   "id": "73546faa",
   "metadata": {},
   "source": [
    "It's rainin' doggos 'un kitties"
   ]
  },
  {
   "cell_type": "markdown",
   "id": "e6b2a641",
   "metadata": {},
   "source": [
    "<a id=\"Q3\"></a>\n",
    "### 3. You are working as a datascientist working for Codeup Cody Creator (C3 for short), a rubber-duck manufacturing plant.\n",
    "<li><a href=\"#TableOfContents\">Table of Contents</a></li>"
   ]
  },
  {
   "cell_type": "markdown",
   "id": "4473661b",
   "metadata": {},
   "source": [
    "Unfortunately, some of the rubber ducks that are produced will have defects. Your team has built several models that try to predict those defects, and the data from their predictions <a href=\"https://ds.codeup.com/data/c3.csv\">can be found here.</a>\n",
    "\n",
    "Use the predictions dataset and pandas to help answer the following questions:"
   ]
  },
  {
   "cell_type": "code",
   "execution_count": 2,
   "id": "116c3e7b",
   "metadata": {},
   "outputs": [
    {
     "data": {
      "text/html": [
       "<div>\n",
       "<style scoped>\n",
       "    .dataframe tbody tr th:only-of-type {\n",
       "        vertical-align: middle;\n",
       "    }\n",
       "\n",
       "    .dataframe tbody tr th {\n",
       "        vertical-align: top;\n",
       "    }\n",
       "\n",
       "    .dataframe thead th {\n",
       "        text-align: right;\n",
       "    }\n",
       "</style>\n",
       "<table border=\"1\" class=\"dataframe\">\n",
       "  <thead>\n",
       "    <tr style=\"text-align: right;\">\n",
       "      <th></th>\n",
       "      <th>actual</th>\n",
       "      <th>model1</th>\n",
       "      <th>model2</th>\n",
       "      <th>model3</th>\n",
       "    </tr>\n",
       "  </thead>\n",
       "  <tbody>\n",
       "    <tr>\n",
       "      <th>61</th>\n",
       "      <td>No Defect</td>\n",
       "      <td>No Defect</td>\n",
       "      <td>No Defect</td>\n",
       "      <td>No Defect</td>\n",
       "    </tr>\n",
       "  </tbody>\n",
       "</table>\n",
       "</div>"
      ],
      "text/plain": [
       "       actual     model1     model2     model3\n",
       "61  No Defect  No Defect  No Defect  No Defect"
      ]
     },
     "execution_count": 2,
     "metadata": {},
     "output_type": "execute_result"
    }
   ],
   "source": [
    "c3 = pd.read_csv('c3.csv')\n",
    "c3.sample()"
   ]
  },
  {
   "cell_type": "code",
   "execution_count": 3,
   "id": "01418967",
   "metadata": {},
   "outputs": [
    {
     "data": {
      "text/html": [
       "<div>\n",
       "<style scoped>\n",
       "    .dataframe tbody tr th:only-of-type {\n",
       "        vertical-align: middle;\n",
       "    }\n",
       "\n",
       "    .dataframe tbody tr th {\n",
       "        vertical-align: top;\n",
       "    }\n",
       "\n",
       "    .dataframe thead th {\n",
       "        text-align: right;\n",
       "    }\n",
       "</style>\n",
       "<table border=\"1\" class=\"dataframe\">\n",
       "  <thead>\n",
       "    <tr style=\"text-align: right;\">\n",
       "      <th>model1</th>\n",
       "      <th>Defect</th>\n",
       "      <th>No Defect</th>\n",
       "    </tr>\n",
       "    <tr>\n",
       "      <th>actual</th>\n",
       "      <th></th>\n",
       "      <th></th>\n",
       "    </tr>\n",
       "  </thead>\n",
       "  <tbody>\n",
       "    <tr>\n",
       "      <th>Defect</th>\n",
       "      <td>8</td>\n",
       "      <td>8</td>\n",
       "    </tr>\n",
       "    <tr>\n",
       "      <th>No Defect</th>\n",
       "      <td>2</td>\n",
       "      <td>182</td>\n",
       "    </tr>\n",
       "  </tbody>\n",
       "</table>\n",
       "</div>"
      ],
      "text/plain": [
       "model1     Defect  No Defect\n",
       "actual                      \n",
       "Defect          8          8\n",
       "No Defect       2        182"
      ]
     },
     "execution_count": 3,
     "metadata": {},
     "output_type": "execute_result"
    }
   ],
   "source": [
    "pd.crosstab(c3.actual, c3.model1)"
   ]
  },
  {
   "cell_type": "code",
   "execution_count": 4,
   "id": "a9605871",
   "metadata": {},
   "outputs": [
    {
     "data": {
      "text/plain": [
       "array([[182,   2],\n",
       "       [  8,   8]])"
      ]
     },
     "execution_count": 4,
     "metadata": {},
     "output_type": "execute_result"
    }
   ],
   "source": [
    "confusion_matrix(c3.actual, c3.model1, labels=('No Defect', 'Defect'))"
   ]
  },
  {
   "cell_type": "code",
   "execution_count": 5,
   "id": "69156429",
   "metadata": {},
   "outputs": [
    {
     "data": {
      "text/plain": [
       "2"
      ]
     },
     "execution_count": 5,
     "metadata": {},
     "output_type": "execute_result"
    }
   ],
   "source": [
    "confusion_matrix(c3.actual, c3.model1, labels=('No Defect', 'Defect'))[0, 1]"
   ]
  },
  {
   "cell_type": "markdown",
   "id": "67e964fd",
   "metadata": {},
   "source": [
    "##### 3a. An internal team wants to investigate the cause of the manufacturing defects. They tell you that they want to identify as many of the ducks that have a defect as possible. Which evaluation metric would be appropriate here? Which model would be the best fit for this use case?"
   ]
  },
  {
   "cell_type": "markdown",
   "id": "af09939a",
   "metadata": {},
   "source": [
    "Assuming 'No Defect' is desired outcome...\n",
    "\n",
    "I want a model to predict the most defects...\n",
    "\n",
    "I want to use specificity:\n",
    "\n",
    "TN / (FP + TN)\n",
    "\n",
    "- TN df[col][1, 1]\n",
    "    - Predicted Defect\n",
    "    - Actual Defect\n",
    "- FP df[col][0, 1]\n",
    "    - Predicted No Defect\n",
    "    - Actual Defect"
   ]
  },
  {
   "cell_type": "code",
   "execution_count": 6,
   "id": "35d60e45",
   "metadata": {},
   "outputs": [
    {
     "name": "stdout",
     "output_type": "stream",
     "text": [
      "\u001b[32mactual:\u001b[0m 100.00%\n",
      "\n",
      "\u001b[32mmodel1:\u001b[0m 80.00%\n",
      "\n",
      "\u001b[32mmodel2:\u001b[0m 10.00%\n",
      "\n",
      "\u001b[32mmodel3:\u001b[0m 13.13%\n",
      "\n",
      "\u001b[31mHIGHEST VALUE =\u001b[0m \u001b[32mmodel1\u001b[0m: 80.00%\n",
      "\u001b[31mLOWEST VALUE =\u001b[0m \u001b[32mmodel2\u001b[0m: 10.00%\n"
     ]
    }
   ],
   "source": [
    "evaluation.specificity(c3, 'actual', 'No Defect', 'Defect')"
   ]
  },
  {
   "cell_type": "code",
   "execution_count": 7,
   "id": "41ada0d3",
   "metadata": {},
   "outputs": [
    {
     "name": "stdout",
     "output_type": "stream",
     "text": [
      "\u001b[32mactual:\u001b[0m 1.0\n",
      "\n",
      "\u001b[32mmodel1:\u001b[0m 0.5\n",
      "\n",
      "\u001b[32mmodel2:\u001b[0m 0.5625\n",
      "\n",
      "\u001b[32mmodel3:\u001b[0m 0.8125\n",
      "\n"
     ]
    }
   ],
   "source": [
    "for col in c3:\n",
    "    matrix = confusion_matrix(c3.actual, c3[col], labels=('No Defect', 'Defect'))\n",
    "    result = (matrix[1, 1] / (matrix[1, 0] + matrix[1, 1]))\n",
    "    print(f'\\033[32m{col}:\\033[0m {result}\\n')"
   ]
  },
  {
   "cell_type": "markdown",
   "id": "393f7bc8",
   "metadata": {},
   "source": [
    "model3 is the best model to predict defects"
   ]
  },
  {
   "cell_type": "markdown",
   "id": "7b623d3d",
   "metadata": {},
   "source": [
    "##### 3b. Recently several stories in the local news have come out highlighting customers who received a rubber duck with a defect, and portraying C3 in a bad light. The PR team has decided to launch a program that gives customers with a defective duck a vacation to Hawaii. They need you to predict which ducks will have defects, but tell you the really don't want to accidentally give out a vacation package when the duck really doesn't have a defect. Which evaluation metric would be appropriate here? Which model would be the best fit for this use case?"
   ]
  },
  {
   "cell_type": "markdown",
   "id": "0518c249",
   "metadata": {},
   "source": [
    "Assuming 'No Defect' is the desired outcome...\n",
    "\n",
    "I want the model with the best prediction to actual...\n",
    "\n",
    "I want to use accuracy:\n",
    "\n",
    "(TP + TN) / (TP + FP + FN + TN)"
   ]
  },
  {
   "cell_type": "code",
   "execution_count": 8,
   "id": "313d2e4f",
   "metadata": {},
   "outputs": [
    {
     "name": "stdout",
     "output_type": "stream",
     "text": [
      "\u001b[32mactual:\u001b[0m 100.00%\n",
      "\n",
      "\u001b[32mmodel1:\u001b[0m 95.00%\n",
      "\n",
      "\u001b[32mmodel2:\u001b[0m 56.00%\n",
      "\n",
      "\u001b[32mmodel3:\u001b[0m 55.50%\n",
      "\n",
      "\u001b[31mHIGHEST VALUE =\u001b[0m \u001b[32mmodel1\u001b[0m: 95.00%\n",
      "\u001b[31mLOWEST VALUE =\u001b[0m \u001b[32mmodel3\u001b[0m: 55.50%\n"
     ]
    }
   ],
   "source": [
    "evaluation.accuracy(c3, 'actual')"
   ]
  },
  {
   "cell_type": "code",
   "execution_count": 9,
   "id": "6dbd43a4",
   "metadata": {},
   "outputs": [
    {
     "name": "stdout",
     "output_type": "stream",
     "text": [
      "\u001b[32mactual:\u001b[0m 1.0\n",
      "\n",
      "\u001b[32mmodel1:\u001b[0m 0.95\n",
      "\n",
      "\u001b[32mmodel2:\u001b[0m 0.56\n",
      "\n",
      "\u001b[32mmodel3:\u001b[0m 0.555\n",
      "\n"
     ]
    }
   ],
   "source": [
    "for col in c3:\n",
    "    ratio = (c3[col] == c3['actual']).mean()\n",
    "    print(f'\\033[32m{col}:\\033[0m {ratio}\\n')"
   ]
  },
  {
   "cell_type": "markdown",
   "id": "18b06f8b",
   "metadata": {},
   "source": [
    "model1 is the best to predict correct outcomes"
   ]
  },
  {
   "cell_type": "markdown",
   "id": "d331d297",
   "metadata": {},
   "source": [
    "Correction, if I'm looking for the model that predicts the correct outcome...\n",
    "\n",
    "Assuming 'No Defect' is the desired outcome...\n",
    "\n",
    "I want to use recall...\n",
    "\n",
    "TP / TP + FN\n",
    "- TP\n",
    "    - Predicted 'No Defect'\n",
    "    - Actual 'No Defect'\n",
    "- FN\n",
    "    - Predicted 'Defect'\n",
    "    - Actual 'No Defect"
   ]
  },
  {
   "cell_type": "code",
   "execution_count": 10,
   "id": "fea66811",
   "metadata": {},
   "outputs": [
    {
     "name": "stdout",
     "output_type": "stream",
     "text": [
      "\u001b[32mactual:\u001b[0m 100.00%\n",
      "\n",
      "\u001b[32mmodel1:\u001b[0m 95.79%\n",
      "\n",
      "\u001b[32mmodel2:\u001b[0m 93.64%\n",
      "\n",
      "\u001b[32mmodel3:\u001b[0m 97.03%\n",
      "\n",
      "\u001b[31mHIGHEST VALUE =\u001b[0m \u001b[32mmodel3\u001b[0m: 97.03%\n",
      "\u001b[31mLOWEST VALUE =\u001b[0m \u001b[32mmodel2\u001b[0m: 93.64%\n"
     ]
    }
   ],
   "source": [
    "evaluation.recall(c3, 'actual', 'No Defect', 'Defect')"
   ]
  },
  {
   "cell_type": "code",
   "execution_count": 11,
   "id": "c3ee3816",
   "metadata": {},
   "outputs": [
    {
     "name": "stdout",
     "output_type": "stream",
     "text": [
      "\u001b[32mactual:\u001b[0m 100.00%\n",
      "\u001b[32mmodel1:\u001b[0m 98.91%\n",
      "\u001b[32mmodel2:\u001b[0m 55.98%\n",
      "\u001b[32mmodel3:\u001b[0m 53.26%\n"
     ]
    }
   ],
   "source": [
    "for col in c3:\n",
    "    matrix = confusion_matrix(c3.actual, c3[col], labels=('No Defect', 'Defect'))\n",
    "    ratio = (matrix[0, 0] / (matrix[0, 0] + matrix[0, 1]))\n",
    "    print(f'\\033[32m{col}:\\033[0m {ratio:.2%}')"
   ]
  },
  {
   "cell_type": "markdown",
   "id": "44d7da03",
   "metadata": {},
   "source": [
    "<a id=\"Q4\"></a>\n",
    "### 4. You are working as a data scientist for Gives You Paws ™, a subscription based service that shows you cute pictures of dogs or cats (or both for an additional fee).\n",
    "<li><a href=\"#TableOfContents\">Table of Contents</a></li>"
   ]
  },
  {
   "cell_type": "markdown",
   "id": "63728dfa",
   "metadata": {},
   "source": [
    "At Gives You Paws, anyone can upload pictures of their cats or dogs. The photos are then put through a two step process. First an automated algorithm tags pictures as either a cat or a dog (Phase I). Next, the photos that have been initially identified are put through another round of review, possibly with some human oversight, before being presented to the users (Phase II).\n",
    "\n",
    "Several models have already been developed with the data, and <a href=\"https://ds.codeup.com/data/gives_you_paws.csv\">you can find their results here.</a>\n",
    "\n",
    "Given this dataset, use pandas to create a baseline model (i.e. a model that just predicts the most common class) and answer the following questions:"
   ]
  },
  {
   "cell_type": "code",
   "execution_count": 12,
   "id": "bebacf0d",
   "metadata": {},
   "outputs": [
    {
     "data": {
      "text/html": [
       "<div>\n",
       "<style scoped>\n",
       "    .dataframe tbody tr th:only-of-type {\n",
       "        vertical-align: middle;\n",
       "    }\n",
       "\n",
       "    .dataframe tbody tr th {\n",
       "        vertical-align: top;\n",
       "    }\n",
       "\n",
       "    .dataframe thead th {\n",
       "        text-align: right;\n",
       "    }\n",
       "</style>\n",
       "<table border=\"1\" class=\"dataframe\">\n",
       "  <thead>\n",
       "    <tr style=\"text-align: right;\">\n",
       "      <th></th>\n",
       "      <th>actual</th>\n",
       "      <th>model1</th>\n",
       "      <th>model2</th>\n",
       "      <th>model3</th>\n",
       "      <th>model4</th>\n",
       "    </tr>\n",
       "  </thead>\n",
       "  <tbody>\n",
       "    <tr>\n",
       "      <th>2857</th>\n",
       "      <td>dog</td>\n",
       "      <td>dog</td>\n",
       "      <td>dog</td>\n",
       "      <td>dog</td>\n",
       "      <td>dog</td>\n",
       "    </tr>\n",
       "  </tbody>\n",
       "</table>\n",
       "</div>"
      ],
      "text/plain": [
       "     actual model1 model2 model3 model4\n",
       "2857    dog    dog    dog    dog    dog"
      ]
     },
     "execution_count": 12,
     "metadata": {},
     "output_type": "execute_result"
    }
   ],
   "source": [
    "paws = pd.read_csv('gives_you_paws.csv')\n",
    "paws.sample()"
   ]
  },
  {
   "cell_type": "code",
   "execution_count": 13,
   "id": "8f7f02bb",
   "metadata": {},
   "outputs": [
    {
     "data": {
      "text/plain": [
       "dog    3254\n",
       "cat    1746\n",
       "Name: actual, dtype: int64"
      ]
     },
     "execution_count": 13,
     "metadata": {},
     "output_type": "execute_result"
    }
   ],
   "source": [
    "# Baseline/Frequent = dog\n",
    "paws.actual.value_counts()"
   ]
  },
  {
   "cell_type": "code",
   "execution_count": 14,
   "id": "97a5bd68",
   "metadata": {},
   "outputs": [],
   "source": [
    "paws['baseline'] = 'dog'"
   ]
  },
  {
   "cell_type": "markdown",
   "id": "b5d59d48",
   "metadata": {},
   "source": [
    "##### 4a. In terms of accuracy, how do the various models compare to the baseline model? Are any of the models better than the baseline?"
   ]
  },
  {
   "cell_type": "code",
   "execution_count": 15,
   "id": "034de844",
   "metadata": {},
   "outputs": [
    {
     "name": "stdout",
     "output_type": "stream",
     "text": [
      "\u001b[32mactual:\u001b[0m 100.00%\n",
      "\n",
      "\u001b[32mmodel1:\u001b[0m 80.74%\n",
      "\n",
      "\u001b[32mmodel2:\u001b[0m 63.04%\n",
      "\n",
      "\u001b[32mmodel3:\u001b[0m 50.96%\n",
      "\n",
      "\u001b[32mmodel4:\u001b[0m 74.26%\n",
      "\n",
      "\u001b[32mbaseline:\u001b[0m 65.08%\n",
      "\n",
      "\u001b[31mHIGHEST VALUE =\u001b[0m \u001b[32mmodel1\u001b[0m: 80.74%\n",
      "\u001b[31mLOWEST VALUE =\u001b[0m \u001b[32mmodel3\u001b[0m: 50.96%\n"
     ]
    }
   ],
   "source": [
    "evaluation.accuracy(paws, 'actual')"
   ]
  },
  {
   "cell_type": "markdown",
   "id": "54fd991e",
   "metadata": {},
   "source": [
    "models 1 and 4 do better than the baseline"
   ]
  },
  {
   "cell_type": "markdown",
   "id": "e0a555ec",
   "metadata": {},
   "source": [
    "##### 4b. Suppose you are working on a team that solely deals with dog pictures. Which of these models would you recommend?"
   ]
  },
  {
   "cell_type": "markdown",
   "id": "0548726e",
   "metadata": {},
   "source": [
    "Assuming 'dog' is the desired outcome...\n",
    "\n",
    "I want to predict 'dog'...\n",
    "\n",
    "I want to use precision...\n",
    "\n",
    "TP / (TP + FP)\n",
    "- TP\n",
    "    - Predicted dog\n",
    "    - Actual dog\n",
    "- FP\n",
    "    - Predicted cat\n",
    "    - Actual dog"
   ]
  },
  {
   "cell_type": "code",
   "execution_count": 16,
   "id": "5190ab41",
   "metadata": {},
   "outputs": [
    {
     "name": "stdout",
     "output_type": "stream",
     "text": [
      "\u001b[32mactual:\u001b[0m 100.00%\n",
      "\n",
      "\u001b[32mmodel1:\u001b[0m 80.33%\n",
      "\n",
      "\u001b[32mmodel2:\u001b[0m 49.08%\n",
      "\n",
      "\u001b[32mmodel3:\u001b[0m 50.86%\n",
      "\n",
      "\u001b[32mmodel4:\u001b[0m 95.57%\n",
      "\n",
      "\u001b[32mbaseline:\u001b[0m 100.00%\n",
      "\n",
      "\u001b[31mHIGHEST VALUE =\u001b[0m \u001b[32mbaseline\u001b[0m: 100.00%\n",
      "\u001b[31mLOWEST VALUE =\u001b[0m \u001b[32mmodel2\u001b[0m: 49.08%\n"
     ]
    }
   ],
   "source": [
    "evaluation.precision(paws, 'actual', 'dog', 'cat')"
   ]
  },
  {
   "cell_type": "code",
   "execution_count": 17,
   "id": "b98f60e2",
   "metadata": {},
   "outputs": [
    {
     "name": "stdout",
     "output_type": "stream",
     "text": [
      "\u001b[32mactual:\u001b[0m 100.00%\n",
      "\u001b[32mmodel1:\u001b[0m 80.33%\n",
      "\u001b[32mmodel2:\u001b[0m 49.08%\n",
      "\u001b[32mmodel3:\u001b[0m 50.86%\n",
      "\u001b[32mmodel4:\u001b[0m 95.57%\n",
      "\u001b[32mbaseline:\u001b[0m 100.00%\n"
     ]
    }
   ],
   "source": [
    "for col in paws:\n",
    "    matrix = confusion_matrix(paws.actual, paws[col], labels=('dog', 'cat'))\n",
    "    ratio = (matrix[0, 0] / (matrix[0, 0] + matrix[0, 1]))\n",
    "    print(f'\\033[32m{col}:\\033[0m {ratio:.2%}')"
   ]
  },
  {
   "cell_type": "markdown",
   "id": "8d948d0d",
   "metadata": {},
   "source": [
    "model4 is the best at predicting 'dog'"
   ]
  },
  {
   "cell_type": "markdown",
   "id": "075eca79",
   "metadata": {},
   "source": [
    "##### 4c. Suppose you are working on a team that solely deals with cat pictures. Which of these models would you recommend?"
   ]
  },
  {
   "cell_type": "markdown",
   "id": "4d532319",
   "metadata": {},
   "source": [
    "Assuming 'cat' is the desired outcome...\n",
    "\n",
    "I want the model that predicts 'cat' the best...\n",
    "\n",
    "I want to use precision...\n",
    "\n",
    "TP / (TP + FP)\n",
    "- TP\n",
    "    - Predicted cat\n",
    "    - Actual cat\n",
    "- FP\n",
    "    - Predicted dog\n",
    "    - Actual cat"
   ]
  },
  {
   "cell_type": "code",
   "execution_count": 18,
   "id": "28a0316d",
   "metadata": {},
   "outputs": [
    {
     "name": "stdout",
     "output_type": "stream",
     "text": [
      "\u001b[32mactual:\u001b[0m 100.00%\n",
      "\n",
      "\u001b[32mmodel1:\u001b[0m 81.50%\n",
      "\n",
      "\u001b[32mmodel2:\u001b[0m 89.06%\n",
      "\n",
      "\u001b[32mmodel3:\u001b[0m 51.15%\n",
      "\n",
      "\u001b[32mmodel4:\u001b[0m 34.54%\n",
      "\n",
      "\u001b[32mbaseline:\u001b[0m 0.00%\n",
      "\n",
      "\u001b[31mHIGHEST VALUE =\u001b[0m \u001b[32mmodel2\u001b[0m: 89.06%\n",
      "\u001b[31mLOWEST VALUE =\u001b[0m \u001b[32mbaseline\u001b[0m: 0.00%\n"
     ]
    }
   ],
   "source": [
    "evaluation.precision(paws, 'actual', 'cat', 'dog')"
   ]
  },
  {
   "cell_type": "markdown",
   "id": "3228e857",
   "metadata": {},
   "source": [
    "model1 is the best model"
   ]
  },
  {
   "cell_type": "markdown",
   "id": "ac26ed76",
   "metadata": {},
   "source": [
    "<a id=\"Q5\"></a>\n",
    "### 5. Follow the links below to read the documentation about each function, then apply those functions to the data from the previous problem.\n",
    "<li><a href=\"#TableOfContents\">Table of Contents</a></li>"
   ]
  },
  {
   "cell_type": "markdown",
   "id": "f8fae85a",
   "metadata": {},
   "source": [
    "##### 5a. <a href=\"https://scikit-learn.org/stable/modules/generated/sklearn.metrics.accuracy_score.html\">sklearn.metrics.accuracy_score</a>"
   ]
  },
  {
   "cell_type": "code",
   "execution_count": 19,
   "id": "5486d593",
   "metadata": {},
   "outputs": [
    {
     "data": {
      "text/plain": [
       "0.8074"
      ]
     },
     "execution_count": 19,
     "metadata": {},
     "output_type": "execute_result"
    }
   ],
   "source": [
    "sklearn.metrics.accuracy_score(paws.actual, paws.model1)"
   ]
  },
  {
   "cell_type": "markdown",
   "id": "cefd8923",
   "metadata": {},
   "source": [
    "##### 5b. <a href=\"https://scikit-learn.org/stable/modules/generated/sklearn.metrics.precision_score.html\">sklearn.metrics.precision_score</a>"
   ]
  },
  {
   "cell_type": "code",
   "execution_count": 20,
   "id": "ff3345b3",
   "metadata": {},
   "outputs": [
    {
     "data": {
      "text/plain": [
       "0.8900238338440586"
      ]
     },
     "execution_count": 20,
     "metadata": {},
     "output_type": "execute_result"
    }
   ],
   "source": [
    "sklearn.metrics.precision_score(paws.actual, paws.model1, labels=['cat', 'dog'], pos_label='dog')"
   ]
  },
  {
   "cell_type": "markdown",
   "id": "5ea6da0a",
   "metadata": {},
   "source": [
    "##### 5c. <a href=\"https://scikit-learn.org/stable/modules/generated/sklearn.metrics.recall_score.html\">sklearn.metrics.recall_score</a>"
   ]
  },
  {
   "cell_type": "code",
   "execution_count": 21,
   "id": "88455916",
   "metadata": {},
   "outputs": [
    {
     "data": {
      "text/plain": [
       "0.9891304347826086"
      ]
     },
     "execution_count": 21,
     "metadata": {},
     "output_type": "execute_result"
    }
   ],
   "source": [
    "sklearn.metrics.recall_score(c3.actual, c3.model1, labels=['No Defect', 'Defect'], pos_label='No Defect')"
   ]
  },
  {
   "cell_type": "markdown",
   "id": "8203c473",
   "metadata": {},
   "source": [
    "##### 5d. <a href=\"https://scikit-learn.org/stable/modules/generated/sklearn.metrics.classification_report.html\">sklearn.metrics.classification_report</a>"
   ]
  },
  {
   "cell_type": "code",
   "execution_count": 22,
   "id": "025baffd",
   "metadata": {},
   "outputs": [
    {
     "data": {
      "text/plain": [
       "'              precision    recall  f1-score   support\\n\\n         dog       0.89      0.80      0.84      3254\\n         cat       0.69      0.82      0.75      1746\\n\\n    accuracy                           0.81      5000\\n   macro avg       0.79      0.81      0.80      5000\\nweighted avg       0.82      0.81      0.81      5000\\n'"
      ]
     },
     "execution_count": 22,
     "metadata": {},
     "output_type": "execute_result"
    }
   ],
   "source": [
    "sklearn.metrics.classification_report(paws.actual, paws.model1, labels=['dog', 'cat'])"
   ]
  },
  {
   "cell_type": "markdown",
   "id": "9bfba0c0",
   "metadata": {},
   "source": [
    "<a id=\"testing\"></a>\n",
    "### TESTING (evaluation.py)\n",
    "<li><a href=\"#TableOfContents\">Table of Contents</a></li>"
   ]
  },
  {
   "cell_type": "code",
   "execution_count": 23,
   "id": "bb589cec",
   "metadata": {},
   "outputs": [
    {
     "name": "stdout",
     "output_type": "stream",
     "text": [
      "\u001b[32mactual:\u001b[0m 100.00%\n",
      "\n",
      "\u001b[32mmodel1:\u001b[0m 80.74%\n",
      "\n",
      "\u001b[32mmodel2:\u001b[0m 63.04%\n",
      "\n",
      "\u001b[32mmodel3:\u001b[0m 50.96%\n",
      "\n",
      "\u001b[32mmodel4:\u001b[0m 74.26%\n",
      "\n",
      "\u001b[32mbaseline:\u001b[0m 65.08%\n",
      "\n",
      "\u001b[31mHIGHEST VALUE =\u001b[0m \u001b[32mmodel1\u001b[0m: 80.74%\n",
      "\u001b[31mLOWEST VALUE =\u001b[0m \u001b[32mmodel3\u001b[0m: 50.96%\n"
     ]
    }
   ],
   "source": [
    "# Accuracy\n",
    "evaluation.accuracy(paws, 'actual')"
   ]
  },
  {
   "cell_type": "code",
   "execution_count": 24,
   "id": "e41af24c",
   "metadata": {},
   "outputs": [
    {
     "name": "stdout",
     "output_type": "stream",
     "text": [
      "\u001b[32mactual:\u001b[0m 100.00%\n",
      "\n",
      "\u001b[32mmodel1:\u001b[0m 80.33%\n",
      "\n",
      "\u001b[32mmodel2:\u001b[0m 49.08%\n",
      "\n",
      "\u001b[32mmodel3:\u001b[0m 50.86%\n",
      "\n",
      "\u001b[32mmodel4:\u001b[0m 95.57%\n",
      "\n",
      "\u001b[32mbaseline:\u001b[0m 100.00%\n",
      "\n",
      "\u001b[31mHIGHEST VALUE =\u001b[0m \u001b[32mbaseline\u001b[0m: 100.00%\n",
      "\u001b[31mLOWEST VALUE =\u001b[0m \u001b[32mmodel2\u001b[0m: 49.08%\n"
     ]
    }
   ],
   "source": [
    "# Precision\n",
    "evaluation.precision(paws, 'actual', 'dog', 'cat')"
   ]
  },
  {
   "cell_type": "code",
   "execution_count": 25,
   "id": "a0aaf88a",
   "metadata": {},
   "outputs": [
    {
     "name": "stdout",
     "output_type": "stream",
     "text": [
      "\u001b[32mactual:\u001b[0m 100.00%\n",
      "\n",
      "\u001b[32mmodel1:\u001b[0m 89.00%\n",
      "\n",
      "\u001b[32mmodel2:\u001b[0m 89.32%\n",
      "\n",
      "\u001b[32mmodel3:\u001b[0m 65.99%\n",
      "\n",
      "\u001b[32mmodel4:\u001b[0m 73.12%\n",
      "\n",
      "\u001b[32mbaseline:\u001b[0m 65.08%\n",
      "\n",
      "\u001b[31mHIGHEST VALUE =\u001b[0m \u001b[32mmodel2\u001b[0m: 89.32%\n",
      "\u001b[31mLOWEST VALUE =\u001b[0m \u001b[32mbaseline\u001b[0m: 65.08%\n"
     ]
    }
   ],
   "source": [
    "# Recall\n",
    "evaluation.recall(paws, 'actual', 'dog', 'cat')"
   ]
  },
  {
   "cell_type": "code",
   "execution_count": 26,
   "id": "3a0432bf",
   "metadata": {},
   "outputs": [
    {
     "name": "stdout",
     "output_type": "stream",
     "text": [
      "\u001b[32mactual:\u001b[0m 100.00%\n",
      "\n",
      "\u001b[32mmodel1:\u001b[0m 89.00%\n",
      "\n",
      "\u001b[32mmodel2:\u001b[0m 89.32%\n",
      "\n",
      "\u001b[32mmodel3:\u001b[0m 65.99%\n",
      "\n",
      "\u001b[32mmodel4:\u001b[0m 73.12%\n",
      "\n",
      "\u001b[32mbaseline:\u001b[0m 65.08%\n",
      "\n",
      "\u001b[31mHIGHEST VALUE =\u001b[0m \u001b[32mmodel2\u001b[0m: 89.32%\n",
      "\u001b[31mLOWEST VALUE =\u001b[0m \u001b[32mbaseline\u001b[0m: 65.08%\n"
     ]
    }
   ],
   "source": [
    "# Sensitivity (True Positive Rate)\n",
    "evaluation.sensitivity_true_positive_rate(paws, 'actual', 'dog', 'cat')"
   ]
  },
  {
   "cell_type": "code",
   "execution_count": 27,
   "id": "320c7413",
   "metadata": {},
   "outputs": [
    {
     "name": "stdout",
     "output_type": "stream",
     "text": [
      "\u001b[32mactual:\u001b[0m 100.00%\n",
      "\n",
      "\u001b[32mmodel1:\u001b[0m 68.98%\n",
      "\n",
      "\u001b[32mmodel2:\u001b[0m 48.41%\n",
      "\n",
      "\u001b[32mmodel3:\u001b[0m 35.83%\n",
      "\n",
      "\u001b[32mmodel4:\u001b[0m 80.72%\n",
      "\n",
      "\u001b[32mbaseline:\u001b[0m nan%\n",
      "\n",
      "\u001b[31mHIGHEST VALUE =\u001b[0m \u001b[32mmodel4\u001b[0m: 80.72%\n",
      "\u001b[31mLOWEST VALUE =\u001b[0m \u001b[32mmodel3\u001b[0m: 35.83%\n"
     ]
    },
    {
     "name": "stderr",
     "output_type": "stream",
     "text": [
      "/Users/manupfool/codeup-data-science/classification-exercises/evaluation.py:60: RuntimeWarning: invalid value encountered in long_scalars\n",
      "  result = (matrix[1, 1] / (matrix[0, 1] + matrix[1, 1]))\n"
     ]
    }
   ],
   "source": [
    "# Specificity\n",
    "evaluation.specificity(paws, 'actual', 'dog', 'cat')"
   ]
  },
  {
   "cell_type": "code",
   "execution_count": 28,
   "id": "43b785eb",
   "metadata": {},
   "outputs": [
    {
     "name": "stdout",
     "output_type": "stream",
     "text": [
      "\u001b[32mactual:\u001b[0m 100.00%\n",
      "\n",
      "\u001b[32mmodel1:\u001b[0m 81.50%\n",
      "\n",
      "\u001b[32mmodel2:\u001b[0m 89.06%\n",
      "\n",
      "\u001b[32mmodel3:\u001b[0m 51.15%\n",
      "\n",
      "\u001b[32mmodel4:\u001b[0m 34.54%\n",
      "\n",
      "\u001b[32mbaseline:\u001b[0m 0.00%\n",
      "\n",
      "\u001b[31mHIGHEST VALUE =\u001b[0m \u001b[32mmodel2\u001b[0m: 89.06%\n",
      "\u001b[31mLOWEST VALUE =\u001b[0m \u001b[32mbaseline\u001b[0m: 0.00%\n"
     ]
    }
   ],
   "source": [
    "# Negative Predicitive Value\n",
    "evaluation.negative_predictive_value(paws, 'actual', 'dog', 'cat')"
   ]
  },
  {
   "cell_type": "code",
   "execution_count": 29,
   "id": "84e38985",
   "metadata": {},
   "outputs": [
    {
     "name": "stdout",
     "output_type": "stream",
     "text": [
      "\u001b[32mactual:\u001b[0m 50.00%\n",
      "\n",
      "\u001b[32mmodel1:\u001b[0m 42.22%\n",
      "\n",
      "\u001b[32mmodel2:\u001b[0m 31.67%\n",
      "\n",
      "\u001b[32mmodel3:\u001b[0m 28.72%\n",
      "\n",
      "\u001b[32mmodel4:\u001b[0m 41.43%\n",
      "\n",
      "\u001b[32mbaseline:\u001b[0m 39.42%\n",
      "\n",
      "\u001b[31mHIGHEST VALUE =\u001b[0m \u001b[32mmodel1\u001b[0m: 42.22%\n",
      "\u001b[31mLOWEST VALUE =\u001b[0m \u001b[32mmodel3\u001b[0m: 28.72%\n"
     ]
    }
   ],
   "source": [
    "# F1 Score\n",
    "evaluation.f1_score(paws, 'actual', 'dog', 'cat')"
   ]
  }
 ],
 "metadata": {
  "kernelspec": {
   "display_name": "Python 3 (ipykernel)",
   "language": "python",
   "name": "python3"
  },
  "language_info": {
   "codemirror_mode": {
    "name": "ipython",
    "version": 3
   },
   "file_extension": ".py",
   "mimetype": "text/x-python",
   "name": "python",
   "nbconvert_exporter": "python",
   "pygments_lexer": "ipython3",
   "version": "3.9.13"
  }
 },
 "nbformat": 4,
 "nbformat_minor": 5
}
